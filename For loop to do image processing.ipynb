{
 "cells": [
  {
   "cell_type": "code",
   "execution_count": 2,
   "metadata": {},
   "outputs": [
    {
     "name": "stderr",
     "output_type": "stream",
     "text": [
      "Using TensorFlow backend.\n"
     ]
    }
   ],
   "source": [
    "%run functions.py"
   ]
  },
  {
   "cell_type": "code",
   "execution_count": 3,
   "metadata": {},
   "outputs": [],
   "source": [
    "import pickle\n",
    "#make a big dictionary with all the images\n",
    "master_dict=dict()\n",
    "for i in range(2,8):\n",
    "    name='segmented_{}.p'.format(i)\n",
    "    temp=pickle.load(open(name,'rb'))\n",
    "    master_dict.update(temp)"
   ]
  },
  {
   "cell_type": "code",
   "execution_count": 4,
   "metadata": {},
   "outputs": [],
   "source": [
    "import multiprocessing"
   ]
  },
  {
   "cell_type": "code",
   "execution_count": 16,
   "metadata": {},
   "outputs": [
    {
     "data": {
      "text/plain": [
       "<matplotlib.image.AxesImage at 0x7fb0663b1d68>"
      ]
     },
     "execution_count": 16,
     "metadata": {},
     "output_type": "execute_result"
    },
    {
     "data": {
      "image/png": "[encoded data removed]",
      "text/plain": [
       "<Figure size 432x288 with 1 Axes>"
      ]
     },
     "metadata": {
      "needs_background": "light"
     },
     "output_type": "display_data"
    }
   ],
   "source": [
    "imshow(master_dict['ISIC_0027855_segmented'])"
   ]
  },
  {
   "cell_type": "code",
   "execution_count": 5,
   "metadata": {},
   "outputs": [],
   "source": [
    "path=\"/home/seo/ISIC DATA/\"\n",
    "filelist=os.listdir(path)\n",
    "meta=[file for file in filelist if not file.endswith(\".jpeg\") and not file.endswith(\".png\") and file.startswith(\"ISIC\")]\n",
    "pics=[file for file in filelist if (file.endswith(\".jpeg\") or file.endswith(\".png\")) and file.startswith(\"ISIC\")]"
   ]
  },
  {
   "cell_type": "code",
   "execution_count": 6,
   "metadata": {},
   "outputs": [],
   "source": [
    "img=master_dict['ISIC_0027855_segmented']\n",
    "orig_img=call_image('/home/seo/ISIC DATA/ISIC_0027855.jpeg')"
   ]
  },
  {
   "cell_type": "code",
   "execution_count": 7,
   "metadata": {},
   "outputs": [
    {
     "name": "stderr",
     "output_type": "stream",
     "text": [
      "WARNING: Logging before flag parsing goes to stderr.\n",
      "W0728 13:05:55.771229 139792148260672 deprecation_wrapper.py:119] From /home/seo/environments/my_env/lib/python3.6/site-packages/keras/backend/tensorflow_backend.py:517: The name tf.placeholder is deprecated. Please use tf.compat.v1.placeholder instead.\n",
      "\n",
      "W0728 13:05:55.792601 139792148260672 deprecation_wrapper.py:119] From /home/seo/environments/my_env/lib/python3.6/site-packages/keras/backend/tensorflow_backend.py:4185: The name tf.truncated_normal is deprecated. Please use tf.random.truncated_normal instead.\n",
      "\n",
      "W0728 13:05:55.823710 139792148260672 deprecation_wrapper.py:119] From /home/seo/environments/my_env/lib/python3.6/site-packages/keras/backend/tensorflow_backend.py:245: The name tf.get_default_graph is deprecated. Please use tf.compat.v1.get_default_graph instead.\n",
      "\n",
      "W0728 13:05:55.825262 139792148260672 deprecation_wrapper.py:119] From /home/seo/environments/my_env/lib/python3.6/site-packages/keras/backend/tensorflow_backend.py:174: The name tf.get_default_session is deprecated. Please use tf.compat.v1.get_default_session instead.\n",
      "\n",
      "W0728 13:05:55.826256 139792148260672 deprecation_wrapper.py:119] From /home/seo/environments/my_env/lib/python3.6/site-packages/keras/backend/tensorflow_backend.py:181: The name tf.ConfigProto is deprecated. Please use tf.compat.v1.ConfigProto instead.\n",
      "\n",
      "W0728 13:05:55.871360 139792148260672 deprecation_wrapper.py:119] From /home/seo/environments/my_env/lib/python3.6/site-packages/keras/backend/tensorflow_backend.py:1834: The name tf.nn.fused_batch_norm is deprecated. Please use tf.compat.v1.nn.fused_batch_norm instead.\n",
      "\n",
      "W0728 13:05:55.948660 139792148260672 deprecation_wrapper.py:119] From /home/seo/environments/my_env/lib/python3.6/site-packages/keras/backend/tensorflow_backend.py:3976: The name tf.nn.max_pool is deprecated. Please use tf.nn.max_pool2d instead.\n",
      "\n",
      "W0728 13:05:55.957064 139792148260672 deprecation.py:506] From /home/seo/environments/my_env/lib/python3.6/site-packages/keras/backend/tensorflow_backend.py:3445: calling dropout (from tensorflow.python.ops.nn_ops) with keep_prob is deprecated and will be removed in a future version.\n",
      "Instructions for updating:\n",
      "Please use `rate` instead of `keep_prob`. Rate should be set to `rate = 1 - keep_prob`.\n",
      "W0728 13:05:57.786570 139792148260672 deprecation_wrapper.py:119] From /home/seo/environments/my_env/lib/python3.6/site-packages/keras/optimizers.py:790: The name tf.train.Optimizer is deprecated. Please use tf.compat.v1.train.Optimizer instead.\n",
      "\n",
      "W0728 13:05:57.799106 139792148260672 deprecation.py:323] From /home/seo/environments/my_env/lib/python3.6/site-packages/tensorflow/python/ops/nn_impl.py:180: add_dispatch_support.<locals>.wrapper (from tensorflow.python.ops.array_ops) is deprecated and will be removed in a future version.\n",
      "Instructions for updating:\n",
      "Use tf.where in 2.0, which has the same broadcast rule as np.where\n"
     ]
    }
   ],
   "source": [
    "model=pickle.load(open('model_fitted.pickle',\"rb\"))"
   ]
  },
  {
   "cell_type": "code",
   "execution_count": 8,
   "metadata": {},
   "outputs": [
    {
     "ename": "NameError",
     "evalue": "name 'resized' is not defined",
     "output_type": "error",
     "traceback": [
      "\u001b[0;31m---------------------------------------------------------------------------\u001b[0m",
      "\u001b[0;31mNameError\u001b[0m                                 Traceback (most recent call last)",
      "\u001b[0;32m<ipython-input-8-e8b37a842784>\u001b[0m in \u001b[0;36m<module>\u001b[0;34m\u001b[0m\n\u001b[0;32m----> 1\u001b[0;31m \u001b[0m_\u001b[0m\u001b[0;34m,\u001b[0m \u001b[0mpred\u001b[0m\u001b[0;34m=\u001b[0m\u001b[0mprediction\u001b[0m\u001b[0;34m(\u001b[0m\u001b[0mmodel\u001b[0m\u001b[0;34m,\u001b[0m\u001b[0mresized\u001b[0m\u001b[0;34m)\u001b[0m\u001b[0;34m\u001b[0m\u001b[0;34m\u001b[0m\u001b[0m\n\u001b[0m",
      "\u001b[0;31mNameError\u001b[0m: name 'resized' is not defined"
     ]
    }
   ],
   "source": [
    "_, pred=prediction(model,resized)"
   ]
  },
  {
   "cell_type": "code",
   "execution_count": 10,
   "metadata": {},
   "outputs": [
    {
     "name": "stderr",
     "output_type": "stream",
     "text": [
      "/home/seo/environments/my_env/lib/python3.6/site-packages/skimage/io/_plugins/matplotlib_plugin.py:75: UserWarning: Low image data range; displaying image with stretched contrast.\n",
      "  warn(\"Low image data range; displaying image with \"\n"
     ]
    },
    {
     "data": {
      "text/plain": [
       "<matplotlib.image.AxesImage at 0x7f232bb63630>"
      ]
     },
     "execution_count": 10,
     "metadata": {},
     "output_type": "execute_result"
    },
    {
     "data": {
      "image/png": "[encoded data removed]",
      "text/plain": [
       "<Figure size 432x288 with 2 Axes>"
      ]
     },
     "metadata": {
      "needs_background": "light"
     },
     "output_type": "display_data"
    }
   ],
   "source": [
    "imshow(pred.squeeze())"
   ]
  },
  {
   "cell_type": "code",
   "execution_count": 14,
   "metadata": {},
   "outputs": [],
   "source": [
    "cnts,h=cv2.findContours(mask,cv2.RETR_EXTERNAL,cv2.CHAIN_APPROX_NONE )"
   ]
  },
  {
   "cell_type": "code",
   "execution_count": null,
   "metadata": {},
   "outputs": [],
   "source": [
    "        cnts,h=cv2.findContours(mask,cv2.RETR_EXTERNAL,cv2.CHAIN_APPROX_NONE )\n",
    "        contour=cnts[0]\n"
   ]
  },
  {
   "cell_type": "code",
   "execution_count": 15,
   "metadata": {},
   "outputs": [
    {
     "data": {
      "text/plain": [
       "array([[[71, 40]],\n",
       "\n",
       "       [[70, 41]],\n",
       "\n",
       "       [[69, 41]],\n",
       "\n",
       "       [[68, 42]],\n",
       "\n",
       "       [[67, 42]],\n",
       "\n",
       "       [[66, 43]],\n",
       "\n",
       "       [[65, 43]],\n",
       "\n",
       "       [[64, 43]],\n",
       "\n",
       "       [[63, 43]],\n",
       "\n",
       "       [[62, 43]],\n",
       "\n",
       "       [[61, 43]],\n",
       "\n",
       "       [[60, 43]],\n",
       "\n",
       "       [[59, 44]],\n",
       "\n",
       "       [[58, 44]],\n",
       "\n",
       "       [[57, 44]],\n",
       "\n",
       "       [[56, 45]],\n",
       "\n",
       "       [[55, 45]],\n",
       "\n",
       "       [[54, 45]],\n",
       "\n",
       "       [[53, 45]],\n",
       "\n",
       "       [[52, 46]],\n",
       "\n",
       "       [[51, 46]],\n",
       "\n",
       "       [[50, 47]],\n",
       "\n",
       "       [[49, 48]],\n",
       "\n",
       "       [[48, 49]],\n",
       "\n",
       "       [[47, 50]],\n",
       "\n",
       "       [[47, 51]],\n",
       "\n",
       "       [[46, 52]],\n",
       "\n",
       "       [[46, 53]],\n",
       "\n",
       "       [[45, 54]],\n",
       "\n",
       "       [[45, 55]],\n",
       "\n",
       "       [[44, 56]],\n",
       "\n",
       "       [[44, 57]],\n",
       "\n",
       "       [[44, 58]],\n",
       "\n",
       "       [[44, 59]],\n",
       "\n",
       "       [[43, 60]],\n",
       "\n",
       "       [[43, 61]],\n",
       "\n",
       "       [[43, 62]],\n",
       "\n",
       "       [[43, 63]],\n",
       "\n",
       "       [[42, 64]],\n",
       "\n",
       "       [[42, 65]],\n",
       "\n",
       "       [[42, 66]],\n",
       "\n",
       "       [[42, 67]],\n",
       "\n",
       "       [[42, 68]],\n",
       "\n",
       "       [[42, 69]],\n",
       "\n",
       "       [[42, 70]],\n",
       "\n",
       "       [[42, 71]],\n",
       "\n",
       "       [[42, 72]],\n",
       "\n",
       "       [[42, 73]],\n",
       "\n",
       "       [[42, 74]],\n",
       "\n",
       "       [[42, 75]],\n",
       "\n",
       "       [[42, 76]],\n",
       "\n",
       "       [[43, 77]],\n",
       "\n",
       "       [[43, 78]],\n",
       "\n",
       "       [[44, 79]],\n",
       "\n",
       "       [[44, 80]],\n",
       "\n",
       "       [[44, 81]],\n",
       "\n",
       "       [[44, 82]],\n",
       "\n",
       "       [[45, 83]],\n",
       "\n",
       "       [[46, 84]],\n",
       "\n",
       "       [[47, 85]],\n",
       "\n",
       "       [[48, 85]],\n",
       "\n",
       "       [[49, 86]],\n",
       "\n",
       "       [[50, 87]],\n",
       "\n",
       "       [[51, 88]],\n",
       "\n",
       "       [[52, 88]],\n",
       "\n",
       "       [[53, 89]],\n",
       "\n",
       "       [[54, 89]],\n",
       "\n",
       "       [[55, 90]],\n",
       "\n",
       "       [[56, 90]],\n",
       "\n",
       "       [[57, 91]],\n",
       "\n",
       "       [[58, 91]],\n",
       "\n",
       "       [[59, 91]],\n",
       "\n",
       "       [[60, 91]],\n",
       "\n",
       "       [[61, 91]],\n",
       "\n",
       "       [[62, 91]],\n",
       "\n",
       "       [[63, 91]],\n",
       "\n",
       "       [[64, 91]],\n",
       "\n",
       "       [[65, 91]],\n",
       "\n",
       "       [[66, 91]],\n",
       "\n",
       "       [[67, 90]],\n",
       "\n",
       "       [[68, 90]],\n",
       "\n",
       "       [[69, 89]],\n",
       "\n",
       "       [[70, 89]],\n",
       "\n",
       "       [[71, 88]],\n",
       "\n",
       "       [[71, 87]],\n",
       "\n",
       "       [[72, 86]],\n",
       "\n",
       "       [[72, 85]],\n",
       "\n",
       "       [[73, 84]],\n",
       "\n",
       "       [[73, 83]],\n",
       "\n",
       "       [[74, 82]],\n",
       "\n",
       "       [[74, 81]],\n",
       "\n",
       "       [[75, 80]],\n",
       "\n",
       "       [[75, 79]],\n",
       "\n",
       "       [[75, 78]],\n",
       "\n",
       "       [[75, 77]],\n",
       "\n",
       "       [[76, 76]],\n",
       "\n",
       "       [[76, 75]],\n",
       "\n",
       "       [[76, 74]],\n",
       "\n",
       "       [[77, 73]],\n",
       "\n",
       "       [[77, 72]],\n",
       "\n",
       "       [[77, 71]],\n",
       "\n",
       "       [[77, 70]],\n",
       "\n",
       "       [[78, 69]],\n",
       "\n",
       "       [[78, 68]],\n",
       "\n",
       "       [[79, 67]],\n",
       "\n",
       "       [[79, 66]],\n",
       "\n",
       "       [[80, 65]],\n",
       "\n",
       "       [[81, 64]],\n",
       "\n",
       "       [[81, 63]],\n",
       "\n",
       "       [[82, 62]],\n",
       "\n",
       "       [[83, 61]],\n",
       "\n",
       "       [[83, 60]],\n",
       "\n",
       "       [[84, 59]],\n",
       "\n",
       "       [[85, 58]],\n",
       "\n",
       "       [[85, 57]],\n",
       "\n",
       "       [[85, 56]],\n",
       "\n",
       "       [[86, 55]],\n",
       "\n",
       "       [[86, 54]],\n",
       "\n",
       "       [[86, 53]],\n",
       "\n",
       "       [[87, 52]],\n",
       "\n",
       "       [[87, 51]],\n",
       "\n",
       "       [[87, 50]],\n",
       "\n",
       "       [[87, 49]],\n",
       "\n",
       "       [[87, 48]],\n",
       "\n",
       "       [[87, 47]],\n",
       "\n",
       "       [[87, 46]],\n",
       "\n",
       "       [[87, 45]],\n",
       "\n",
       "       [[87, 44]],\n",
       "\n",
       "       [[86, 43]],\n",
       "\n",
       "       [[85, 42]],\n",
       "\n",
       "       [[84, 41]],\n",
       "\n",
       "       [[83, 41]],\n",
       "\n",
       "       [[82, 41]],\n",
       "\n",
       "       [[81, 41]],\n",
       "\n",
       "       [[80, 41]],\n",
       "\n",
       "       [[79, 40]],\n",
       "\n",
       "       [[78, 40]],\n",
       "\n",
       "       [[77, 40]],\n",
       "\n",
       "       [[76, 40]],\n",
       "\n",
       "       [[75, 40]],\n",
       "\n",
       "       [[74, 40]],\n",
       "\n",
       "       [[73, 40]],\n",
       "\n",
       "       [[72, 40]]], dtype=int32)"
      ]
     },
     "execution_count": 15,
     "metadata": {},
     "output_type": "execute_result"
    }
   ],
   "source": [
    "contour=cnts[0]\n",
    "contour"
   ]
  },
  {
   "cell_type": "code",
   "execution_count": 134,
   "metadata": {},
   "outputs": [
    {
     "data": {
      "text/plain": [
       "array([[[73, 41]],\n",
       "\n",
       "       [[72, 42]],\n",
       "\n",
       "       [[71, 42]],\n",
       "\n",
       "       [[70, 43]],\n",
       "\n",
       "       [[69, 43]],\n",
       "\n",
       "       [[68, 44]],\n",
       "\n",
       "       [[67, 44]],\n",
       "\n",
       "       [[66, 44]],\n",
       "\n",
       "       [[65, 45]],\n",
       "\n",
       "       [[64, 44]],\n",
       "\n",
       "       [[63, 45]],\n",
       "\n",
       "       [[62, 44]],\n",
       "\n",
       "       [[61, 45]],\n",
       "\n",
       "       [[60, 45]],\n",
       "\n",
       "       [[59, 45]],\n",
       "\n",
       "       [[58, 46]],\n",
       "\n",
       "       [[57, 46]],\n",
       "\n",
       "       [[56, 46]],\n",
       "\n",
       "       [[55, 46]],\n",
       "\n",
       "       [[54, 47]],\n",
       "\n",
       "       [[53, 47]],\n",
       "\n",
       "       [[52, 48]],\n",
       "\n",
       "       [[51, 49]],\n",
       "\n",
       "       [[50, 50]],\n",
       "\n",
       "       [[49, 51]],\n",
       "\n",
       "       [[48, 52]],\n",
       "\n",
       "       [[48, 53]],\n",
       "\n",
       "       [[47, 54]],\n",
       "\n",
       "       [[47, 55]],\n",
       "\n",
       "       [[46, 56]],\n",
       "\n",
       "       [[46, 57]],\n",
       "\n",
       "       [[45, 58]],\n",
       "\n",
       "       [[45, 59]],\n",
       "\n",
       "       [[45, 60]],\n",
       "\n",
       "       [[45, 61]],\n",
       "\n",
       "       [[44, 62]],\n",
       "\n",
       "       [[44, 63]],\n",
       "\n",
       "       [[44, 64]],\n",
       "\n",
       "       [[44, 65]],\n",
       "\n",
       "       [[43, 66]],\n",
       "\n",
       "       [[43, 67]],\n",
       "\n",
       "       [[43, 68]],\n",
       "\n",
       "       [[43, 69]],\n",
       "\n",
       "       [[43, 70]],\n",
       "\n",
       "       [[43, 71]],\n",
       "\n",
       "       [[43, 72]],\n",
       "\n",
       "       [[43, 73]],\n",
       "\n",
       "       [[43, 74]],\n",
       "\n",
       "       [[44, 75]],\n",
       "\n",
       "       [[44, 76]],\n",
       "\n",
       "       [[45, 77]],\n",
       "\n",
       "       [[45, 78]],\n",
       "\n",
       "       [[45, 79]],\n",
       "\n",
       "       [[45, 80]],\n",
       "\n",
       "       [[46, 81]],\n",
       "\n",
       "       [[47, 82]],\n",
       "\n",
       "       [[48, 83]],\n",
       "\n",
       "       [[49, 84]],\n",
       "\n",
       "       [[50, 84]],\n",
       "\n",
       "       [[51, 85]],\n",
       "\n",
       "       [[52, 86]],\n",
       "\n",
       "       [[53, 87]],\n",
       "\n",
       "       [[54, 87]],\n",
       "\n",
       "       [[55, 88]],\n",
       "\n",
       "       [[56, 88]],\n",
       "\n",
       "       [[57, 89]],\n",
       "\n",
       "       [[58, 89]],\n",
       "\n",
       "       [[59, 90]],\n",
       "\n",
       "       [[60, 90]],\n",
       "\n",
       "       [[61, 90]],\n",
       "\n",
       "       [[62, 90]],\n",
       "\n",
       "       [[63, 90]],\n",
       "\n",
       "       [[64, 90]],\n",
       "\n",
       "       [[65, 89]],\n",
       "\n",
       "       [[66, 89]],\n",
       "\n",
       "       [[67, 88]],\n",
       "\n",
       "       [[68, 88]],\n",
       "\n",
       "       [[69, 87]],\n",
       "\n",
       "       [[70, 86]],\n",
       "\n",
       "       [[70, 85]],\n",
       "\n",
       "       [[71, 84]],\n",
       "\n",
       "       [[71, 83]],\n",
       "\n",
       "       [[72, 82]],\n",
       "\n",
       "       [[72, 81]],\n",
       "\n",
       "       [[73, 80]],\n",
       "\n",
       "       [[73, 79]],\n",
       "\n",
       "       [[74, 78]],\n",
       "\n",
       "       [[74, 77]],\n",
       "\n",
       "       [[74, 76]],\n",
       "\n",
       "       [[74, 75]],\n",
       "\n",
       "       [[75, 74]],\n",
       "\n",
       "       [[75, 73]],\n",
       "\n",
       "       [[75, 72]],\n",
       "\n",
       "       [[76, 71]],\n",
       "\n",
       "       [[76, 70]],\n",
       "\n",
       "       [[76, 69]],\n",
       "\n",
       "       [[76, 68]],\n",
       "\n",
       "       [[77, 67]],\n",
       "\n",
       "       [[77, 66]],\n",
       "\n",
       "       [[78, 65]],\n",
       "\n",
       "       [[78, 64]],\n",
       "\n",
       "       [[79, 63]],\n",
       "\n",
       "       [[80, 62]],\n",
       "\n",
       "       [[80, 61]],\n",
       "\n",
       "       [[81, 60]],\n",
       "\n",
       "       [[82, 59]],\n",
       "\n",
       "       [[82, 58]],\n",
       "\n",
       "       [[83, 57]],\n",
       "\n",
       "       [[84, 56]],\n",
       "\n",
       "       [[84, 55]],\n",
       "\n",
       "       [[84, 54]],\n",
       "\n",
       "       [[85, 53]],\n",
       "\n",
       "       [[85, 52]],\n",
       "\n",
       "       [[85, 51]],\n",
       "\n",
       "       [[86, 50]],\n",
       "\n",
       "       [[86, 49]],\n",
       "\n",
       "       [[86, 48]],\n",
       "\n",
       "       [[86, 47]],\n",
       "\n",
       "       [[86, 46]],\n",
       "\n",
       "       [[85, 45]],\n",
       "\n",
       "       [[84, 44]],\n",
       "\n",
       "       [[84, 43]],\n",
       "\n",
       "       [[83, 43]],\n",
       "\n",
       "       [[82, 42]],\n",
       "\n",
       "       [[81, 42]],\n",
       "\n",
       "       [[80, 42]],\n",
       "\n",
       "       [[79, 42]],\n",
       "\n",
       "       [[78, 42]],\n",
       "\n",
       "       [[77, 41]],\n",
       "\n",
       "       [[76, 41]],\n",
       "\n",
       "       [[75, 41]],\n",
       "\n",
       "       [[74, 41]]], dtype=int32)"
      ]
     },
     "execution_count": 134,
     "metadata": {},
     "output_type": "execute_result"
    }
   ],
   "source": [
    "cnts[0][0]"
   ]
  },
  {
   "cell_type": "code",
   "execution_count": 135,
   "metadata": {},
   "outputs": [
    {
     "data": {
      "text/plain": [
       "1417.0"
      ]
     },
     "execution_count": 135,
     "metadata": {},
     "output_type": "execute_result"
    }
   ],
   "source": [
    "cv2.contourArea(cnts[0][0])"
   ]
  },
  {
   "cell_type": "code",
   "execution_count": 114,
   "metadata": {},
   "outputs": [],
   "source": [
    "h=20; w=20\n",
    "tots_gradient=[]\n",
    "for point in contour[:,0]:\n",
    "    x=point[0]\n",
    "    y=point[1]\n",
    "    #print(x,y)\n",
    "    y1=y-h; y2=y+h\n",
    "    x1=x-w; x2=x+w\n",
    "    if y1<0:\n",
    "        y1=0\n",
    "    if y2>H:\n",
    "        y2=H\n",
    "    if x1<0:\n",
    "        x1=0\n",
    "    if x2>W:\n",
    "        x2=W\n",
    "    #print(x1,y1,x2,y2)\n",
    "    crop_img = orig_img[:,:,0][y1:y2, x1:x2].copy()\n",
    "    mag,ang,gx,gy=get_mag_ang(crop_img)\n",
    "    tots_gradient.append(mag.mean())"
   ]
  },
  {
   "cell_type": "code",
   "execution_count": 136,
   "metadata": {},
   "outputs": [
    {
     "data": {
      "text/plain": [
       "<matplotlib.image.AxesImage at 0x7fb001fd6128>"
      ]
     },
     "execution_count": 136,
     "metadata": {},
     "output_type": "execute_result"
    },
    {
     "data": {
      "image/png": "[encoded data removed]",
      "text/plain": [
       "<Figure size 432x288 with 1 Axes>"
      ]
     },
     "metadata": {
      "needs_background": "light"
     },
     "output_type": "display_data"
    }
   ],
   "source": [
    "imshow(resized.squeeze())"
   ]
  },
  {
   "cell_type": "code",
   "execution_count": 116,
   "metadata": {},
   "outputs": [
    {
     "data": {
      "text/plain": [
       "0.84140223"
      ]
     },
     "execution_count": 116,
     "metadata": {},
     "output_type": "execute_result"
    }
   ],
   "source": [
    "np.mean(tots_gradient)"
   ]
  },
  {
   "cell_type": "code",
   "execution_count": 9,
   "metadata": {},
   "outputs": [
    {
     "data": {
      "text/plain": [
       "<matplotlib.image.AxesImage at 0x7f232bbd8470>"
      ]
     },
     "execution_count": 9,
     "metadata": {},
     "output_type": "execute_result"
    },
    {
     "data": {
      "image/png": "[encoded data removed]",
      "text/plain": [
       "<Figure size 432x288 with 1 Axes>"
      ]
     },
     "metadata": {
      "needs_background": "light"
     },
     "output_type": "display_data"
    }
   ],
   "source": [
    "denoised_img=denoise(orig_img)\n",
    "resized=array_resize(denoised_img)\n",
    "_, pred=prediction(model,resized)\n",
    "resized_orig = cv2.resize(img,(128,128))\n",
    "mask=mask_w_predicted(pred)\n",
    "dst = cv2.bitwise_and(resized_orig, resized_orig, mask=mask)\n",
    "imshow(dst)"
   ]
  },
  {
   "cell_type": "code",
   "execution_count": 48,
   "metadata": {},
   "outputs": [],
   "source": [
    "cnt, hierarchy=cv2.findContours(mask,cv2.RETR_EXTERNAL,cv2.CHAIN_APPROX_NONE )"
   ]
  },
  {
   "cell_type": "code",
   "execution_count": 137,
   "metadata": {},
   "outputs": [
    {
     "data": {
      "text/plain": [
       "array([[0.61250526, 0.67431237, 0.67089994, ..., 0.6783998 , 0.67825342,\n",
       "        0.6125182 ],\n",
       "       [0.66852182, 0.73537424, 0.74113969, ..., 0.74165746, 0.74552625,\n",
       "        0.67012961],\n",
       "       [0.65877659, 0.73682765, 0.75789677, ..., 0.74036518, 0.74485914,\n",
       "        0.68150476],\n",
       "       ...,\n",
       "       [0.69330567, 0.76874691, 0.75688461, ..., 0.74793418, 0.74611723,\n",
       "        0.66208869],\n",
       "       [0.69052886, 0.76156981, 0.75567077, ..., 0.75199122, 0.75341408,\n",
       "        0.66777423],\n",
       "       [0.63794146, 0.70631466, 0.69175611, ..., 0.6978442 , 0.68934184,\n",
       "        0.6043047 ]])"
      ]
     },
     "execution_count": 137,
     "metadata": {},
     "output_type": "execute_result"
    }
   ],
   "source": [
    "cv2.drawContours(resized.squeeze(), cnts[0][0], -1, (0, 255, 0), 3)"
   ]
  },
  {
   "cell_type": "code",
   "execution_count": 138,
   "metadata": {},
   "outputs": [
    {
     "data": {
      "text/plain": [
       "<matplotlib.image.AxesImage at 0x7fb001faf908>"
      ]
     },
     "execution_count": 138,
     "metadata": {},
     "output_type": "execute_result"
    },
    {
     "data": {
      "image/png": "[encoded data removed]",
      "text/plain": [
       "<Figure size 432x288 with 1 Axes>"
      ]
     },
     "metadata": {
      "needs_background": "light"
     },
     "output_type": "display_data"
    }
   ],
   "source": [
    "imshow(resized.squeeze())"
   ]
  },
  {
   "cell_type": "code",
   "execution_count": 107,
   "metadata": {},
   "outputs": [],
   "source": [
    "M = cv2.moments(cnts[0])"
   ]
  },
  {
   "cell_type": "code",
   "execution_count": 43,
   "metadata": {},
   "outputs": [
    {
     "data": {
      "text/plain": [
       "numpy.ndarray"
      ]
     },
     "execution_count": 43,
     "metadata": {},
     "output_type": "execute_result"
    }
   ],
   "source": [
    "type(mask)"
   ]
  },
  {
   "cell_type": "code",
   "execution_count": null,
   "metadata": {},
   "outputs": [],
   "source": []
  }
 ],
 "metadata": {
  "kernelspec": {
   "display_name": "Python 3",
   "language": "python",
   "name": "python3"
  },
  "language_info": {
   "codemirror_mode": {
    "name": "ipython",
    "version": 3
   },
   "file_extension": ".py",
   "mimetype": "text/x-python",
   "name": "python",
   "nbconvert_exporter": "python",
   "pygments_lexer": "ipython3",
   "version": "3.6.8"
  }
 },
 "nbformat": 4,
 "nbformat_minor": 2
}
