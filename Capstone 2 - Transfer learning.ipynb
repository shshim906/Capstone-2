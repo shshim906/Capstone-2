{
 "cells": [
  {
   "cell_type": "markdown",
   "metadata": {},
   "source": [
    "## The purpose of the Capstone 2 project is to determine whether or not the lesion in an image is malignant or not "
   ]
  },
  {
   "cell_type": "markdown",
   "metadata": {},
   "source": [
    "This code makes use of transfer learning code provided by tensorflow(https://www.tensorflow.org/hub/tutorials/image_retraining)"
   ]
  },
  {
   "cell_type": "markdown",
   "metadata": {},
   "source": [
    "input: path for original images, path for test images<br>\n",
    "output: fitted model, probability of an input image being malignant"
   ]
  },
  {
   "cell_type": "markdown",
   "metadata": {},
   "source": [
    "import necessary libraries"
   ]
  },
  {
   "cell_type": "code",
   "execution_count": 2,
   "metadata": {},
   "outputs": [],
   "source": [
    "import os\n",
    "import random\n",
    "import shutil"
   ]
  },
  {
   "cell_type": "markdown",
   "metadata": {},
   "source": [
    "img_path: input original images<br>\n",
    "test_path: path where the test images will be stored"
   ]
  },
  {
   "cell_type": "code",
   "execution_count": 3,
   "metadata": {},
   "outputs": [],
   "source": [
    "img_path='/home/seo/ISIC_DATA/'\n",
    "test_path='/home/seo/lesion2'\n",
    "ben_files=os.listdir(test_path+'/ben')\n",
    "mal_files=os.listdir(test_path+'/mal')"
   ]
  },
  {
   "cell_type": "code",
   "execution_count": 7,
   "metadata": {},
   "outputs": [
    {
     "data": {
      "text/plain": [
       "971"
      ]
     },
     "execution_count": 7,
     "metadata": {},
     "output_type": "execute_result"
    }
   ],
   "source": []
  },
  {
   "cell_type": "markdown",
   "metadata": {},
   "source": [
    "To identify whether or not an image is malignant, the metadata is called: isic_data"
   ]
  },
  {
   "cell_type": "code",
   "execution_count": 4,
   "metadata": {},
   "outputs": [],
   "source": [
    "import pickle\n",
    "name=\"isic_data\"\n",
    "df=pickle.load(open(name,\"rb\"))"
   ]
  },
  {
   "cell_type": "markdown",
   "metadata": {},
   "source": [
    "only the images that are specifically marked benign or malignant will be used for training the model"
   ]
  },
  {
   "cell_type": "code",
   "execution_count": 5,
   "metadata": {},
   "outputs": [],
   "source": [
    "ben_list=[name+'.jpeg' for name in list(df[df['meta.clinical.benign_malignant']=='benign']['name'])]\n",
    "mal_list=[name+'.jpeg' for name in list(df[df['meta.clinical.benign_malignant']=='malignant']['name'])]"
   ]
  },
  {
   "cell_type": "code",
   "execution_count": 6,
   "metadata": {
    "scrolled": true
   },
   "outputs": [],
   "source": [
    "bensampling = random.sample(ben_list,k=2000)\n",
    "malsampling = random.sample(mal_list,k=2000)"
   ]
  },
  {
   "cell_type": "code",
   "execution_count": 8,
   "metadata": {},
   "outputs": [],
   "source": [
    "error_list=list()\n",
    "number_needed_for_ben=2000-len(ben_files)\n",
    "number_needed_for_mal=2000-len(mal_files)\n",
    "\n",
    "i=0\n",
    "j=0\n",
    "\n",
    "for name in bensampling:\n",
    "    orig_path=img_path+name\n",
    "    mov_path=test_path+'/ben/'+name\n",
    "    try:\n",
    "        shutil.copy(orig_path, mov_path)\n",
    "        i=i+1\n",
    "    except:\n",
    "        error_list.append(name)\n",
    "        continue\n",
    "    if i==number_needed_for_ben:\n",
    "        break\n",
    "for name in malsampling:\n",
    "    orig_path=img_path+name\n",
    "    mov_path=test_path+'/mal/'+name\n",
    "    try:\n",
    "        shutil.copy(orig_path, mov_path)\n",
    "        j=j+1\n",
    "    except:\n",
    "        error_list.append(name)\n",
    "        continue\n",
    "    if j==number_needed_for_mal:\n",
    "        break"
   ]
  },
  {
   "cell_type": "code",
   "execution_count": null,
   "metadata": {},
   "outputs": [
    {
     "name": "stdout",
     "output_type": "stream",
     "text": [
      "/home/seo/example_code\n",
      "/home/seo/environments/my_env/lib/python3.6/site-packages/tensorflow/python/framework/dtypes.py:516: FutureWarning: Passing (type, 1) or '1type' as a synonym of type is deprecated; in a future version of numpy, it will be understood as (type, (1,)) / '(1,)type'.\n",
      "  _np_qint8 = np.dtype([(\"qint8\", np.int8, 1)])\n",
      "/home/seo/environments/my_env/lib/python3.6/site-packages/tensorflow/python/framework/dtypes.py:517: FutureWarning: Passing (type, 1) or '1type' as a synonym of type is deprecated; in a future version of numpy, it will be understood as (type, (1,)) / '(1,)type'.\n",
      "  _np_quint8 = np.dtype([(\"quint8\", np.uint8, 1)])\n",
      "/home/seo/environments/my_env/lib/python3.6/site-packages/tensorflow/python/framework/dtypes.py:518: FutureWarning: Passing (type, 1) or '1type' as a synonym of type is deprecated; in a future version of numpy, it will be understood as (type, (1,)) / '(1,)type'.\n",
      "  _np_qint16 = np.dtype([(\"qint16\", np.int16, 1)])\n",
      "/home/seo/environments/my_env/lib/python3.6/site-packages/tensorflow/python/framework/dtypes.py:519: FutureWarning: Passing (type, 1) or '1type' as a synonym of type is deprecated; in a future version of numpy, it will be understood as (type, (1,)) / '(1,)type'.\n",
      "  _np_quint16 = np.dtype([(\"quint16\", np.uint16, 1)])\n",
      "/home/seo/environments/my_env/lib/python3.6/site-packages/tensorflow/python/framework/dtypes.py:520: FutureWarning: Passing (type, 1) or '1type' as a synonym of type is deprecated; in a future version of numpy, it will be understood as (type, (1,)) / '(1,)type'.\n",
      "  _np_qint32 = np.dtype([(\"qint32\", np.int32, 1)])\n",
      "/home/seo/environments/my_env/lib/python3.6/site-packages/tensorflow/python/framework/dtypes.py:525: FutureWarning: Passing (type, 1) or '1type' as a synonym of type is deprecated; in a future version of numpy, it will be understood as (type, (1,)) / '(1,)type'.\n",
      "  np_resource = np.dtype([(\"resource\", np.ubyte, 1)])\n",
      "/home/seo/environments/my_env/lib/python3.6/site-packages/tensorboard/compat/tensorflow_stub/dtypes.py:541: FutureWarning: Passing (type, 1) or '1type' as a synonym of type is deprecated; in a future version of numpy, it will be understood as (type, (1,)) / '(1,)type'.\n",
      "  _np_qint8 = np.dtype([(\"qint8\", np.int8, 1)])\n",
      "/home/seo/environments/my_env/lib/python3.6/site-packages/tensorboard/compat/tensorflow_stub/dtypes.py:542: FutureWarning: Passing (type, 1) or '1type' as a synonym of type is deprecated; in a future version of numpy, it will be understood as (type, (1,)) / '(1,)type'.\n",
      "  _np_quint8 = np.dtype([(\"quint8\", np.uint8, 1)])\n",
      "/home/seo/environments/my_env/lib/python3.6/site-packages/tensorboard/compat/tensorflow_stub/dtypes.py:543: FutureWarning: Passing (type, 1) or '1type' as a synonym of type is deprecated; in a future version of numpy, it will be understood as (type, (1,)) / '(1,)type'.\n",
      "  _np_qint16 = np.dtype([(\"qint16\", np.int16, 1)])\n",
      "/home/seo/environments/my_env/lib/python3.6/site-packages/tensorboard/compat/tensorflow_stub/dtypes.py:544: FutureWarning: Passing (type, 1) or '1type' as a synonym of type is deprecated; in a future version of numpy, it will be understood as (type, (1,)) / '(1,)type'.\n",
      "  _np_quint16 = np.dtype([(\"quint16\", np.uint16, 1)])\n",
      "/home/seo/environments/my_env/lib/python3.6/site-packages/tensorboard/compat/tensorflow_stub/dtypes.py:545: FutureWarning: Passing (type, 1) or '1type' as a synonym of type is deprecated; in a future version of numpy, it will be understood as (type, (1,)) / '(1,)type'.\n",
      "  _np_qint32 = np.dtype([(\"qint32\", np.int32, 1)])\n",
      "/home/seo/environments/my_env/lib/python3.6/site-packages/tensorboard/compat/tensorflow_stub/dtypes.py:550: FutureWarning: Passing (type, 1) or '1type' as a synonym of type is deprecated; in a future version of numpy, it will be understood as (type, (1,)) / '(1,)type'.\n",
      "  np_resource = np.dtype([(\"resource\", np.ubyte, 1)])\n",
      "WARNING: Logging before flag parsing goes to stderr.\n",
      "W0930 00:48:39.729068 140626001626944 deprecation_wrapper.py:119] From retrain.py:1349: The name tf.app.run is deprecated. Please use tf.compat.v1.app.run instead.\n",
      "\n",
      "W0930 00:48:39.729872 140626001626944 deprecation_wrapper.py:119] From retrain.py:976: The name tf.logging.FATAL is deprecated. Please use tf.compat.v1.logging.FATAL instead.\n",
      "\n",
      "W0930 00:48:39.730106 140626001626944 deprecation_wrapper.py:119] From retrain.py:977: The name tf.logging.ERROR is deprecated. Please use tf.compat.v1.logging.ERROR instead.\n",
      "\n",
      "W0930 00:48:39.730283 140626001626944 deprecation_wrapper.py:119] From retrain.py:978: The name tf.logging.WARN is deprecated. Please use tf.compat.v1.logging.WARN instead.\n",
      "\n",
      "W0930 00:48:39.730448 140626001626944 deprecation_wrapper.py:119] From retrain.py:979: The name tf.logging.INFO is deprecated. Please use tf.compat.v1.logging.INFO instead.\n",
      "\n",
      "W0930 00:48:39.730650 140626001626944 deprecation_wrapper.py:119] From retrain.py:980: The name tf.logging.DEBUG is deprecated. Please use tf.compat.v1.logging.DEBUG instead.\n",
      "\n",
      "W0930 00:48:39.730815 140626001626944 deprecation_wrapper.py:119] From retrain.py:915: The name tf.gfile.Exists is deprecated. Please use tf.io.gfile.exists instead.\n",
      "\n",
      "W0930 00:48:39.731028 140626001626944 deprecation_wrapper.py:119] From retrain.py:916: The name tf.gfile.DeleteRecursively is deprecated. Please use tf.io.gfile.rmtree instead.\n",
      "\n",
      "W0930 00:48:39.731327 140626001626944 deprecation_wrapper.py:119] From retrain.py:917: The name tf.gfile.MakeDirs is deprecated. Please use tf.io.gfile.makedirs instead.\n",
      "\n",
      "W0930 00:48:39.731619 140626001626944 deprecation_wrapper.py:119] From retrain.py:165: The name tf.gfile.Walk is deprecated. Please use tf.io.gfile.walk instead.\n",
      "\n",
      "I0930 00:48:39.807792 140626001626944 retrain.py:182] Looking for images in 'ben'\n",
      "W0930 00:48:39.808106 140626001626944 deprecation_wrapper.py:119] From retrain.py:185: The name tf.gfile.Glob is deprecated. Please use tf.io.gfile.glob instead.\n",
      "\n",
      "I0930 00:48:39.882598 140626001626944 retrain.py:182] Looking for images in 'mal'\n",
      "I0930 00:48:39.948245 140626001626944 resolver.py:79] Using /tmp/tfhub_modules to cache modules.\n",
      "W0930 00:48:40.068640 140626001626944 deprecation_wrapper.py:119] From retrain.py:306: The name tf.placeholder is deprecated. Please use tf.compat.v1.placeholder instead.\n",
      "\n",
      "2019-09-30 00:48:40.345834: W tensorflow/core/graph/graph_constructor.cc:1352] Importing a graph with a lower producer version 29 into an existing graph with producer version 38. Shape inference will have run different parts of the graph with different producer versions.\n",
      "I0930 00:48:45.959704 140626001626944 saver.py:1499] Saver not created because there are no variables in the graph to restore\n",
      "W0930 00:48:46.481542 140626001626944 deprecation_wrapper.py:119] From retrain.py:747: The name tf.placeholder_with_default is deprecated. Please use tf.compat.v1.placeholder_with_default instead.\n",
      "\n",
      "W0930 00:48:46.484207 140626001626944 deprecation_wrapper.py:119] From retrain.py:759: The name tf.truncated_normal is deprecated. Please use tf.random.truncated_normal instead.\n",
      "\n",
      "W0930 00:48:46.499140 140626001626944 deprecation_wrapper.py:119] From retrain.py:710: The name tf.summary.scalar is deprecated. Please use tf.compat.v1.summary.scalar instead.\n",
      "\n",
      "W0930 00:48:46.520558 140626001626944 deprecation_wrapper.py:119] From retrain.py:716: The name tf.summary.histogram is deprecated. Please use tf.compat.v1.summary.histogram instead.\n",
      "\n",
      "W0930 00:48:46.564254 140626001626944 deprecation_wrapper.py:119] From retrain.py:791: The name tf.losses.sparse_softmax_cross_entropy is deprecated. Please use tf.compat.v1.losses.sparse_softmax_cross_entropy instead.\n",
      "\n",
      "W0930 00:48:46.581321 140626001626944 deprecation.py:323] From /home/seo/environments/my_env/lib/python3.6/site-packages/tensorflow/python/ops/losses/losses_impl.py:121: add_dispatch_support.<locals>.wrapper (from tensorflow.python.ops.array_ops) is deprecated and will be removed in a future version.\n",
      "Instructions for updating:\n",
      "Use tf.where in 2.0, which has the same broadcast rule as np.where\n",
      "W0930 00:48:46.600576 140626001626944 deprecation_wrapper.py:119] From retrain.py:797: The name tf.train.GradientDescentOptimizer is deprecated. Please use tf.compat.v1.train.GradientDescentOptimizer instead.\n",
      "\n",
      "W0930 00:48:46.672497 140626001626944 deprecation_wrapper.py:119] From retrain.py:1033: The name tf.Session is deprecated. Please use tf.compat.v1.Session instead.\n",
      "\n",
      "2019-09-30 00:48:46.673731: I tensorflow/core/platform/cpu_feature_guard.cc:142] Your CPU supports instructions that this TensorFlow binary was not compiled to use: AVX2 FMA\n",
      "2019-09-30 00:48:46.681372: I tensorflow/core/platform/profile_utils/cpu_utils.cc:94] CPU Frequency: 1799995000 Hz\n",
      "2019-09-30 00:48:46.681836: I tensorflow/compiler/xla/service/service.cc:168] XLA service 0x535c300 executing computations on platform Host. Devices:\n",
      "2019-09-30 00:48:46.681911: I tensorflow/compiler/xla/service/service.cc:175]   StreamExecutor device (0): <undefined>, <undefined>\n",
      "W0930 00:48:46.683327 140626001626944 deprecation_wrapper.py:119] From retrain.py:1036: The name tf.global_variables_initializer is deprecated. Please use tf.compat.v1.global_variables_initializer instead.\n",
      "\n"
     ]
    },
    {
     "name": "stdout",
     "output_type": "stream",
     "text": [
      "2019-09-30 00:48:48.126136: W tensorflow/compiler/jit/mark_for_compilation_pass.cc:1412] (One-time warning): Not using XLA:CPU for cluster because envvar TF_XLA_FLAGS=--tf_xla_cpu_global_jit was not set.  If you want XLA:CPU, either set that envvar, or use experimental_jit_scope to enable XLA:CPU.  To confirm that XLA is active, pass --vmodule=xla_compilation_cache=1 (as a proper command-line flag, not via TF_XLA_FLAGS) or set the envvar XLA_FLAGS=--xla_hlo_profile.\n",
      "W0930 00:48:48.516743 140626001626944 deprecation_wrapper.py:119] From retrain.py:943: The name tf.image.resize_bilinear is deprecated. Please use tf.compat.v1.image.resize_bilinear instead.\n",
      "\n",
      "2019-09-30 00:48:50.767290: W tensorflow/core/framework/allocator.cc:107] Allocation of 146546688 exceeds 10% of system memory.\n",
      "2019-09-30 00:48:51.416614: W tensorflow/core/framework/allocator.cc:107] Allocation of 120434688 exceeds 10% of system memory.\n",
      "2019-09-30 00:48:51.797910: W tensorflow/core/framework/allocator.cc:107] Allocation of 146546688 exceeds 10% of system memory.\n",
      "2019-09-30 00:48:52.217418: W tensorflow/core/framework/allocator.cc:107] Allocation of 146546688 exceeds 10% of system memory.\n",
      "2019-09-30 00:48:54.540189: W tensorflow/core/framework/allocator.cc:107] Allocation of 146546688 exceeds 10% of system memory.\n",
      "I0930 00:48:59.492909 140626001626944 retrain.py:475] 100 bottleneck files created.\n",
      "I0930 00:49:23.034154 140626001626944 retrain.py:475] 200 bottleneck files created.\n",
      "I0930 00:49:49.023381 140626001626944 retrain.py:475] 300 bottleneck files created.\n",
      "I0930 00:50:15.437331 140626001626944 retrain.py:475] 400 bottleneck files created.\n"
     ]
    }
   ],
   "source": [
    "%cd ~/example_code\n",
    "!python retrain.py --image_dir \"$test_path\""
   ]
  },
  {
   "cell_type": "markdown",
   "metadata": {},
   "source": [
    "This test code is used for testing whether an image is benign or malignant"
   ]
  },
  {
   "cell_type": "code",
   "execution_count": 7,
   "metadata": {},
   "outputs": [
    {
     "name": "stdout",
     "output_type": "stream",
     "text": [
      "Type in image name to analyze: ISIC_0028455.jpeg \n"
     ]
    }
   ],
   "source": [
    "image_name=input(\"Type in image name to analyze: \")"
   ]
  },
  {
   "cell_type": "code",
   "execution_count": 8,
   "metadata": {},
   "outputs": [
    {
     "name": "stdout",
     "output_type": "stream",
     "text": [
      "/home/seo/environments/my_env/lib/python3.6/site-packages/tensorflow/python/framework/dtypes.py:516: FutureWarning: Passing (type, 1) or '1type' as a synonym of type is deprecated; in a future version of numpy, it will be understood as (type, (1,)) / '(1,)type'.\n",
      "  _np_qint8 = np.dtype([(\"qint8\", np.int8, 1)])\n",
      "/home/seo/environments/my_env/lib/python3.6/site-packages/tensorflow/python/framework/dtypes.py:517: FutureWarning: Passing (type, 1) or '1type' as a synonym of type is deprecated; in a future version of numpy, it will be understood as (type, (1,)) / '(1,)type'.\n",
      "  _np_quint8 = np.dtype([(\"quint8\", np.uint8, 1)])\n",
      "/home/seo/environments/my_env/lib/python3.6/site-packages/tensorflow/python/framework/dtypes.py:518: FutureWarning: Passing (type, 1) or '1type' as a synonym of type is deprecated; in a future version of numpy, it will be understood as (type, (1,)) / '(1,)type'.\n",
      "  _np_qint16 = np.dtype([(\"qint16\", np.int16, 1)])\n",
      "/home/seo/environments/my_env/lib/python3.6/site-packages/tensorflow/python/framework/dtypes.py:519: FutureWarning: Passing (type, 1) or '1type' as a synonym of type is deprecated; in a future version of numpy, it will be understood as (type, (1,)) / '(1,)type'.\n",
      "  _np_quint16 = np.dtype([(\"quint16\", np.uint16, 1)])\n",
      "/home/seo/environments/my_env/lib/python3.6/site-packages/tensorflow/python/framework/dtypes.py:520: FutureWarning: Passing (type, 1) or '1type' as a synonym of type is deprecated; in a future version of numpy, it will be understood as (type, (1,)) / '(1,)type'.\n",
      "  _np_qint32 = np.dtype([(\"qint32\", np.int32, 1)])\n",
      "/home/seo/environments/my_env/lib/python3.6/site-packages/tensorflow/python/framework/dtypes.py:525: FutureWarning: Passing (type, 1) or '1type' as a synonym of type is deprecated; in a future version of numpy, it will be understood as (type, (1,)) / '(1,)type'.\n",
      "  np_resource = np.dtype([(\"resource\", np.ubyte, 1)])\n",
      "/home/seo/environments/my_env/lib/python3.6/site-packages/tensorboard/compat/tensorflow_stub/dtypes.py:541: FutureWarning: Passing (type, 1) or '1type' as a synonym of type is deprecated; in a future version of numpy, it will be understood as (type, (1,)) / '(1,)type'.\n",
      "  _np_qint8 = np.dtype([(\"qint8\", np.int8, 1)])\n",
      "/home/seo/environments/my_env/lib/python3.6/site-packages/tensorboard/compat/tensorflow_stub/dtypes.py:542: FutureWarning: Passing (type, 1) or '1type' as a synonym of type is deprecated; in a future version of numpy, it will be understood as (type, (1,)) / '(1,)type'.\n",
      "  _np_quint8 = np.dtype([(\"quint8\", np.uint8, 1)])\n",
      "/home/seo/environments/my_env/lib/python3.6/site-packages/tensorboard/compat/tensorflow_stub/dtypes.py:543: FutureWarning: Passing (type, 1) or '1type' as a synonym of type is deprecated; in a future version of numpy, it will be understood as (type, (1,)) / '(1,)type'.\n",
      "  _np_qint16 = np.dtype([(\"qint16\", np.int16, 1)])\n",
      "/home/seo/environments/my_env/lib/python3.6/site-packages/tensorboard/compat/tensorflow_stub/dtypes.py:544: FutureWarning: Passing (type, 1) or '1type' as a synonym of type is deprecated; in a future version of numpy, it will be understood as (type, (1,)) / '(1,)type'.\n",
      "  _np_quint16 = np.dtype([(\"quint16\", np.uint16, 1)])\n",
      "/home/seo/environments/my_env/lib/python3.6/site-packages/tensorboard/compat/tensorflow_stub/dtypes.py:545: FutureWarning: Passing (type, 1) or '1type' as a synonym of type is deprecated; in a future version of numpy, it will be understood as (type, (1,)) / '(1,)type'.\n",
      "  _np_qint32 = np.dtype([(\"qint32\", np.int32, 1)])\n",
      "/home/seo/environments/my_env/lib/python3.6/site-packages/tensorboard/compat/tensorflow_stub/dtypes.py:550: FutureWarning: Passing (type, 1) or '1type' as a synonym of type is deprecated; in a future version of numpy, it will be understood as (type, (1,)) / '(1,)type'.\n",
      "  np_resource = np.dtype([(\"resource\", np.ubyte, 1)])\n",
      "WARNING: Logging before flag parsing goes to stderr.\n",
      "W0928 23:35:23.821759 139715468707648 deprecation_wrapper.py:119] From label_image.py:28: The name tf.GraphDef is deprecated. Please use tf.compat.v1.GraphDef instead.\n",
      "\n",
      "Traceback (most recent call last):\n",
      "  File \"label_image.py\", line 118, in <module>\n",
      "    graph = load_graph(model_file)\n",
      "  File \"label_image.py\", line 30, in load_graph\n",
      "    with open(model_file, \"rb\") as f:\n",
      "FileNotFoundError: [Errno 2] No such file or directory: '/tmp/output_graph.pb'\n"
     ]
    }
   ],
   "source": [
    "%cd ~/\n",
    "!python label_image.py \\\n",
    "--graph=/tmp/output_graph.pb --labels=/tmp/output_labels.txt \\\n",
    "--input_layer=Placeholder \\\n",
    "--output_layer=final_result \\\n",
    "--image=~/ISIC_DATA/\"$image_name\""
   ]
  },
  {
   "cell_type": "code",
   "execution_count": null,
   "metadata": {},
   "outputs": [],
   "source": []
  }
 ],
 "metadata": {
  "kernelspec": {
   "display_name": "Python 3",
   "language": "python",
   "name": "python3"
  },
  "language_info": {
   "codemirror_mode": {
    "name": "ipython",
    "version": 3
   },
   "file_extension": ".py",
   "mimetype": "text/x-python",
   "name": "python",
   "nbconvert_exporter": "python",
   "pygments_lexer": "ipython3",
   "version": "3.6.8"
  }
 },
 "nbformat": 4,
 "nbformat_minor": 2
}
