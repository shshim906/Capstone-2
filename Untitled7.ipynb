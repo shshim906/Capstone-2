{
 "cells": [
  {
   "cell_type": "code",
   "execution_count": 21,
   "metadata": {},
   "outputs": [
    {
     "name": "stderr",
     "output_type": "stream",
     "text": [
      "Using TensorFlow backend.\n"
     ]
    }
   ],
   "source": [
    "%run functions.py"
   ]
  },
  {
   "cell_type": "code",
   "execution_count": 22,
   "metadata": {},
   "outputs": [],
   "source": [
    "path=\"/home/seo/ISIC DATA/\"\n",
    "filelist=os.listdir(path)\n",
    "meta=[file for file in filelist if not file.endswith(\".jpeg\") and not file.endswith(\".png\") and file.startswith(\"ISIC\")]\n",
    "pics=[file for file in filelist if (file.endswith(\".jpeg\") or file.endswith(\".png\")) and file.startswith(\"ISIC\")]"
   ]
  },
  {
   "cell_type": "code",
   "execution_count": 23,
   "metadata": {},
   "outputs": [
    {
     "name": "stderr",
     "output_type": "stream",
     "text": [
      "WARNING: Logging before flag parsing goes to stderr.\n",
      "W0728 06:21:54.323190 140392647391040 deprecation_wrapper.py:119] From /home/seo/environments/my_env/lib/python3.6/site-packages/keras/backend/tensorflow_backend.py:517: The name tf.placeholder is deprecated. Please use tf.compat.v1.placeholder instead.\n",
      "\n",
      "W0728 06:21:54.346192 140392647391040 deprecation_wrapper.py:119] From /home/seo/environments/my_env/lib/python3.6/site-packages/keras/backend/tensorflow_backend.py:4185: The name tf.truncated_normal is deprecated. Please use tf.random.truncated_normal instead.\n",
      "\n",
      "W0728 06:21:54.372800 140392647391040 deprecation_wrapper.py:119] From /home/seo/environments/my_env/lib/python3.6/site-packages/keras/backend/tensorflow_backend.py:245: The name tf.get_default_graph is deprecated. Please use tf.compat.v1.get_default_graph instead.\n",
      "\n",
      "W0728 06:21:54.373797 140392647391040 deprecation_wrapper.py:119] From /home/seo/environments/my_env/lib/python3.6/site-packages/keras/backend/tensorflow_backend.py:174: The name tf.get_default_session is deprecated. Please use tf.compat.v1.get_default_session instead.\n",
      "\n",
      "W0728 06:21:54.374537 140392647391040 deprecation_wrapper.py:119] From /home/seo/environments/my_env/lib/python3.6/site-packages/keras/backend/tensorflow_backend.py:181: The name tf.ConfigProto is deprecated. Please use tf.compat.v1.ConfigProto instead.\n",
      "\n",
      "W0728 06:21:54.409961 140392647391040 deprecation_wrapper.py:119] From /home/seo/environments/my_env/lib/python3.6/site-packages/keras/backend/tensorflow_backend.py:1834: The name tf.nn.fused_batch_norm is deprecated. Please use tf.compat.v1.nn.fused_batch_norm instead.\n",
      "\n",
      "W0728 06:21:54.500257 140392647391040 deprecation_wrapper.py:119] From /home/seo/environments/my_env/lib/python3.6/site-packages/keras/backend/tensorflow_backend.py:3976: The name tf.nn.max_pool is deprecated. Please use tf.nn.max_pool2d instead.\n",
      "\n",
      "W0728 06:21:54.510186 140392647391040 deprecation.py:506] From /home/seo/environments/my_env/lib/python3.6/site-packages/keras/backend/tensorflow_backend.py:3445: calling dropout (from tensorflow.python.ops.nn_ops) with keep_prob is deprecated and will be removed in a future version.\n",
      "Instructions for updating:\n",
      "Please use `rate` instead of `keep_prob`. Rate should be set to `rate = 1 - keep_prob`.\n",
      "W0728 06:21:56.476900 140392647391040 deprecation_wrapper.py:119] From /home/seo/environments/my_env/lib/python3.6/site-packages/keras/optimizers.py:790: The name tf.train.Optimizer is deprecated. Please use tf.compat.v1.train.Optimizer instead.\n",
      "\n",
      "W0728 06:21:56.489035 140392647391040 deprecation.py:323] From /home/seo/environments/my_env/lib/python3.6/site-packages/tensorflow/python/ops/nn_impl.py:180: add_dispatch_support.<locals>.wrapper (from tensorflow.python.ops.array_ops) is deprecated and will be removed in a future version.\n",
      "Instructions for updating:\n",
      "Use tf.where in 2.0, which has the same broadcast rule as np.where\n"
     ]
    }
   ],
   "source": [
    "import pickle\n",
    "model=pickle.load(open('model_fitted.pickle',\"rb\"))"
   ]
  },
  {
   "cell_type": "code",
   "execution_count": 19,
   "metadata": {},
   "outputs": [
    {
     "name": "stdout",
     "output_type": "stream",
     "text": [
      "[0, 1, 4]\n",
      "[0, 2, 4]\n"
     ]
    }
   ],
   "source": [
    "from multiprocessing import Pool\n",
    "#import workers\n",
    "if __name__ ==  '__main__': \n",
    "    num_processors = 3\n",
    "    p=Pool(processes = num_processors)\n",
    "    output = p.map((_,pred),[i for i in range(0,3)])\n",
    "    output2 = p.map(worker2,[i for i in range(0,3)])\n",
    "    print(output)\n",
    "    print(output2)"
   ]
  },
  {
   "cell_type": "code",
   "execution_count": 31,
   "metadata": {},
   "outputs": [
    {
     "name": "stdout",
     "output_type": "stream",
     "text": [
      "Number of processors:  4\n"
     ]
    }
   ],
   "source": [
    "import multiprocessing as mp\n",
    "print(\"Number of processors: \", mp.cpu_count())"
   ]
  },
  {
   "cell_type": "code",
   "execution_count": 29,
   "metadata": {},
   "outputs": [
    {
     "name": "stdout",
     "output_type": "stream",
     "text": [
      "1.0330836772918701\n",
      "0.06410360336303711\n",
      "1.1224644184112549\n",
      "1.0595355033874512\n",
      "0.9518406391143799\n",
      "0.06588935852050781\n",
      "0.06650471687316895\n",
      "1.0915155410766602\n",
      "0.06784892082214355\n",
      "2.8098583221435547\n"
     ]
    }
   ],
   "source": [
    "import time\n",
    "\n",
    "segmented_dict=dict()\n",
    "i=0\n",
    "for pic_name in pics:\n",
    "    t = time.time()\n",
    "    name=path+pic_name\n",
    "    img=call_image(name)\n",
    "    denoised_img=denoise(img)\n",
    "    resized=array_resize(denoised_img)\n",
    "    _, pred=prediction(model,resized)\n",
    "    cnts=cv2.findContours(pred.squeeze(),cv2.RETR_EXTERNAL,cv2.CHAIN_APPROX_NONE )\n",
    "    contour=cnts[0]\n",
    "    resized_orig = cv2.resize(img,(128,128))\n",
    "    mask=mask_w_predicted(pred)\n",
    "    dst = cv2.bitwise_and(resized_orig, resized_orig, mask=mask)\n",
    "    label=pic_name.split('.')[0]\n",
    "    key_name=label+'_segmented'\n",
    "    segmented_dict[key_name]=dst\n",
    "    elapsed = time.time() - t\n",
    "    print(elapsed)\n",
    "    i+=1\n",
    "    if i==10:\n",
    "        break"
   ]
  },
  {
   "cell_type": "code",
   "execution_count": null,
   "metadata": {},
   "outputs": [],
   "source": []
  },
  {
   "cell_type": "code",
   "execution_count": null,
   "metadata": {},
   "outputs": [],
   "source": []
  }
 ],
 "metadata": {
  "kernelspec": {
   "display_name": "Python 3",
   "language": "python",
   "name": "python3"
  },
  "language_info": {
   "codemirror_mode": {
    "name": "ipython",
    "version": 3
   },
   "file_extension": ".py",
   "mimetype": "text/x-python",
   "name": "python",
   "nbconvert_exporter": "python",
   "pygments_lexer": "ipython3",
   "version": "3.6.8"
  }
 },
 "nbformat": 4,
 "nbformat_minor": 2
}
