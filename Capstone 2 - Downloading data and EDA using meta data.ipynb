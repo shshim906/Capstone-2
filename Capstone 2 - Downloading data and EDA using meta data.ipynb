{
 "cells": [
  {
   "cell_type": "markdown",
   "metadata": {},
   "source": [
    "## The purpose of the Capstone 2 project is to determine whether or not the lesion in an image is malignant"
   ]
  },
  {
   "cell_type": "markdown",
   "metadata": {},
   "source": [
    "### Problem statement:###\n",
    "\n",
    "Skin cancer is one of the most common kind of cancer in US. One in five Americans may develop skin cancer in their life, and currently over one million people are living with the disease. Despite such high number of patients, the mortality rate of skin cancer is very low as long as it is treated before the cancer spreads, with the five-year survival rate of 99%. However, five-year survival rates drop sharply after it evolves to regional and distant stage, to 64% and 23% respectively. Therefore skin cancer must be detected and treated early.\n",
    "    <br><br/>Early stage of skin cancer can easily be confused with harmless mole and therefore can be overlooked. With the increased number of potential patients, there needs to be a more accessible way for people to diagnose themselves to find out whether they are at risk of developing malignant skin cancer.\n",
    "    <br><br/>It is well known that malignant skin cancer shows specific characteristic that may imply its danger level called ABCDE rule. Asymmetry, Border, Color, Diameter, Evolution. By utilizing these attributes with image classification, I can build an algorithm for people to check if the mole growing on their arm is cancerous. While not a perfect way to diagnose the disease, it helps to let the potential patient know if they should pay a visit to the doctor."
   ]
  },
  {
   "cell_type": "markdown",
   "metadata": {},
   "source": [
    "In the project I try to identify the malignancy of the lesion in the image using this ABCDE rule. This part of the project focuses on the metadata to understand some of the tendency of the malignant versus benign lesion"
   ]
  },
  {
   "cell_type": "markdown",
   "metadata": {},
   "source": [
    "Data source(ISIC) provides a link to download the images from the website directly.<br>\n",
    "Therefore, I used the code built by \"GalAvineri\" on Github to download all the available images on the ISIC website and saved it on the current folder."
   ]
  },
  {
   "cell_type": "markdown",
   "metadata": {},
   "source": [
    "import necessary libraries"
   ]
  },
  {
   "cell_type": "code",
   "execution_count": 1,
   "metadata": {},
   "outputs": [],
   "source": [
    "import os\n",
    "import random\n",
    "import pandas as pd\n",
    "import numpy as np\n",
    "import matplotlib.pyplot as plt\n",
    "import matplotlib.image as mpimg\n",
    "import cv2\n",
    "import json\n",
    "import pickle"
   ]
  },
  {
   "cell_type": "markdown",
   "metadata": {},
   "source": [
    "Get the path of the ISIC data and load metadata"
   ]
  },
  {
   "cell_type": "code",
   "execution_count": 2,
   "metadata": {},
   "outputs": [],
   "source": [
    "image_path='./Data/Images/'\n",
    "meta_path='./Data/Descriptions/'\n",
    "\n",
    "imagelist=os.listdir(image_path)\n",
    "metalist=os.listdir(meta_path)\n",
    "\n",
    "pics=[file for file in imagelist]\n",
    "meta=[file for file in metalist]"
   ]
  },
  {
   "cell_type": "markdown",
   "metadata": {},
   "source": [
    "The size of the images were checked to see how much it varies"
   ]
  },
  {
   "cell_type": "code",
   "execution_count": 3,
   "metadata": {},
   "outputs": [],
   "source": [
    "img_size_dict=dict()\n",
    "from PIL import Image\n",
    "for i in range(len(pics)):\n",
    "    filename = pics[i]\n",
    "    img = Image.open(image_path+filename)\n",
    "    width, height = img.size\n",
    "    img_size_dict[filename]=width * height"
   ]
  },
  {
   "cell_type": "code",
   "execution_count": 4,
   "metadata": {},
   "outputs": [
    {
     "data": {
      "text/plain": [
       "(array([1.2018e+04, 8.4580e+03, 1.0100e+02, 2.2230e+03, 1.0000e+00,\n",
       "        3.0000e+00, 0.0000e+00, 5.0000e+00, 1.0000e+00, 1.0960e+03]),\n",
       " array([  270000. ,  3287923.2,  6305846.4,  9323769.6, 12341692.8,\n",
       "        15359616. , 18377539.2, 21395462.4, 24413385.6, 27431308.8,\n",
       "        30449232. ]),\n",
       " <a list of 10 Patch objects>)"
      ]
     },
     "execution_count": 4,
     "metadata": {},
     "output_type": "execute_result"
    },
    {
     "data": {
      "image/png": "[encoded data removed]",
      "text/plain": [
       "<Figure size 432x288 with 1 Axes>"
      ]
     },
     "metadata": {
      "needs_background": "light"
     },
     "output_type": "display_data"
    }
   ],
   "source": [
    "imgsize_var=list(img_size_dict.values())\n",
    "plt.hist(imgsize_var)"
   ]
  },
  {
   "cell_type": "code",
   "execution_count": 5,
   "metadata": {},
   "outputs": [
    {
     "name": "stdout",
     "output_type": "stream",
     "text": [
      "The smallest image has 270000 pixels\n"
     ]
    }
   ],
   "source": [
    "print(\"The smallest image has \"+str(min(imgsize_var))+\" pixels\")"
   ]
  },
  {
   "cell_type": "code",
   "execution_count": 6,
   "metadata": {},
   "outputs": [
    {
     "name": "stdout",
     "output_type": "stream",
     "text": [
      "The largest image has 30449232 pixels\n"
     ]
    }
   ],
   "source": [
    "print(\"The largest image has \"+str(max(imgsize_var))+\" pixels\")"
   ]
  },
  {
   "cell_type": "markdown",
   "metadata": {},
   "source": [
    "Most images tend to be small while a few images are very large."
   ]
  },
  {
   "cell_type": "markdown",
   "metadata": {},
   "source": [
    "Import meta data for the images to perform exploratory data analysis"
   ]
  },
  {
   "cell_type": "code",
   "execution_count": 7,
   "metadata": {},
   "outputs": [],
   "source": [
    "from pandas.io.json import json_normalize\n",
    "\n",
    "for file in meta:\n",
    "    # Iterate over all the meta data text files\n",
    "    filename=meta_path+'/'+file\n",
    "    f=open(filename,\"rt\") # open each file\n",
    "    data=json.load(f) # load content\n",
    "    \n",
    "    # create data frame to store the data in.\n",
    "    if \"df\" not in locals(): # check if the df already exist.\n",
    "        # create df and store the first data\n",
    "        df=json_normalize(data)\n",
    "    else:\n",
    "        # append data from the rest of the file into same df\n",
    "        df1=json_normalize(data)\n",
    "        df=df.append(df1,ignore_index=True,sort=False)"
   ]
  },
  {
   "cell_type": "code",
   "execution_count": 8,
   "metadata": {},
   "outputs": [
    {
     "data": {
      "text/html": [
       "<div>\n",
       "<style scoped>\n",
       "    .dataframe tbody tr th:only-of-type {\n",
       "        vertical-align: middle;\n",
       "    }\n",
       "\n",
       "    .dataframe tbody tr th {\n",
       "        vertical-align: top;\n",
       "    }\n",
       "\n",
       "    .dataframe thead th {\n",
       "        text-align: right;\n",
       "    }\n",
       "</style>\n",
       "<table border=\"1\" class=\"dataframe\">\n",
       "  <thead>\n",
       "    <tr style=\"text-align: right;\">\n",
       "      <th></th>\n",
       "      <th>_id</th>\n",
       "      <th>_modelType</th>\n",
       "      <th>created</th>\n",
       "      <th>creator._id</th>\n",
       "      <th>creator.name</th>\n",
       "      <th>dataset._accessLevel</th>\n",
       "      <th>dataset._id</th>\n",
       "      <th>dataset.description</th>\n",
       "      <th>dataset.license</th>\n",
       "      <th>dataset.name</th>\n",
       "      <th>...</th>\n",
       "      <th>meta.unstructured.mel_type</th>\n",
       "      <th>meta.unstructured.ulcer</th>\n",
       "      <th>meta.unstructured.vertical</th>\n",
       "      <th>meta.unstructured.id1</th>\n",
       "      <th>meta.unstructured.site</th>\n",
       "      <th>meta.clinical.mel_class</th>\n",
       "      <th>meta.clinical.mel_thick_mm</th>\n",
       "      <th>meta.unstructured.mel_assoc_nevus</th>\n",
       "      <th>meta.unstructured.Location</th>\n",
       "      <th>meta.unstructured.diagnosis_short</th>\n",
       "    </tr>\n",
       "  </thead>\n",
       "  <tbody>\n",
       "    <tr>\n",
       "      <th>0</th>\n",
       "      <td>558d618dbae47801cf734963</td>\n",
       "      <td>image</td>\n",
       "      <td>2015-06-26T14:28:29.770000+00:00</td>\n",
       "      <td>54cb974fbae47819d8e4c727</td>\n",
       "      <td>User GQZH</td>\n",
       "      <td>0</td>\n",
       "      <td>5a2ecc5d1165975c94594284</td>\n",
       "      <td>Biopsy-confirmed melanocytic and non-melanocyt...</td>\n",
       "      <td>CC-0</td>\n",
       "      <td>MSK-2</td>\n",
       "      <td>...</td>\n",
       "      <td>NaN</td>\n",
       "      <td>NaN</td>\n",
       "      <td>NaN</td>\n",
       "      <td>NaN</td>\n",
       "      <td>NaN</td>\n",
       "      <td>NaN</td>\n",
       "      <td>NaN</td>\n",
       "      <td>NaN</td>\n",
       "      <td>NaN</td>\n",
       "      <td>NaN</td>\n",
       "    </tr>\n",
       "    <tr>\n",
       "      <th>1</th>\n",
       "      <td>550902ddbae478359aa587e2</td>\n",
       "      <td>image</td>\n",
       "      <td>2015-03-18T04:45:17.559000+00:00</td>\n",
       "      <td>54cb974fbae47819d8e4c727</td>\n",
       "      <td>User GQZH</td>\n",
       "      <td>0</td>\n",
       "      <td>5a2ecc5e1165975c945942a0</td>\n",
       "      <td>Moles in children.\\nBenign melanocytic lesions...</td>\n",
       "      <td>CC-0</td>\n",
       "      <td>SONIC</td>\n",
       "      <td>...</td>\n",
       "      <td>NaN</td>\n",
       "      <td>NaN</td>\n",
       "      <td>NaN</td>\n",
       "      <td>NaN</td>\n",
       "      <td>NaN</td>\n",
       "      <td>NaN</td>\n",
       "      <td>NaN</td>\n",
       "      <td>NaN</td>\n",
       "      <td>NaN</td>\n",
       "      <td>NaN</td>\n",
       "    </tr>\n",
       "    <tr>\n",
       "      <th>2</th>\n",
       "      <td>558d60c7bae47801cf7344ef</td>\n",
       "      <td>image</td>\n",
       "      <td>2015-06-26T14:25:11.490000+00:00</td>\n",
       "      <td>54cb974fbae47819d8e4c727</td>\n",
       "      <td>User GQZH</td>\n",
       "      <td>0</td>\n",
       "      <td>5a2ecc5d1165975c94594284</td>\n",
       "      <td>Biopsy-confirmed melanocytic and non-melanocyt...</td>\n",
       "      <td>CC-0</td>\n",
       "      <td>MSK-2</td>\n",
       "      <td>...</td>\n",
       "      <td>NaN</td>\n",
       "      <td>NaN</td>\n",
       "      <td>NaN</td>\n",
       "      <td>NaN</td>\n",
       "      <td>NaN</td>\n",
       "      <td>NaN</td>\n",
       "      <td>NaN</td>\n",
       "      <td>NaN</td>\n",
       "      <td>NaN</td>\n",
       "      <td>NaN</td>\n",
       "    </tr>\n",
       "    <tr>\n",
       "      <th>3</th>\n",
       "      <td>5509024abae478359aa581b6</td>\n",
       "      <td>image</td>\n",
       "      <td>2015-03-18T04:42:50.391000+00:00</td>\n",
       "      <td>54cb974fbae47819d8e4c727</td>\n",
       "      <td>User GQZH</td>\n",
       "      <td>0</td>\n",
       "      <td>5a2ecc5e1165975c945942a0</td>\n",
       "      <td>Moles in children.\\nBenign melanocytic lesions...</td>\n",
       "      <td>CC-0</td>\n",
       "      <td>SONIC</td>\n",
       "      <td>...</td>\n",
       "      <td>NaN</td>\n",
       "      <td>NaN</td>\n",
       "      <td>NaN</td>\n",
       "      <td>NaN</td>\n",
       "      <td>NaN</td>\n",
       "      <td>NaN</td>\n",
       "      <td>NaN</td>\n",
       "      <td>NaN</td>\n",
       "      <td>NaN</td>\n",
       "      <td>NaN</td>\n",
       "    </tr>\n",
       "    <tr>\n",
       "      <th>4</th>\n",
       "      <td>54e7dd1dbae4780ec59cdaa9</td>\n",
       "      <td>image</td>\n",
       "      <td>2015-02-21T01:19:25.499000+00:00</td>\n",
       "      <td>54cb974fbae47819d8e4c727</td>\n",
       "      <td>User GQZH</td>\n",
       "      <td>0</td>\n",
       "      <td>5a2ecc5e1165975c945942a0</td>\n",
       "      <td>Moles in children.\\nBenign melanocytic lesions...</td>\n",
       "      <td>CC-0</td>\n",
       "      <td>SONIC</td>\n",
       "      <td>...</td>\n",
       "      <td>NaN</td>\n",
       "      <td>NaN</td>\n",
       "      <td>NaN</td>\n",
       "      <td>NaN</td>\n",
       "      <td>NaN</td>\n",
       "      <td>NaN</td>\n",
       "      <td>NaN</td>\n",
       "      <td>NaN</td>\n",
       "      <td>NaN</td>\n",
       "      <td>NaN</td>\n",
       "    </tr>\n",
       "  </tbody>\n",
       "</table>\n",
       "<p>5 rows × 70 columns</p>\n",
       "</div>"
      ],
      "text/plain": [
       "                        _id _modelType                           created  \\\n",
       "0  558d618dbae47801cf734963      image  2015-06-26T14:28:29.770000+00:00   \n",
       "1  550902ddbae478359aa587e2      image  2015-03-18T04:45:17.559000+00:00   \n",
       "2  558d60c7bae47801cf7344ef      image  2015-06-26T14:25:11.490000+00:00   \n",
       "3  5509024abae478359aa581b6      image  2015-03-18T04:42:50.391000+00:00   \n",
       "4  54e7dd1dbae4780ec59cdaa9      image  2015-02-21T01:19:25.499000+00:00   \n",
       "\n",
       "                creator._id creator.name  dataset._accessLevel  \\\n",
       "0  54cb974fbae47819d8e4c727    User GQZH                     0   \n",
       "1  54cb974fbae47819d8e4c727    User GQZH                     0   \n",
       "2  54cb974fbae47819d8e4c727    User GQZH                     0   \n",
       "3  54cb974fbae47819d8e4c727    User GQZH                     0   \n",
       "4  54cb974fbae47819d8e4c727    User GQZH                     0   \n",
       "\n",
       "                dataset._id  \\\n",
       "0  5a2ecc5d1165975c94594284   \n",
       "1  5a2ecc5e1165975c945942a0   \n",
       "2  5a2ecc5d1165975c94594284   \n",
       "3  5a2ecc5e1165975c945942a0   \n",
       "4  5a2ecc5e1165975c945942a0   \n",
       "\n",
       "                                 dataset.description dataset.license  \\\n",
       "0  Biopsy-confirmed melanocytic and non-melanocyt...            CC-0   \n",
       "1  Moles in children.\\nBenign melanocytic lesions...            CC-0   \n",
       "2  Biopsy-confirmed melanocytic and non-melanocyt...            CC-0   \n",
       "3  Moles in children.\\nBenign melanocytic lesions...            CC-0   \n",
       "4  Moles in children.\\nBenign melanocytic lesions...            CC-0   \n",
       "\n",
       "  dataset.name  ... meta.unstructured.mel_type meta.unstructured.ulcer  \\\n",
       "0        MSK-2  ...                        NaN                     NaN   \n",
       "1        SONIC  ...                        NaN                     NaN   \n",
       "2        MSK-2  ...                        NaN                     NaN   \n",
       "3        SONIC  ...                        NaN                     NaN   \n",
       "4        SONIC  ...                        NaN                     NaN   \n",
       "\n",
       "   meta.unstructured.vertical  meta.unstructured.id1 meta.unstructured.site  \\\n",
       "0                         NaN                    NaN                    NaN   \n",
       "1                         NaN                    NaN                    NaN   \n",
       "2                         NaN                    NaN                    NaN   \n",
       "3                         NaN                    NaN                    NaN   \n",
       "4                         NaN                    NaN                    NaN   \n",
       "\n",
       "  meta.clinical.mel_class meta.clinical.mel_thick_mm  \\\n",
       "0                     NaN                        NaN   \n",
       "1                     NaN                        NaN   \n",
       "2                     NaN                        NaN   \n",
       "3                     NaN                        NaN   \n",
       "4                     NaN                        NaN   \n",
       "\n",
       "   meta.unstructured.mel_assoc_nevus meta.unstructured.Location  \\\n",
       "0                                NaN                        NaN   \n",
       "1                                NaN                        NaN   \n",
       "2                                NaN                        NaN   \n",
       "3                                NaN                        NaN   \n",
       "4                                NaN                        NaN   \n",
       "\n",
       "  meta.unstructured.diagnosis_short  \n",
       "0                               NaN  \n",
       "1                               NaN  \n",
       "2                               NaN  \n",
       "3                               NaN  \n",
       "4                               NaN  \n",
       "\n",
       "[5 rows x 70 columns]"
      ]
     },
     "execution_count": 8,
     "metadata": {},
     "output_type": "execute_result"
    }
   ],
   "source": [
    "df.head()"
   ]
  },
  {
   "cell_type": "code",
   "execution_count": 9,
   "metadata": {},
   "outputs": [
    {
     "data": {
      "text/plain": [
       "Index(['_id', '_modelType', 'created', 'creator._id', 'creator.name',\n",
       "       'dataset._accessLevel', 'dataset._id', 'dataset.description',\n",
       "       'dataset.license', 'dataset.name', 'dataset.updated',\n",
       "       'meta.acquisition.image_type', 'meta.acquisition.pixelsX',\n",
       "       'meta.acquisition.pixelsY', 'meta.clinical.age_approx',\n",
       "       'meta.clinical.anatom_site_general', 'meta.clinical.benign_malignant',\n",
       "       'meta.clinical.clin_size_long_diam_mm', 'meta.clinical.diagnosis',\n",
       "       'meta.clinical.diagnosis_confirm_type', 'meta.clinical.family_hx_mm',\n",
       "       'meta.clinical.melanocytic', 'meta.clinical.personal_hx_mm',\n",
       "       'meta.clinical.sex', 'meta.unstructured.change',\n",
       "       'meta.unstructured.changedtypeapr02_2015', 'meta.unstructured.location',\n",
       "       'meta.unstructured.patientlocation', 'meta.unstructured.ptconcern',\n",
       "       'meta.unstructured.quantloc', 'name', 'notes.reviewed.accepted',\n",
       "       'notes.reviewed.time', 'notes.reviewed.userId', 'notes.tags', 'updated',\n",
       "       'meta.unstructured.diagnosis', 'meta.unstructured.race',\n",
       "       'meta.unstructured.grade', 'meta.unstructured.lesion_id',\n",
       "       'meta.unstructured.localization', 'meta.acquisition.dermoscopic_type',\n",
       "       'meta.unstructured.Breslow', 'meta.unstructured.Clark',\n",
       "       'meta.unstructured.biopsy done',\n",
       "       'meta.unstructured.clinical diagnosis/impression',\n",
       "       'meta.unstructured.lesion id', 'meta.unstructured.pathology diagnosis',\n",
       "       'meta.unstructured.pathology diagnosis subtype',\n",
       "       'meta.unstructured.pathology report available',\n",
       "       'meta.unstructured.patient', 'meta.unstructured.previous biopsy',\n",
       "       'meta.clinical.nevus_type', 'meta.unstructured.anatom_site_general',\n",
       "       'meta.unstructured.anatomic', 'meta.unstructured.laterality',\n",
       "       'meta.unstructured.mel_assoc_nev', 'meta.unstructured.mel_class',\n",
       "       'meta.unstructured.mel_mit', 'meta.unstructured.mel_thick',\n",
       "       'meta.unstructured.mel_type', 'meta.unstructured.ulcer',\n",
       "       'meta.unstructured.vertical', 'meta.unstructured.id1',\n",
       "       'meta.unstructured.site', 'meta.clinical.mel_class',\n",
       "       'meta.clinical.mel_thick_mm', 'meta.unstructured.mel_assoc_nevus',\n",
       "       'meta.unstructured.Location', 'meta.unstructured.diagnosis_short'],\n",
       "      dtype='object')"
      ]
     },
     "execution_count": 9,
     "metadata": {},
     "output_type": "execute_result"
    }
   ],
   "source": [
    "df.columns # check what data we have from the meta data"
   ]
  },
  {
   "cell_type": "markdown",
   "metadata": {},
   "source": [
    "For later use, pickle the metatdata information into \"isic_data\""
   ]
  },
  {
   "cell_type": "code",
   "execution_count": 10,
   "metadata": {},
   "outputs": [],
   "source": [
    "# Save meta data in dataframe : isic_data\n",
    "name=\"isic_data\"\n",
    "pickle.dump(df,open(name,\"wb\"))"
   ]
  },
  {
   "cell_type": "markdown",
   "metadata": {},
   "source": [
    "If the meta data is needed, the script can start from here"
   ]
  },
  {
   "cell_type": "code",
   "execution_count": 11,
   "metadata": {},
   "outputs": [],
   "source": [
    "# Load meta data in dataframe : isic_data\n",
    "name=\"isic_data\"\n",
    "df=pickle.load(open(name,\"rb\"))"
   ]
  },
  {
   "cell_type": "code",
   "execution_count": 12,
   "metadata": {},
   "outputs": [
    {
     "data": {
      "text/plain": [
       "Index(['_id', '_modelType', 'created', 'creator._id', 'creator.name',\n",
       "       'dataset._accessLevel', 'dataset._id', 'dataset.description',\n",
       "       'dataset.license', 'dataset.name', 'dataset.updated',\n",
       "       'meta.acquisition.image_type', 'meta.acquisition.pixelsX',\n",
       "       'meta.acquisition.pixelsY', 'meta.clinical.age_approx',\n",
       "       'meta.clinical.anatom_site_general', 'meta.clinical.benign_malignant',\n",
       "       'meta.clinical.clin_size_long_diam_mm', 'meta.clinical.diagnosis',\n",
       "       'meta.clinical.diagnosis_confirm_type', 'meta.clinical.family_hx_mm',\n",
       "       'meta.clinical.melanocytic', 'meta.clinical.personal_hx_mm',\n",
       "       'meta.clinical.sex', 'meta.unstructured.change',\n",
       "       'meta.unstructured.changedtypeapr02_2015', 'meta.unstructured.location',\n",
       "       'meta.unstructured.patientlocation', 'meta.unstructured.ptconcern',\n",
       "       'meta.unstructured.quantloc', 'name', 'notes.reviewed.accepted',\n",
       "       'notes.reviewed.time', 'notes.reviewed.userId', 'notes.tags', 'updated',\n",
       "       'meta.unstructured.diagnosis', 'meta.unstructured.race',\n",
       "       'meta.unstructured.grade', 'meta.unstructured.lesion_id',\n",
       "       'meta.unstructured.localization', 'meta.acquisition.dermoscopic_type',\n",
       "       'meta.unstructured.Breslow', 'meta.unstructured.Clark',\n",
       "       'meta.unstructured.biopsy done',\n",
       "       'meta.unstructured.clinical diagnosis/impression',\n",
       "       'meta.unstructured.lesion id', 'meta.unstructured.pathology diagnosis',\n",
       "       'meta.unstructured.pathology diagnosis subtype',\n",
       "       'meta.unstructured.pathology report available',\n",
       "       'meta.unstructured.patient', 'meta.unstructured.previous biopsy',\n",
       "       'meta.clinical.nevus_type', 'meta.unstructured.anatom_site_general',\n",
       "       'meta.unstructured.anatomic', 'meta.unstructured.laterality',\n",
       "       'meta.unstructured.mel_assoc_nev', 'meta.unstructured.mel_class',\n",
       "       'meta.unstructured.mel_mit', 'meta.unstructured.mel_thick',\n",
       "       'meta.unstructured.mel_type', 'meta.unstructured.ulcer',\n",
       "       'meta.unstructured.vertical', 'meta.unstructured.id1',\n",
       "       'meta.unstructured.site', 'meta.clinical.mel_class',\n",
       "       'meta.clinical.mel_thick_mm', 'meta.unstructured.mel_assoc_nevus',\n",
       "       'meta.unstructured.Location', 'meta.unstructured.diagnosis_short'],\n",
       "      dtype='object')"
      ]
     },
     "execution_count": 12,
     "metadata": {},
     "output_type": "execute_result"
    }
   ],
   "source": [
    "df.columns"
   ]
  },
  {
   "cell_type": "markdown",
   "metadata": {},
   "source": [
    "Identify benign vs. malignant pictures. For the purpose of this analysis, lesion that were \"indeterminate\" were excluded"
   ]
  },
  {
   "cell_type": "code",
   "execution_count": 13,
   "metadata": {},
   "outputs": [
    {
     "data": {
      "text/plain": [
       "array(['benign', nan, 'malignant', None, 'indeterminate/malignant',\n",
       "       'indeterminate', 'indeterminate/benign'], dtype=object)"
      ]
     },
     "execution_count": 13,
     "metadata": {},
     "output_type": "execute_result"
    }
   ],
   "source": [
    "# Check what the categories are\n",
    "df['meta.clinical.benign_malignant'].unique()"
   ]
  },
  {
   "cell_type": "code",
   "execution_count": 14,
   "metadata": {},
   "outputs": [],
   "source": [
    "# take only what is classified as benign and malignant to avoid confusion\n",
    "benign=df[df['meta.clinical.benign_malignant']=='benign']\n",
    "malignant=df[df['meta.clinical.benign_malignant']=='malignant']"
   ]
  },
  {
   "cell_type": "markdown",
   "metadata": {},
   "source": [
    "1. size of the lesion\n"
   ]
  },
  {
   "cell_type": "code",
   "execution_count": 15,
   "metadata": {},
   "outputs": [],
   "source": [
    "sizes=df['meta.clinical.clin_size_long_diam_mm'].dropna().tolist() # sizes= sizes of all lesions\n",
    "sizesm=malignant['meta.clinical.clin_size_long_diam_mm'].dropna().tolist() # sizesm = malignant lesions\n",
    "sizesb=benign['meta.clinical.clin_size_long_diam_mm'].dropna().tolist() # sizesb = benign lesions"
   ]
  },
  {
   "cell_type": "code",
   "execution_count": 16,
   "metadata": {},
   "outputs": [],
   "source": [
    "def make_hist(data,title=\"\",x_lab=\"\",y_lab=\"\",bins=10,xticks=np.arange(0, round(max(sizesm),-1), 5),\n",
    "              log=False, density=False):\n",
    "    \"\"\"\n",
    "    make a histogram using list of data: data\n",
    "    x_lab: x-axis label\n",
    "    y_lab: y-axis label\n",
    "    \"\"\"\n",
    "    plt.hist(data,bins=bins,density=density)\n",
    "    plt.xticks(xticks)\n",
    "    if log==True:\n",
    "        plt.yscale(\"log\")# y axis scaled as logarithmic if the data are hard to see as is\n",
    "    plt.title(title)\n",
    "    plt.xlabel(x_lab)\n",
    "    plt.ylabel(y_lab)\n",
    "    return"
   ]
  },
  {
   "cell_type": "code",
   "execution_count": 17,
   "metadata": {},
   "outputs": [
    {
     "data": {
      "image/png": "[encoded data removed]",
      "text/plain": [
       "<Figure size 432x288 with 1 Axes>"
      ]
     },
     "metadata": {
      "needs_background": "light"
     },
     "output_type": "display_data"
    }
   ],
   "source": [
    "# Histogram for size of malignant lesion\n",
    "make_hist(sizesm,title=\"size distribution of malignant lesion\",x_lab='size (mm)',y_lab='Normalized ratio',density=True)"
   ]
  },
  {
   "cell_type": "code",
   "execution_count": 18,
   "metadata": {},
   "outputs": [
    {
     "data": {
      "image/png": "[encoded data removed]",
      "text/plain": [
       "<Figure size 432x288 with 1 Axes>"
      ]
     },
     "metadata": {
      "needs_background": "light"
     },
     "output_type": "display_data"
    }
   ],
   "source": [
    "# Histogram for size of benign lesion\n",
    "make_hist(sizesb,title=\"size distribution of benign lesion\",x_lab='size (mm)',y_lab='Normalized ratio',density=True)"
   ]
  },
  {
   "cell_type": "code",
   "execution_count": 19,
   "metadata": {},
   "outputs": [],
   "source": [
    "def ecdf(data):\n",
    "    \"\"\"Compute empirical cumulative distribution function\n",
    "    for a one-dimensional array of measurements.\"\"\"\n",
    "    # Number of data points: n\n",
    "    n = len(data)\n",
    "\n",
    "    # x-data for the ECDF: x\n",
    "    x = np.sort(data)\n",
    "\n",
    "    # y-data for the ECDF: y\n",
    "    y = np.arange(1, n+1) / n\n",
    "\n",
    "    return x, y"
   ]
  },
  {
   "cell_type": "markdown",
   "metadata": {},
   "source": [
    "Next we look at ECDF to see the distribution of each malignant and benign lesions."
   ]
  },
  {
   "cell_type": "code",
   "execution_count": 20,
   "metadata": {},
   "outputs": [
    {
     "data": {
      "text/plain": [
       "Text(0.5, 1.0, 'Malignant lesion ECDF')"
      ]
     },
     "execution_count": 20,
     "metadata": {},
     "output_type": "execute_result"
    },
    {
     "data": {
      "image/png": "[encoded data removed]",
      "text/plain": [
       "<Figure size 432x288 with 1 Axes>"
      ]
     },
     "metadata": {
      "needs_background": "light"
     },
     "output_type": "display_data"
    }
   ],
   "source": [
    "x_msize,y_msize=ecdf(sizesm) # get x and y for ecdf: x_msize, y_msize\n",
    "\n",
    "# plot two ecdf on top of one another to see the difference\n",
    "plt.plot(x_msize,y_msize, marker='.',linestyle='none')\n",
    "plt.title(\"Malignant lesion ECDF\")"
   ]
  },
  {
   "cell_type": "code",
   "execution_count": 21,
   "metadata": {},
   "outputs": [
    {
     "data": {
      "text/plain": [
       "Text(0.5, 1.0, 'Benign lesion ECDF')"
      ]
     },
     "execution_count": 21,
     "metadata": {},
     "output_type": "execute_result"
    },
    {
     "data": {
      "image/png": "[encoded data removed]",
      "text/plain": [
       "<Figure size 432x288 with 1 Axes>"
      ]
     },
     "metadata": {
      "needs_background": "light"
     },
     "output_type": "display_data"
    }
   ],
   "source": [
    "x_bsize,y_bsize=ecdf(sizesb) # get x and y for ecdf: x_bsize, y_bsize\n",
    "\n",
    "# plot two ecdf on top of one another to see the difference\n",
    "plt.plot(x_bsize,y_bsize, marker='.',linestyle='none')\n",
    "plt.title(\"Benign lesion ECDF\")"
   ]
  },
  {
   "cell_type": "code",
   "execution_count": 22,
   "metadata": {},
   "outputs": [
    {
     "data": {
      "text/plain": [
       "Text(0.5, 1.0, 'ECDF of Malignant vs. Benign')"
      ]
     },
     "execution_count": 22,
     "metadata": {},
     "output_type": "execute_result"
    },
    {
     "data": {
      "image/png": "[encoded data removed]",
      "text/plain": [
       "<Figure size 432x288 with 1 Axes>"
      ]
     },
     "metadata": {
      "needs_background": "light"
     },
     "output_type": "display_data"
    }
   ],
   "source": [
    "# compare the distribution of benign and malignant lesion\n",
    "plt.plot(x_bsize,y_bsize,label='benign')\n",
    "plt.plot(x_msize,y_msize,label='malignant')\n",
    "plt.xlabel('size')\n",
    "plt.legend()\n",
    "plt.title(\"ECDF of Malignant vs. Benign\")"
   ]
  },
  {
   "cell_type": "markdown",
   "metadata": {},
   "source": [
    "As seen on the plot, the actual values have several lesions that are very big which makes the rest of the graph difficult to see.\n",
    "\n",
    "In order to get a better idea of the difference between benign and malignant lesion, normalized samples were randomly selected to generate the ECDF plot."
   ]
  },
  {
   "cell_type": "code",
   "execution_count": 23,
   "metadata": {},
   "outputs": [],
   "source": [
    "# compare normalized ecdf to regular ecdf of malignant lesions\n",
    "msize_samples=np.random.normal(np.mean(sizesm),np.std(sizesm),size=100)\n",
    "x_msize_norm,y_msize_norm=ecdf(msize_samples) # get normalized ecdf\n",
    "\n",
    "# compare normalized ecdf to regular ecdf of benign lesions\n",
    "bsize_samples=np.random.normal(np.mean(sizesb),np.std(sizesb),size=100)\n",
    "x_bsize_norm,y_bsize_norm=ecdf(bsize_samples) # get normalized ecdf\n"
   ]
  },
  {
   "cell_type": "code",
   "execution_count": 24,
   "metadata": {},
   "outputs": [
    {
     "data": {
      "text/plain": [
       "<matplotlib.legend.Legend at 0x7ff9d5302cf8>"
      ]
     },
     "execution_count": 24,
     "metadata": {},
     "output_type": "execute_result"
    },
    {
     "data": {
      "image/png": "[encoded data removed]",
      "text/plain": [
       "<Figure size 432x288 with 1 Axes>"
      ]
     },
     "metadata": {
      "needs_background": "light"
     },
     "output_type": "display_data"
    }
   ],
   "source": [
    "plt.plot(x_bsize_norm,y_bsize_norm,label='benign')\n",
    "plt.plot(x_msize_norm,y_msize_norm,label='malignant')\n",
    "plt.xlabel('size')\n",
    "plt.legend()"
   ]
  },
  {
   "cell_type": "markdown",
   "metadata": {},
   "source": [
    "Distribution of malignant lesion is clearly more towards the right than the benign which implies malignant lesions are likely to be bigger than benign. <br></br> A Student's T-test was performed to check if the difference is significant."
   ]
  },
  {
   "cell_type": "code",
   "execution_count": 25,
   "metadata": {},
   "outputs": [],
   "source": [
    "from scipy.stats import ttest_ind\n",
    "\n",
    "def checkttest(a,b,alpha=0.01):\n",
    "    \"\"\"\n",
    "    Performs Student's t test for a and b\n",
    "    a, b: two datasets\n",
    "    \"\"\"\n",
    "    pval=ttest_ind(a,b).pvalue # get p value: pval\n",
    "    # the difference between the value a and b is significant\n",
    "    # if the p-value is smaller than alpha(default: 0.01)\n",
    "    if pval<=alpha:\n",
    "        print(pval,\"Mean is different enough to be significant\")\n",
    "    else:\n",
    "        print(pval, \"Mean is too similar to be significant\")"
   ]
  },
  {
   "cell_type": "code",
   "execution_count": 26,
   "metadata": {},
   "outputs": [
    {
     "name": "stdout",
     "output_type": "stream",
     "text": [
      "2.7279515204510347e-29 Mean is different enough to be significant\n"
     ]
    }
   ],
   "source": [
    "checkttest(sizesb,sizesm)"
   ]
  },
  {
   "cell_type": "markdown",
   "metadata": {},
   "source": [
    "Conclusion: bigger mole is more likely to be malignant"
   ]
  },
  {
   "cell_type": "markdown",
   "metadata": {},
   "source": [
    "2. age of the patients"
   ]
  },
  {
   "cell_type": "code",
   "execution_count": 27,
   "metadata": {},
   "outputs": [],
   "source": [
    "malig_age=np.sort(malignant['meta.clinical.age_approx'].dropna()) # age of patients with malignant lesion"
   ]
  },
  {
   "cell_type": "code",
   "execution_count": 28,
   "metadata": {},
   "outputs": [],
   "source": [
    "benign_age=np.sort(benign['meta.clinical.age_approx'].dropna()) # age of patients with benign lesion"
   ]
  },
  {
   "cell_type": "code",
   "execution_count": 29,
   "metadata": {},
   "outputs": [
    {
     "data": {
      "image/png": "[encoded data removed]",
      "text/plain": [
       "<Figure size 432x288 with 1 Axes>"
      ]
     },
     "metadata": {
      "needs_background": "light"
     },
     "output_type": "display_data"
    }
   ],
   "source": [
    "# Histogram of age of patients with malignant lesion\n",
    "make_hist(malig_age,density=True,title=\"Age distribution of malignant lesion\")"
   ]
  },
  {
   "cell_type": "code",
   "execution_count": 30,
   "metadata": {},
   "outputs": [
    {
     "name": "stdout",
     "output_type": "stream",
     "text": [
      "The average age of patient with malignant lesion is 62.0 with the standard deviation 15.78\n"
     ]
    }
   ],
   "source": [
    "malig_mean=np.mean(malig_age)\n",
    "malig_std=np.std(malig_age)\n",
    "print(\"The average age of patient with malignant lesion is \"+str(round(malig_mean,2))\n",
    "      + \" with the standard deviation \"+str(round(malig_std,2)))"
   ]
  },
  {
   "cell_type": "code",
   "execution_count": 31,
   "metadata": {},
   "outputs": [
    {
     "data": {
      "image/png": "[encoded data removed]",
      "text/plain": [
       "<Figure size 432x288 with 1 Axes>"
      ]
     },
     "metadata": {
      "needs_background": "light"
     },
     "output_type": "display_data"
    }
   ],
   "source": [
    "# Histogram of age of patients with benign lesion\n",
    "make_hist(benign_age,density=True,title=\"Age distribution of benign lesion\")"
   ]
  },
  {
   "cell_type": "code",
   "execution_count": 32,
   "metadata": {},
   "outputs": [
    {
     "name": "stdout",
     "output_type": "stream",
     "text": [
      "The average age of patient with benign lesion is 31.52 with the standard deviation 20.65\n"
     ]
    }
   ],
   "source": [
    "ben_mean=np.mean(benign_age)\n",
    "ben_std=np.std(benign_age)\n",
    "print(\"The average age of patient with benign lesion is \"+str(round(ben_mean,2))\n",
    "      + \" with the standard deviation \"+str(round(ben_std,2)))"
   ]
  },
  {
   "cell_type": "markdown",
   "metadata": {},
   "source": [
    "The benign data had a sudden big spike on the teenagers. After looking over the data, the dataset 'SONIC' was shown to only contain benign lesion from young students. As this might cause the average patient age in benign lesion to drop significantly, this dataset was removed."
   ]
  },
  {
   "cell_type": "code",
   "execution_count": 33,
   "metadata": {},
   "outputs": [],
   "source": [
    "benign_no_sonic=benign[benign['dataset.name'] != 'SONIC']"
   ]
  },
  {
   "cell_type": "code",
   "execution_count": 34,
   "metadata": {},
   "outputs": [],
   "source": [
    "ben_no_sonic_age=np.sort(benign_no_sonic['meta.clinical.age_approx'].dropna())\n",
    "# age of patients(not included in the dataset \"SONIC\") with benign lesion"
   ]
  },
  {
   "cell_type": "code",
   "execution_count": 35,
   "metadata": {},
   "outputs": [
    {
     "data": {
      "image/png": "[encoded data removed]",
      "text/plain": [
       "<Figure size 432x288 with 1 Axes>"
      ]
     },
     "metadata": {
      "needs_background": "light"
     },
     "output_type": "display_data"
    }
   ],
   "source": [
    "make_hist(ben_no_sonic_age,density=True,title=\"Age distribution of benign lesion without SONIC\")"
   ]
  },
  {
   "cell_type": "code",
   "execution_count": 36,
   "metadata": {},
   "outputs": [
    {
     "name": "stdout",
     "output_type": "stream",
     "text": [
      "If we exclude the dataset from \"SONIC\", the average age of patient with benign lesion is 47.85 with the standard deviation 16.58\n"
     ]
    }
   ],
   "source": [
    "ben_no_sonic_mean=np.mean(ben_no_sonic_age)\n",
    "ben_no_sonic_std=np.std(ben_no_sonic_age)\n",
    "print(\"If we exclude the dataset from \\\"SONIC\\\", the average age of patient with benign lesion is \"+str(round(ben_no_sonic_mean,2))\n",
    "      + \" with the standard deviation \"+str(round(ben_no_sonic_std,2)))"
   ]
  },
  {
   "cell_type": "markdown",
   "metadata": {},
   "source": [
    "We will also look at the ecdf of age data to better understand distribution"
   ]
  },
  {
   "cell_type": "code",
   "execution_count": 37,
   "metadata": {},
   "outputs": [
    {
     "data": {
      "text/plain": [
       "[<matplotlib.lines.Line2D at 0x7ff9d5d4be48>]"
      ]
     },
     "execution_count": 37,
     "metadata": {},
     "output_type": "execute_result"
    },
    {
     "data": {
      "image/png": "[encoded data removed]",
      "text/plain": [
       "<Figure size 432x288 with 1 Axes>"
      ]
     },
     "metadata": {
      "needs_background": "light"
     },
     "output_type": "display_data"
    }
   ],
   "source": [
    "malig_samples=np.random.normal(malig_mean,malig_std,size=10000)\n",
    "\n",
    "x_malig_norm,y_malig_norm=ecdf(malig_samples)\n",
    "x_malig,y_malig=ecdf(malig_age)\n",
    "\n",
    "plt.plot(x_malig_norm,y_malig_norm)\n",
    "plt.plot(x_malig,y_malig, marker='.',linestyle='none')"
   ]
  },
  {
   "cell_type": "code",
   "execution_count": 38,
   "metadata": {},
   "outputs": [
    {
     "data": {
      "text/plain": [
       "[<matplotlib.lines.Line2D at 0x7ff9d63eb978>]"
      ]
     },
     "execution_count": 38,
     "metadata": {},
     "output_type": "execute_result"
    },
    {
     "data": {
      "image/png": "[encoded data removed]",
      "text/plain": [
       "<Figure size 432x288 with 1 Axes>"
      ]
     },
     "metadata": {
      "needs_background": "light"
     },
     "output_type": "display_data"
    }
   ],
   "source": [
    "ben_samples=np.random.normal(ben_mean,ben_std,size=10000)\n",
    "\n",
    "x_ben_norm,y_ben_norm=ecdf(ben_samples)\n",
    "x_ben,y_ben=ecdf(benign_age)\n",
    "\n",
    "plt.plot(x_ben_norm,y_ben_norm)\n",
    "plt.plot(x_ben,y_ben, marker='.',linestyle='none')"
   ]
  },
  {
   "cell_type": "code",
   "execution_count": 39,
   "metadata": {},
   "outputs": [
    {
     "data": {
      "text/plain": [
       "[<matplotlib.lines.Line2D at 0x7ff9d66f0cc0>]"
      ]
     },
     "execution_count": 39,
     "metadata": {},
     "output_type": "execute_result"
    },
    {
     "data": {
      "image/png": "[encoded data removed]",
      "text/plain": [
       "<Figure size 432x288 with 1 Axes>"
      ]
     },
     "metadata": {
      "needs_background": "light"
     },
     "output_type": "display_data"
    }
   ],
   "source": [
    "ben_samples=np.random.normal(ben_no_sonic_mean,ben_no_sonic_std,size=10000)\n",
    "\n",
    "x_ben_norm,y_ben_norm=ecdf(ben_samples)\n",
    "x_ben,y_ben=ecdf(ben_no_sonic_age)\n",
    "\n",
    "plt.plot(x_ben_norm,y_ben_norm)\n",
    "plt.plot(x_ben,y_ben, marker='.',linestyle='none')"
   ]
  },
  {
   "cell_type": "code",
   "execution_count": 40,
   "metadata": {},
   "outputs": [
    {
     "data": {
      "text/plain": [
       "<matplotlib.legend.Legend at 0x7ff9d68f09e8>"
      ]
     },
     "execution_count": 40,
     "metadata": {},
     "output_type": "execute_result"
    },
    {
     "data": {
      "image/png": "[encoded data removed]",
      "text/plain": [
       "<Figure size 432x288 with 1 Axes>"
      ]
     },
     "metadata": {
      "needs_background": "light"
     },
     "output_type": "display_data"
    }
   ],
   "source": [
    "plt.plot(x_ben_norm,y_ben_norm, label='benign')\n",
    "plt.plot(x_malig_norm,y_malig_norm, label='malignant')\n",
    "plt.xlabel('age')\n",
    "plt.legend()"
   ]
  },
  {
   "cell_type": "markdown",
   "metadata": {},
   "source": [
    "ECDF graph implies that patients with benign lesions are younger than patients with malignant lesion.<br></br>\n",
    "Student's T test was performed to confirm this statement."
   ]
  },
  {
   "cell_type": "code",
   "execution_count": 41,
   "metadata": {},
   "outputs": [
    {
     "name": "stdout",
     "output_type": "stream",
     "text": [
      "9.37418008472944e-276 Mean is different enough to be significant\n"
     ]
    }
   ],
   "source": [
    "checkttest(ben_no_sonic_age,malig_age)"
   ]
  },
  {
   "cell_type": "markdown",
   "metadata": {},
   "source": [
    "The result of the T-test confirms that the age is a significant factor in malignancy."
   ]
  },
  {
   "cell_type": "markdown",
   "metadata": {},
   "source": [
    "Conclusion: Lesion appearing on the older patient is more likely to be malignant"
   ]
  },
  {
   "cell_type": "markdown",
   "metadata": {},
   "source": [
    "3. Race of each patients"
   ]
  },
  {
   "cell_type": "code",
   "execution_count": 42,
   "metadata": {},
   "outputs": [
    {
     "data": {
      "text/plain": [
       "23906"
      ]
     },
     "execution_count": 42,
     "metadata": {},
     "output_type": "execute_result"
    }
   ],
   "source": [
    "len(df['meta.unstructured.race'])"
   ]
  },
  {
   "cell_type": "code",
   "execution_count": 43,
   "metadata": {},
   "outputs": [
    {
     "name": "stdout",
     "output_type": "stream",
     "text": [
      "white           8486\n",
      "hispanic         771\n",
      "unknown          547\n",
      "asian            184\n",
      "black             74\n",
      "native ame         5\n",
      "multi racial       3\n",
      "dtype: int64\n"
     ]
    }
   ],
   "source": [
    "import pandas as pd\n",
    "# Find the position of moles\n",
    "race=df['meta.unstructured.race'].dropna()\n",
    "race=pd.Series([x.lower() for x in list(race)])\n",
    "race_data=race.value_counts()\n",
    "race_dict=dict(race_data)\n",
    "print(race_data)"
   ]
  },
  {
   "cell_type": "code",
   "execution_count": 44,
   "metadata": {},
   "outputs": [],
   "source": [
    "def make_bar(dictionary, title=\"\",x_tick_rotation=70):\n",
    "    \"\"\" \n",
    "    Show bar plot of the dictionary\n",
    "    input: dict\n",
    "    output: show plot\n",
    "    \"\"\"\n",
    "    fig, ax = plt.subplots()\n",
    "    labels=list(dictionary.keys())\n",
    "    x = np.arange(len(dictionary))  # the label locations\n",
    "    ax.bar(x, dictionary.values())\n",
    "    ax.set_xticks(x)\n",
    "    ax.set_xticklabels(labels)\n",
    "    ax.xaxis.set_tick_params(rotation=70)\n",
    "    ax.set_title(title)\n",
    "    return\n",
    "    "
   ]
  },
  {
   "cell_type": "code",
   "execution_count": 45,
   "metadata": {},
   "outputs": [
    {
     "data": {
      "image/png": "[encoded data removed]",
      "text/plain": [
       "<Figure size 432x288 with 1 Axes>"
      ]
     },
     "metadata": {
      "needs_background": "light"
     },
     "output_type": "display_data"
    }
   ],
   "source": [
    "make_bar(race_dict,\"Race of all patients\")"
   ]
  },
  {
   "cell_type": "markdown",
   "metadata": {},
   "source": [
    "To understand the distribution better, we will look at a pie chart"
   ]
  },
  {
   "cell_type": "code",
   "execution_count": 46,
   "metadata": {},
   "outputs": [],
   "source": [
    "percentage_race_dict={k:round(100*race_dict[k]/sum(race_dict.values()),2) for k in race_dict}"
   ]
  },
  {
   "cell_type": "code",
   "execution_count": 47,
   "metadata": {},
   "outputs": [
    {
     "data": {
      "text/plain": [
       "{'white': 84.27,\n",
       " 'hispanic': 7.66,\n",
       " 'unknown': 5.43,\n",
       " 'asian': 1.83,\n",
       " 'black': 0.73,\n",
       " 'native ame': 0.05,\n",
       " 'multi racial': 0.03}"
      ]
     },
     "execution_count": 47,
     "metadata": {},
     "output_type": "execute_result"
    }
   ],
   "source": [
    "percentage_race_dict"
   ]
  },
  {
   "cell_type": "code",
   "execution_count": 48,
   "metadata": {},
   "outputs": [],
   "source": [
    "percentage_race_dict['others']=percentage_race_dict['native ame']+percentage_race_dict['multi racial']\n",
    "del percentage_race_dict['native ame']\n",
    "del percentage_race_dict['multi racial']"
   ]
  },
  {
   "cell_type": "code",
   "execution_count": 49,
   "metadata": {},
   "outputs": [
    {
     "data": {
      "image/png": "[encoded data removed]",
      "text/plain": [
       "<Figure size 720x720 with 1 Axes>"
      ]
     },
     "metadata": {},
     "output_type": "display_data"
    }
   ],
   "source": [
    "plt.pie(percentage_race_dict.values(),labels=percentage_race_dict.keys(),autopct='%1.1f%%',explode=[0,0.1,0.1,0.2,0.23,0.3])\n",
    "plt.title(\"Pie plot for race distribution\")\n",
    "fig = plt.gcf()\n",
    "fig.set_size_inches(10,10)"
   ]
  },
  {
   "cell_type": "markdown",
   "metadata": {},
   "source": [
    "White individuals are far more likely to visit the hospital to get their lesions checked then any other race.<br></br>\n",
    "This may be due to the simple fact that white americans make up about 70 percent of the population, or the fact that dark colored lesions are more visible on paler skin."
   ]
  },
  {
   "cell_type": "markdown",
   "metadata": {},
   "source": [
    "To find out whether the race of the patient is significant in determining malignancy of the lesion, the ratio of malignant lesion compared to the total number of patients were calculated"
   ]
  },
  {
   "cell_type": "code",
   "execution_count": 50,
   "metadata": {},
   "outputs": [
    {
     "name": "stdout",
     "output_type": "stream",
     "text": [
      "unknown    111\n",
      "white      104\n",
      "asian        1\n",
      "dtype: int64\n"
     ]
    }
   ],
   "source": [
    "race_mal=malignant['meta.unstructured.race'].dropna()\n",
    "race_mal=pd.Series([x.lower() for x in list(race_mal)])\n",
    "race_mal_data=race_mal.value_counts()\n",
    "race_mal_dict=dict(race_mal_data)\n",
    "print(race_mal_data)"
   ]
  },
  {
   "cell_type": "code",
   "execution_count": 51,
   "metadata": {},
   "outputs": [
    {
     "data": {
      "image/png": "[encoded data removed]",
      "text/plain": [
       "<Figure size 432x288 with 1 Axes>"
      ]
     },
     "metadata": {
      "needs_background": "light"
     },
     "output_type": "display_data"
    }
   ],
   "source": [
    "make_bar(race_mal_dict,\"Race of patients with malignant melanoma\")"
   ]
  },
  {
   "cell_type": "code",
   "execution_count": 52,
   "metadata": {},
   "outputs": [],
   "source": [
    "# make a dictionary of percentage of lesion with malignancy\n",
    "percentage_mal_dict={k: race_mal_dict[k] / race_dict[k] for k in race_dict if k in race_mal_dict}"
   ]
  },
  {
   "cell_type": "code",
   "execution_count": 53,
   "metadata": {},
   "outputs": [
    {
     "data": {
      "image/png": "[encoded data removed]",
      "text/plain": [
       "<Figure size 432x288 with 1 Axes>"
      ]
     },
     "metadata": {
      "needs_background": "light"
     },
     "output_type": "display_data"
    }
   ],
   "source": [
    "make_bar(percentage_mal_dict,\"Percentage of malignant lesion\")"
   ]
  },
  {
   "cell_type": "markdown",
   "metadata": {},
   "source": [
    "It is difficult to say if the race of the patient affects malignancy, as there was no data from races other than Asian and White."
   ]
  },
  {
   "cell_type": "markdown",
   "metadata": {},
   "source": [
    "4. Position of the lesion"
   ]
  },
  {
   "cell_type": "code",
   "execution_count": 54,
   "metadata": {},
   "outputs": [
    {
     "name": "stdout",
     "output_type": "stream",
     "text": [
      "posterior torso    3209\n",
      "lower extremity    3145\n",
      "anterior torso     2127\n",
      "upper extremity    1920\n",
      "head/neck          1690\n",
      "lateral torso        75\n",
      "palms/soles          30\n",
      "Name: meta.clinical.anatom_site_general, dtype: int64\n"
     ]
    }
   ],
   "source": [
    "# Find the position of moles\n",
    "positions=df['meta.clinical.anatom_site_general'].dropna()\n",
    "pos_data=positions.value_counts()\n",
    "pos_dict=dict(pos_data)\n",
    "print(pos_data)"
   ]
  },
  {
   "cell_type": "code",
   "execution_count": 55,
   "metadata": {},
   "outputs": [
    {
     "data": {
      "image/png": "[encoded data removed]",
      "text/plain": [
       "<Figure size 432x288 with 1 Axes>"
      ]
     },
     "metadata": {
      "needs_background": "light"
     },
     "output_type": "display_data"
    }
   ],
   "source": [
    "make_bar(pos_dict)"
   ]
  },
  {
   "cell_type": "code",
   "execution_count": 56,
   "metadata": {},
   "outputs": [
    {
     "name": "stdout",
     "output_type": "stream",
     "text": [
      "{'posterior torso': 538, 'upper extremity': 455, 'lower extremity': 405, 'head/neck': 374, 'anterior torso': 260, 'lateral torso': 16, 'palms/soles': 8}\n"
     ]
    }
   ],
   "source": [
    "# Find the positions of malignant moles\n",
    "positions_mal=malignant['meta.clinical.anatom_site_general'].dropna()\n",
    "pos_mal_data=positions_mal.value_counts()\n",
    "pos_mal_dict=dict(pos_mal_data)\n",
    "print(pos_mal_dict)"
   ]
  },
  {
   "cell_type": "code",
   "execution_count": 57,
   "metadata": {},
   "outputs": [
    {
     "data": {
      "image/png": "[encoded data removed]",
      "text/plain": [
       "<Figure size 432x288 with 1 Axes>"
      ]
     },
     "metadata": {
      "needs_background": "light"
     },
     "output_type": "display_data"
    }
   ],
   "source": [
    "make_bar(pos_mal_dict)"
   ]
  },
  {
   "cell_type": "code",
   "execution_count": 58,
   "metadata": {},
   "outputs": [],
   "source": [
    "# make a dictionary of percentage of lesion with malignancy\n",
    "pos_mal_percentage={k: pos_mal_dict[k] / pos_dict[k] for k in pos_dict if k in pos_mal_dict}"
   ]
  },
  {
   "cell_type": "code",
   "execution_count": 59,
   "metadata": {},
   "outputs": [
    {
     "data": {
      "image/png": "[encoded data removed]",
      "text/plain": [
       "<Figure size 432x288 with 1 Axes>"
      ]
     },
     "metadata": {
      "needs_background": "light"
     },
     "output_type": "display_data"
    }
   ],
   "source": [
    "make_bar(pos_mal_percentage,\"Percentage of malignant lesion\")"
   ]
  },
  {
   "cell_type": "markdown",
   "metadata": {},
   "source": [
    "The mole on the palms or soles are more likely to be malignant than others.<br></br> Posterior torso, lower extremity, and anterior torso all seem to be less likely to develop malignant lesion than other parts, although they are the three most likely positions where a patient get a lesion. <br></br>This may be due to malignant melanoma developing from exposure to UV light as upper part of the body and palms are more likely to be exposed than the lower body part."
   ]
  },
  {
   "cell_type": "markdown",
   "metadata": {},
   "source": [
    "Conclusion: lesions are more likely to be malignant if 1. the size is big, 2. the patient is old, 3. it appeared on palm or sole."
   ]
  },
  {
   "cell_type": "code",
   "execution_count": null,
   "metadata": {},
   "outputs": [],
   "source": []
  }
 ],
 "metadata": {
  "kernelspec": {
   "display_name": "Python 3",
   "language": "python",
   "name": "python3"
  },
  "language_info": {
   "codemirror_mode": {
    "name": "ipython",
    "version": 3
   },
   "file_extension": ".py",
   "mimetype": "text/x-python",
   "name": "python",
   "nbconvert_exporter": "python",
   "pygments_lexer": "ipython3",
   "version": "3.7.0"
  }
 },
 "nbformat": 4,
 "nbformat_minor": 2
}
