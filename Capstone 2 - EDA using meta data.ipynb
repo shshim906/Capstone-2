{
 "cells": [
  {
   "cell_type": "markdown",
   "metadata": {},
   "source": [
    "## The purpose of the Capstone 2 project is to determine whether or not the lesion in an image is malignant or not "
   ]
  },
  {
   "cell_type": "markdown",
   "metadata": {},
   "source": [
    "import necessary libraries"
   ]
  },
  {
   "cell_type": "code",
   "execution_count": 1,
   "metadata": {},
   "outputs": [],
   "source": [
    "import os\n",
    "import random\n",
    "import numpy as np\n",
    "import matplotlib.pyplot as plt\n",
    "import matplotlib.image as mpimg\n",
    "import cv2\n",
    "import json\n",
    "path='/home/seo/ISIC_DATA'"
   ]
  },
  {
   "cell_type": "markdown",
   "metadata": {},
   "source": [
    "Get the path of the ISIC data and load metadata"
   ]
  },
  {
   "cell_type": "code",
   "execution_count": 2,
   "metadata": {},
   "outputs": [],
   "source": [
    "filelist=os.listdir(path)\n",
    "meta=[file for file in filelist if not file.endswith(\".jpeg\") and not file.endswith(\".png\") and file.startswith(\"ISIC\")]"
   ]
  },
  {
   "cell_type": "code",
   "execution_count": 3,
   "metadata": {
    "scrolled": true
   },
   "outputs": [
    {
     "data": {
      "text/plain": [
       "23906"
      ]
     },
     "execution_count": 3,
     "metadata": {},
     "output_type": "execute_result"
    }
   ],
   "source": [
    "len(meta)"
   ]
  },
  {
   "cell_type": "code",
   "execution_count": 6,
   "metadata": {},
   "outputs": [
    {
     "name": "stderr",
     "output_type": "stream",
     "text": [
      "/home/seo/environments/my_env/lib/python3.6/site-packages/pandas/core/frame.py:6692: FutureWarning: Sorting because non-concatenation axis is not aligned. A future version\n",
      "of pandas will change to not sort by default.\n",
      "\n",
      "To accept the future behavior, pass 'sort=False'.\n",
      "\n",
      "To retain the current behavior and silence the warning, pass 'sort=True'.\n",
      "\n",
      "  sort=sort)\n"
     ]
    }
   ],
   "source": [
    "import json\n",
    "from pandas.io.json import json_normalize\n",
    "import pandas as pd\n",
    "\n",
    "for file in meta:\n",
    "    filename=path+'/'+file\n",
    "    f=open(filename,\"rt\")\n",
    "    data=json.load(f)\n",
    "    if \"df\" not in locals():\n",
    "        df=json_normalize(data)\n",
    "    else:\n",
    "        df1=json_normalize(data)\n",
    "        df=df.append(df1,ignore_index=True)"
   ]
  },
  {
   "cell_type": "code",
   "execution_count": 7,
   "metadata": {},
   "outputs": [
    {
     "data": {
      "text/html": [
       "<div>\n",
       "<style scoped>\n",
       "    .dataframe tbody tr th:only-of-type {\n",
       "        vertical-align: middle;\n",
       "    }\n",
       "\n",
       "    .dataframe tbody tr th {\n",
       "        vertical-align: top;\n",
       "    }\n",
       "\n",
       "    .dataframe thead th {\n",
       "        text-align: right;\n",
       "    }\n",
       "</style>\n",
       "<table border=\"1\" class=\"dataframe\">\n",
       "  <thead>\n",
       "    <tr style=\"text-align: right;\">\n",
       "      <th></th>\n",
       "      <th>_id</th>\n",
       "      <th>_modelType</th>\n",
       "      <th>created</th>\n",
       "      <th>creator._id</th>\n",
       "      <th>creator.name</th>\n",
       "      <th>dataset._accessLevel</th>\n",
       "      <th>dataset._id</th>\n",
       "      <th>dataset.description</th>\n",
       "      <th>dataset.license</th>\n",
       "      <th>dataset.name</th>\n",
       "      <th>...</th>\n",
       "      <th>meta.unstructured.race</th>\n",
       "      <th>meta.unstructured.site</th>\n",
       "      <th>meta.unstructured.ulcer</th>\n",
       "      <th>meta.unstructured.vertical</th>\n",
       "      <th>name</th>\n",
       "      <th>notes.reviewed.accepted</th>\n",
       "      <th>notes.reviewed.time</th>\n",
       "      <th>notes.reviewed.userId</th>\n",
       "      <th>notes.tags</th>\n",
       "      <th>updated</th>\n",
       "    </tr>\n",
       "  </thead>\n",
       "  <tbody>\n",
       "    <tr>\n",
       "      <th>0</th>\n",
       "      <td>558d618dbae47801cf734963</td>\n",
       "      <td>image</td>\n",
       "      <td>2015-06-26T14:28:29.770000+00:00</td>\n",
       "      <td>54cb974fbae47819d8e4c727</td>\n",
       "      <td>User GQZH</td>\n",
       "      <td>0</td>\n",
       "      <td>5a2ecc5d1165975c94594284</td>\n",
       "      <td>Biopsy-confirmed melanocytic and non-melanocyt...</td>\n",
       "      <td>CC-0</td>\n",
       "      <td>MSK-2</td>\n",
       "      <td>...</td>\n",
       "      <td>NaN</td>\n",
       "      <td>NaN</td>\n",
       "      <td>NaN</td>\n",
       "      <td>NaN</td>\n",
       "      <td>ISIC_0010281</td>\n",
       "      <td>True</td>\n",
       "      <td>2015-07-02T18:01:14.906000+00:00</td>\n",
       "      <td>5450e996bae47865794e4d0d</td>\n",
       "      <td>[]</td>\n",
       "      <td>2015-10-02T15:33:45.996000+00:00</td>\n",
       "    </tr>\n",
       "    <tr>\n",
       "      <th>1</th>\n",
       "      <td>558d618dbae47801cf734963</td>\n",
       "      <td>image</td>\n",
       "      <td>2015-06-26T14:28:29.770000+00:00</td>\n",
       "      <td>54cb974fbae47819d8e4c727</td>\n",
       "      <td>User GQZH</td>\n",
       "      <td>0</td>\n",
       "      <td>5a2ecc5d1165975c94594284</td>\n",
       "      <td>Biopsy-confirmed melanocytic and non-melanocyt...</td>\n",
       "      <td>CC-0</td>\n",
       "      <td>MSK-2</td>\n",
       "      <td>...</td>\n",
       "      <td>NaN</td>\n",
       "      <td>NaN</td>\n",
       "      <td>NaN</td>\n",
       "      <td>NaN</td>\n",
       "      <td>ISIC_0010281</td>\n",
       "      <td>True</td>\n",
       "      <td>2015-07-02T18:01:14.906000+00:00</td>\n",
       "      <td>5450e996bae47865794e4d0d</td>\n",
       "      <td>[]</td>\n",
       "      <td>2015-10-02T15:33:45.996000+00:00</td>\n",
       "    </tr>\n",
       "    <tr>\n",
       "      <th>2</th>\n",
       "      <td>550902ddbae478359aa587e2</td>\n",
       "      <td>image</td>\n",
       "      <td>2015-03-18T04:45:17.559000+00:00</td>\n",
       "      <td>54cb974fbae47819d8e4c727</td>\n",
       "      <td>User GQZH</td>\n",
       "      <td>0</td>\n",
       "      <td>5a2ecc5e1165975c945942a0</td>\n",
       "      <td>Moles in children.\\nBenign melanocytic lesions...</td>\n",
       "      <td>CC-0</td>\n",
       "      <td>SONIC</td>\n",
       "      <td>...</td>\n",
       "      <td>White</td>\n",
       "      <td>NaN</td>\n",
       "      <td>NaN</td>\n",
       "      <td>NaN</td>\n",
       "      <td>ISIC_0008546</td>\n",
       "      <td>True</td>\n",
       "      <td>2015-08-21T16:57:37.376000+00:00</td>\n",
       "      <td>55d5e0ce9fc3c10470dba1a1</td>\n",
       "      <td>[]</td>\n",
       "      <td>2015-12-09T14:46:29.099000+00:00</td>\n",
       "    </tr>\n",
       "    <tr>\n",
       "      <th>3</th>\n",
       "      <td>558d60c7bae47801cf7344ef</td>\n",
       "      <td>image</td>\n",
       "      <td>2015-06-26T14:25:11.490000+00:00</td>\n",
       "      <td>54cb974fbae47819d8e4c727</td>\n",
       "      <td>User GQZH</td>\n",
       "      <td>0</td>\n",
       "      <td>5a2ecc5d1165975c94594284</td>\n",
       "      <td>Biopsy-confirmed melanocytic and non-melanocyt...</td>\n",
       "      <td>CC-0</td>\n",
       "      <td>MSK-2</td>\n",
       "      <td>...</td>\n",
       "      <td>NaN</td>\n",
       "      <td>NaN</td>\n",
       "      <td>NaN</td>\n",
       "      <td>NaN</td>\n",
       "      <td>ISIC_0010002</td>\n",
       "      <td>True</td>\n",
       "      <td>2015-06-30T16:07:42.665000+00:00</td>\n",
       "      <td>5450e996bae47865794e4d0d</td>\n",
       "      <td>[ISBI 2016: Training, ISBI 2017: Training, Cha...</td>\n",
       "      <td>2015-10-02T15:33:45.247000+00:00</td>\n",
       "    </tr>\n",
       "    <tr>\n",
       "      <th>4</th>\n",
       "      <td>5509024abae478359aa581b6</td>\n",
       "      <td>image</td>\n",
       "      <td>2015-03-18T04:42:50.391000+00:00</td>\n",
       "      <td>54cb974fbae47819d8e4c727</td>\n",
       "      <td>User GQZH</td>\n",
       "      <td>0</td>\n",
       "      <td>5a2ecc5e1165975c945942a0</td>\n",
       "      <td>Moles in children.\\nBenign melanocytic lesions...</td>\n",
       "      <td>CC-0</td>\n",
       "      <td>SONIC</td>\n",
       "      <td>...</td>\n",
       "      <td>White</td>\n",
       "      <td>NaN</td>\n",
       "      <td>NaN</td>\n",
       "      <td>NaN</td>\n",
       "      <td>ISIC_0008230</td>\n",
       "      <td>True</td>\n",
       "      <td>2015-08-21T16:56:54.380000+00:00</td>\n",
       "      <td>55d5e0ce9fc3c10470dba1a1</td>\n",
       "      <td>[]</td>\n",
       "      <td>2015-12-03T18:13:54.693000+00:00</td>\n",
       "    </tr>\n",
       "  </tbody>\n",
       "</table>\n",
       "<p>5 rows × 70 columns</p>\n",
       "</div>"
      ],
      "text/plain": [
       "                        _id _modelType                           created  \\\n",
       "0  558d618dbae47801cf734963      image  2015-06-26T14:28:29.770000+00:00   \n",
       "1  558d618dbae47801cf734963      image  2015-06-26T14:28:29.770000+00:00   \n",
       "2  550902ddbae478359aa587e2      image  2015-03-18T04:45:17.559000+00:00   \n",
       "3  558d60c7bae47801cf7344ef      image  2015-06-26T14:25:11.490000+00:00   \n",
       "4  5509024abae478359aa581b6      image  2015-03-18T04:42:50.391000+00:00   \n",
       "\n",
       "                creator._id creator.name  dataset._accessLevel  \\\n",
       "0  54cb974fbae47819d8e4c727    User GQZH                     0   \n",
       "1  54cb974fbae47819d8e4c727    User GQZH                     0   \n",
       "2  54cb974fbae47819d8e4c727    User GQZH                     0   \n",
       "3  54cb974fbae47819d8e4c727    User GQZH                     0   \n",
       "4  54cb974fbae47819d8e4c727    User GQZH                     0   \n",
       "\n",
       "                dataset._id  \\\n",
       "0  5a2ecc5d1165975c94594284   \n",
       "1  5a2ecc5d1165975c94594284   \n",
       "2  5a2ecc5e1165975c945942a0   \n",
       "3  5a2ecc5d1165975c94594284   \n",
       "4  5a2ecc5e1165975c945942a0   \n",
       "\n",
       "                                 dataset.description dataset.license  \\\n",
       "0  Biopsy-confirmed melanocytic and non-melanocyt...            CC-0   \n",
       "1  Biopsy-confirmed melanocytic and non-melanocyt...            CC-0   \n",
       "2  Moles in children.\\nBenign melanocytic lesions...            CC-0   \n",
       "3  Biopsy-confirmed melanocytic and non-melanocyt...            CC-0   \n",
       "4  Moles in children.\\nBenign melanocytic lesions...            CC-0   \n",
       "\n",
       "  dataset.name  ... meta.unstructured.race meta.unstructured.site  \\\n",
       "0        MSK-2  ...                    NaN                    NaN   \n",
       "1        MSK-2  ...                    NaN                    NaN   \n",
       "2        SONIC  ...                  White                    NaN   \n",
       "3        MSK-2  ...                    NaN                    NaN   \n",
       "4        SONIC  ...                  White                    NaN   \n",
       "\n",
       "  meta.unstructured.ulcer  meta.unstructured.vertical          name  \\\n",
       "0                     NaN                         NaN  ISIC_0010281   \n",
       "1                     NaN                         NaN  ISIC_0010281   \n",
       "2                     NaN                         NaN  ISIC_0008546   \n",
       "3                     NaN                         NaN  ISIC_0010002   \n",
       "4                     NaN                         NaN  ISIC_0008230   \n",
       "\n",
       "  notes.reviewed.accepted               notes.reviewed.time  \\\n",
       "0                    True  2015-07-02T18:01:14.906000+00:00   \n",
       "1                    True  2015-07-02T18:01:14.906000+00:00   \n",
       "2                    True  2015-08-21T16:57:37.376000+00:00   \n",
       "3                    True  2015-06-30T16:07:42.665000+00:00   \n",
       "4                    True  2015-08-21T16:56:54.380000+00:00   \n",
       "\n",
       "      notes.reviewed.userId  \\\n",
       "0  5450e996bae47865794e4d0d   \n",
       "1  5450e996bae47865794e4d0d   \n",
       "2  55d5e0ce9fc3c10470dba1a1   \n",
       "3  5450e996bae47865794e4d0d   \n",
       "4  55d5e0ce9fc3c10470dba1a1   \n",
       "\n",
       "                                          notes.tags  \\\n",
       "0                                                 []   \n",
       "1                                                 []   \n",
       "2                                                 []   \n",
       "3  [ISBI 2016: Training, ISBI 2017: Training, Cha...   \n",
       "4                                                 []   \n",
       "\n",
       "                            updated  \n",
       "0  2015-10-02T15:33:45.996000+00:00  \n",
       "1  2015-10-02T15:33:45.996000+00:00  \n",
       "2  2015-12-09T14:46:29.099000+00:00  \n",
       "3  2015-10-02T15:33:45.247000+00:00  \n",
       "4  2015-12-03T18:13:54.693000+00:00  \n",
       "\n",
       "[5 rows x 70 columns]"
      ]
     },
     "execution_count": 7,
     "metadata": {},
     "output_type": "execute_result"
    }
   ],
   "source": [
    "df.head()"
   ]
  },
  {
   "cell_type": "code",
   "execution_count": 8,
   "metadata": {},
   "outputs": [
    {
     "data": {
      "text/plain": [
       "Index(['_id', '_modelType', 'created', 'creator._id', 'creator.name',\n",
       "       'dataset._accessLevel', 'dataset._id', 'dataset.description',\n",
       "       'dataset.license', 'dataset.name', 'dataset.updated',\n",
       "       'meta.acquisition.dermoscopic_type', 'meta.acquisition.image_type',\n",
       "       'meta.acquisition.pixelsX', 'meta.acquisition.pixelsY',\n",
       "       'meta.clinical.age_approx', 'meta.clinical.anatom_site_general',\n",
       "       'meta.clinical.benign_malignant',\n",
       "       'meta.clinical.clin_size_long_diam_mm', 'meta.clinical.diagnosis',\n",
       "       'meta.clinical.diagnosis_confirm_type', 'meta.clinical.family_hx_mm',\n",
       "       'meta.clinical.mel_class', 'meta.clinical.mel_thick_mm',\n",
       "       'meta.clinical.melanocytic', 'meta.clinical.nevus_type',\n",
       "       'meta.clinical.personal_hx_mm', 'meta.clinical.sex',\n",
       "       'meta.unstructured.Breslow', 'meta.unstructured.Clark',\n",
       "       'meta.unstructured.Location', 'meta.unstructured.anatom_site_general',\n",
       "       'meta.unstructured.anatomic', 'meta.unstructured.biopsy done',\n",
       "       'meta.unstructured.change', 'meta.unstructured.changedtypeapr02_2015',\n",
       "       'meta.unstructured.clinical diagnosis/impression',\n",
       "       'meta.unstructured.diagnosis', 'meta.unstructured.diagnosis_short',\n",
       "       'meta.unstructured.grade', 'meta.unstructured.id1',\n",
       "       'meta.unstructured.laterality', 'meta.unstructured.lesion id',\n",
       "       'meta.unstructured.lesion_id', 'meta.unstructured.localization',\n",
       "       'meta.unstructured.location', 'meta.unstructured.mel_assoc_nev',\n",
       "       'meta.unstructured.mel_assoc_nevus', 'meta.unstructured.mel_class',\n",
       "       'meta.unstructured.mel_mit', 'meta.unstructured.mel_thick',\n",
       "       'meta.unstructured.mel_type', 'meta.unstructured.pathology diagnosis',\n",
       "       'meta.unstructured.pathology diagnosis subtype',\n",
       "       'meta.unstructured.pathology report available',\n",
       "       'meta.unstructured.patient', 'meta.unstructured.patientlocation',\n",
       "       'meta.unstructured.previous biopsy', 'meta.unstructured.ptconcern',\n",
       "       'meta.unstructured.quantloc', 'meta.unstructured.race',\n",
       "       'meta.unstructured.site', 'meta.unstructured.ulcer',\n",
       "       'meta.unstructured.vertical', 'name', 'notes.reviewed.accepted',\n",
       "       'notes.reviewed.time', 'notes.reviewed.userId', 'notes.tags',\n",
       "       'updated'],\n",
       "      dtype='object')"
      ]
     },
     "execution_count": 8,
     "metadata": {},
     "output_type": "execute_result"
    }
   ],
   "source": [
    "df.columns"
   ]
  },
  {
   "cell_type": "markdown",
   "metadata": {},
   "source": [
    "For later use, pickle the metatdata information into \"isic_data\""
   ]
  },
  {
   "cell_type": "code",
   "execution_count": 9,
   "metadata": {},
   "outputs": [],
   "source": [
    "import pickle\n",
    "name=\"isic_data\"\n",
    "pickle.dump(df,open(name,\"wb\"))"
   ]
  },
  {
   "cell_type": "code",
   "execution_count": 10,
   "metadata": {},
   "outputs": [],
   "source": [
    "import pickle\n",
    "name=\"isic_data\"\n",
    "df=pickle.load(open(name,\"rb\"))"
   ]
  },
  {
   "cell_type": "code",
   "execution_count": 11,
   "metadata": {},
   "outputs": [
    {
     "data": {
      "text/plain": [
       "Index(['_id', '_modelType', 'created', 'creator._id', 'creator.name',\n",
       "       'dataset._accessLevel', 'dataset._id', 'dataset.description',\n",
       "       'dataset.license', 'dataset.name', 'dataset.updated',\n",
       "       'meta.acquisition.dermoscopic_type', 'meta.acquisition.image_type',\n",
       "       'meta.acquisition.pixelsX', 'meta.acquisition.pixelsY',\n",
       "       'meta.clinical.age_approx', 'meta.clinical.anatom_site_general',\n",
       "       'meta.clinical.benign_malignant',\n",
       "       'meta.clinical.clin_size_long_diam_mm', 'meta.clinical.diagnosis',\n",
       "       'meta.clinical.diagnosis_confirm_type', 'meta.clinical.family_hx_mm',\n",
       "       'meta.clinical.mel_class', 'meta.clinical.mel_thick_mm',\n",
       "       'meta.clinical.melanocytic', 'meta.clinical.nevus_type',\n",
       "       'meta.clinical.personal_hx_mm', 'meta.clinical.sex',\n",
       "       'meta.unstructured.Breslow', 'meta.unstructured.Clark',\n",
       "       'meta.unstructured.Location', 'meta.unstructured.anatom_site_general',\n",
       "       'meta.unstructured.anatomic', 'meta.unstructured.biopsy done',\n",
       "       'meta.unstructured.change', 'meta.unstructured.changedtypeapr02_2015',\n",
       "       'meta.unstructured.clinical diagnosis/impression',\n",
       "       'meta.unstructured.diagnosis', 'meta.unstructured.diagnosis_short',\n",
       "       'meta.unstructured.grade', 'meta.unstructured.id1',\n",
       "       'meta.unstructured.laterality', 'meta.unstructured.lesion id',\n",
       "       'meta.unstructured.lesion_id', 'meta.unstructured.localization',\n",
       "       'meta.unstructured.location', 'meta.unstructured.mel_assoc_nev',\n",
       "       'meta.unstructured.mel_assoc_nevus', 'meta.unstructured.mel_class',\n",
       "       'meta.unstructured.mel_mit', 'meta.unstructured.mel_thick',\n",
       "       'meta.unstructured.mel_type', 'meta.unstructured.pathology diagnosis',\n",
       "       'meta.unstructured.pathology diagnosis subtype',\n",
       "       'meta.unstructured.pathology report available',\n",
       "       'meta.unstructured.patient', 'meta.unstructured.patientlocation',\n",
       "       'meta.unstructured.previous biopsy', 'meta.unstructured.ptconcern',\n",
       "       'meta.unstructured.quantloc', 'meta.unstructured.race',\n",
       "       'meta.unstructured.site', 'meta.unstructured.ulcer',\n",
       "       'meta.unstructured.vertical', 'name', 'notes.reviewed.accepted',\n",
       "       'notes.reviewed.time', 'notes.reviewed.userId', 'notes.tags',\n",
       "       'updated'],\n",
       "      dtype='object')"
      ]
     },
     "execution_count": 11,
     "metadata": {},
     "output_type": "execute_result"
    }
   ],
   "source": [
    "df.columns"
   ]
  },
  {
   "cell_type": "markdown",
   "metadata": {},
   "source": [
    "Identify benign vs. malignant pictures. For the purpose of this analysis, lesion that were \"indeterminate\" were excluded"
   ]
  },
  {
   "cell_type": "code",
   "execution_count": 12,
   "metadata": {},
   "outputs": [
    {
     "data": {
      "text/plain": [
       "array(['benign', nan, 'malignant', None, 'indeterminate/malignant',\n",
       "       'indeterminate', 'indeterminate/benign'], dtype=object)"
      ]
     },
     "execution_count": 12,
     "metadata": {},
     "output_type": "execute_result"
    }
   ],
   "source": [
    "df['meta.clinical.benign_malignant'].unique()"
   ]
  },
  {
   "cell_type": "code",
   "execution_count": 13,
   "metadata": {},
   "outputs": [],
   "source": [
    "benign=df[df['meta.clinical.benign_malignant']=='benign']\n",
    "malignant=df[df['meta.clinical.benign_malignant']=='malignant']"
   ]
  },
  {
   "cell_type": "markdown",
   "metadata": {},
   "source": [
    "Because size is one of the five element in ABCDE rule, size of the lesion was looked into for relevance on malignancy"
   ]
  },
  {
   "cell_type": "code",
   "execution_count": 14,
   "metadata": {},
   "outputs": [],
   "source": [
    "sizes=df['meta.clinical.clin_size_long_diam_mm'].dropna().tolist()\n",
    "sizesm=malignant['meta.clinical.clin_size_long_diam_mm'].dropna().tolist()\n",
    "sizesb=benign['meta.clinical.clin_size_long_diam_mm'].dropna().tolist()"
   ]
  },
  {
   "cell_type": "code",
   "execution_count": 15,
   "metadata": {
    "scrolled": true
   },
   "outputs": [
    {
     "data": {
      "image/png": "[encoded data removed]",
      "text/plain": [
       "<Figure size 432x288 with 1 Axes>"
      ]
     },
     "metadata": {
      "needs_background": "light"
     },
     "output_type": "display_data"
    }
   ],
   "source": [
    "plt.hist(sizesm,bins=10,density=True)\n",
    "plt.xticks(np.arange(0, 95, 5))\n",
    "plt.yscale(\"log\")\n",
    "plt.title(\"size distribution of malignant lesion\")\n",
    "plt.xlabel('size (mm)')\n",
    "plt.ylabel('Percentage (log)')\n",
    "plt.show()\n"
   ]
  },
  {
   "cell_type": "code",
   "execution_count": 16,
   "metadata": {},
   "outputs": [
    {
     "data": {
      "image/png": "[encoded data removed]",
      "text/plain": [
       "<Figure size 432x288 with 1 Axes>"
      ]
     },
     "metadata": {
      "needs_background": "light"
     },
     "output_type": "display_data"
    }
   ],
   "source": [
    "plt.hist(sizesb,bins=10,density=True)\n",
    "plt.xticks(np.arange(0, 95, 5))\n",
    "plt.yscale(\"log\")\n",
    "plt.title(\"size distribution of benign lesion\")\n",
    "plt.xlabel('size (mm)')\n",
    "plt.ylabel('Percentage (log)')\n",
    "plt.show()\n"
   ]
  },
  {
   "cell_type": "code",
   "execution_count": 17,
   "metadata": {},
   "outputs": [],
   "source": [
    "def ecdf(data):\n",
    "    \"\"\"Compute ECDF for a one-dimensional array of measurements.\"\"\"\n",
    "    # Number of data points: n\n",
    "    n = len(data)\n",
    "\n",
    "    # x-data for the ECDF: x\n",
    "    x = np.sort(data)\n",
    "\n",
    "    # y-data for the ECDF: y\n",
    "    y = np.arange(1, n+1) / n\n",
    "\n",
    "    return x, y"
   ]
  },
  {
   "cell_type": "code",
   "execution_count": 18,
   "metadata": {},
   "outputs": [
    {
     "data": {
      "text/plain": [
       "[<matplotlib.lines.Line2D at 0x7efd14a7f518>]"
      ]
     },
     "execution_count": 18,
     "metadata": {},
     "output_type": "execute_result"
    },
    {
     "data": {
      "image/png": "[encoded data removed]",
      "text/plain": [
       "<Figure size 432x288 with 1 Axes>"
      ]
     },
     "metadata": {
      "needs_background": "light"
     },
     "output_type": "display_data"
    }
   ],
   "source": [
    "msize_samples=np.random.normal(np.mean(sizesm),np.std(sizesm),size=100)\n",
    "\n",
    "x_msize_norm,y_msize_norm=ecdf(msize_samples)\n",
    "x_msize,y_msize=ecdf(sizesm)\n",
    "\n",
    "plt.plot(x_msize_norm,y_msize_norm)\n",
    "plt.plot(x_msize,y_msize, marker='.',linestyle='none')"
   ]
  },
  {
   "cell_type": "code",
   "execution_count": 19,
   "metadata": {},
   "outputs": [
    {
     "data": {
      "text/plain": [
       "[<matplotlib.lines.Line2D at 0x7efd1196fb38>]"
      ]
     },
     "execution_count": 19,
     "metadata": {},
     "output_type": "execute_result"
    },
    {
     "data": {
      "image/png": "[encoded data removed]",
      "text/plain": [
       "<Figure size 432x288 with 1 Axes>"
      ]
     },
     "metadata": {
      "needs_background": "light"
     },
     "output_type": "display_data"
    }
   ],
   "source": [
    "bsize_samples=np.random.normal(np.mean(sizesb),np.std(sizesb),size=100)\n",
    "\n",
    "x_bsize_norm,y_bsize_norm=ecdf(bsize_samples)\n",
    "x_bsize,y_bsize=ecdf(sizesb)\n",
    "\n",
    "plt.plot(x_bsize_norm,y_bsize_norm)\n",
    "plt.plot(x_bsize,y_bsize, marker='.',linestyle='none')"
   ]
  },
  {
   "cell_type": "code",
   "execution_count": 20,
   "metadata": {},
   "outputs": [
    {
     "data": {
      "text/plain": [
       "<matplotlib.legend.Legend at 0x7efd1428d748>"
      ]
     },
     "execution_count": 20,
     "metadata": {},
     "output_type": "execute_result"
    },
    {
     "data": {
      "image/png": "[encoded data removed]",
      "text/plain": [
       "<Figure size 432x288 with 1 Axes>"
      ]
     },
     "metadata": {
      "needs_background": "light"
     },
     "output_type": "display_data"
    }
   ],
   "source": [
    "plt.plot(x_bsize_norm,y_bsize_norm,label='benign')\n",
    "plt.plot(x_msize_norm,y_msize_norm,label='malignant')\n",
    "plt.xlabel('size')\n",
    "plt.legend()"
   ]
  },
  {
   "cell_type": "markdown",
   "metadata": {},
   "source": [
    "Therefore we can deduce that benign lesions are smaller than malignant lesions. A Student's T-test was performed to make sure the difference is significant"
   ]
  },
  {
   "cell_type": "code",
   "execution_count": 78,
   "metadata": {},
   "outputs": [],
   "source": [
    "from scipy.stats import ttest_ind\n",
    "\n",
    "def checkttest(a,b):\n",
    "    pval=ttest_ind(a,b).pvalue\n",
    "    if pval<=0.01:\n",
    "        print(pval,\"Mean is different enough to be significant\")\n",
    "    else:\n",
    "        print(pval, \"Mean is too similar to be significant\")"
   ]
  },
  {
   "cell_type": "code",
   "execution_count": 22,
   "metadata": {},
   "outputs": [
    {
     "name": "stdout",
     "output_type": "stream",
     "text": [
      "2.673579649075089e-29 Mean is different enough to be significant\n"
     ]
    }
   ],
   "source": [
    "checkttest(sizesb,sizesm)"
   ]
  },
  {
   "cell_type": "markdown",
   "metadata": {},
   "source": [
    "Therefore the size of the lesion is significant in determining malignancy."
   ]
  },
  {
   "cell_type": "markdown",
   "metadata": {},
   "source": [
    "The age of the patient was also looked into."
   ]
  },
  {
   "cell_type": "code",
   "execution_count": 79,
   "metadata": {},
   "outputs": [],
   "source": [
    "malig_age=np.sort(malignant['meta.clinical.age_approx'].dropna())"
   ]
  },
  {
   "cell_type": "code",
   "execution_count": 80,
   "metadata": {},
   "outputs": [],
   "source": [
    "benign_age=np.sort(benign['meta.clinical.age_approx'].dropna())"
   ]
  },
  {
   "cell_type": "code",
   "execution_count": 28,
   "metadata": {},
   "outputs": [
    {
     "data": {
      "image/png": "[encoded data removed]",
      "text/plain": [
       "<Figure size 432x288 with 1 Axes>"
      ]
     },
     "metadata": {
      "needs_background": "light"
     },
     "output_type": "display_data"
    }
   ],
   "source": [
    "plt.hist(malig_age.tolist(),bins=10,density=True)\n",
    "plt.xticks(np.arange(0, 95, 5))\n",
    "plt.title(\"Age distribution of malignant lesion\")\n",
    "plt.show()\n"
   ]
  },
  {
   "cell_type": "code",
   "execution_count": 29,
   "metadata": {},
   "outputs": [
    {
     "data": {
      "image/png": "[encoded data removed]",
      "text/plain": [
       "<Figure size 432x288 with 1 Axes>"
      ]
     },
     "metadata": {
      "needs_background": "light"
     },
     "output_type": "display_data"
    }
   ],
   "source": [
    "plt.hist(benign_age.tolist(),bins=10,density=True)\n",
    "plt.xticks(np.arange(0, 95, 5))\n",
    "plt.title(\"Age distribution of benign lesion\")\n",
    "plt.show()"
   ]
  },
  {
   "cell_type": "markdown",
   "metadata": {},
   "source": [
    "The benign data had a sudden big spike on the teenagers. After looking over the data, the dataset 'SONIC' was shown to only contain benign lesion from young students. As this might cause the average patient age in benign lesion to drop significantly, this dataset was removed."
   ]
  },
  {
   "cell_type": "code",
   "execution_count": 81,
   "metadata": {},
   "outputs": [],
   "source": [
    "benign_no_sonic=benign[benign['dataset.name'] != 'SONIC']"
   ]
  },
  {
   "cell_type": "code",
   "execution_count": 82,
   "metadata": {},
   "outputs": [],
   "source": [
    "ben_no_sonic_age=np.sort(benign_no_sonic['meta.clinical.age_approx'].dropna())"
   ]
  },
  {
   "cell_type": "code",
   "execution_count": 83,
   "metadata": {},
   "outputs": [
    {
     "data": {
      "image/png": "[encoded data removed]",
      "text/plain": [
       "<Figure size 432x288 with 1 Axes>"
      ]
     },
     "metadata": {
      "needs_background": "light"
     },
     "output_type": "display_data"
    }
   ],
   "source": [
    "plt.hist(ben_no_sonic_age.tolist(),bins=10,density=True)\n",
    "plt.xticks(np.arange(0, 95, 5))\n",
    "plt.title(\"Age distribution of benign lesion without SONIC\")\n",
    "plt.show()"
   ]
  },
  {
   "cell_type": "code",
   "execution_count": 38,
   "metadata": {},
   "outputs": [
    {
     "name": "stdout",
     "output_type": "stream",
     "text": [
      "62.00411334552103 15.77792297108487\n"
     ]
    }
   ],
   "source": [
    "malig_mean=np.mean(malig_age)\n",
    "malig_std=np.std(malig_age)\n",
    "print(malig_mean,malig_std)"
   ]
  },
  {
   "cell_type": "code",
   "execution_count": 39,
   "metadata": {},
   "outputs": [
    {
     "data": {
      "text/plain": [
       "[<matplotlib.lines.Line2D at 0x7efd11ee1a20>]"
      ]
     },
     "execution_count": 39,
     "metadata": {},
     "output_type": "execute_result"
    },
    {
     "data": {
      "image/png": "[encoded data removed]",
      "text/plain": [
       "<Figure size 432x288 with 1 Axes>"
      ]
     },
     "metadata": {
      "needs_background": "light"
     },
     "output_type": "display_data"
    }
   ],
   "source": [
    "malig_samples=np.random.normal(malig_mean,malig_std,size=10000)\n",
    "\n",
    "x_malig_norm,y_malig_norm=ecdf(malig_samples)\n",
    "x_malig,y_malig=ecdf(malig_age)\n",
    "\n",
    "plt.plot(x_malig_norm,y_malig_norm)\n",
    "plt.plot(x_malig,y_malig, marker='.',linestyle='none')"
   ]
  },
  {
   "cell_type": "code",
   "execution_count": 43,
   "metadata": {},
   "outputs": [
    {
     "name": "stdout",
     "output_type": "stream",
     "text": [
      "31.51517534203491 20.65211547272825\n"
     ]
    }
   ],
   "source": [
    "ben_mean=np.mean(benign_age)\n",
    "ben_std=np.std(benign_age)\n",
    "print(ben_mean,ben_std)"
   ]
  },
  {
   "cell_type": "code",
   "execution_count": 46,
   "metadata": {},
   "outputs": [
    {
     "name": "stdout",
     "output_type": "stream",
     "text": [
      "47.842967636881745 16.58452527613098\n"
     ]
    }
   ],
   "source": [
    "ben_no_sonic_mean=np.mean(ben_no_sonic_age)\n",
    "ben_no_sonic_std=np.std(ben_no_sonic_age)\n",
    "print(ben_no_sonic_mean,ben_no_sonic_std)"
   ]
  },
  {
   "cell_type": "code",
   "execution_count": 47,
   "metadata": {},
   "outputs": [
    {
     "data": {
      "text/plain": [
       "[<matplotlib.lines.Line2D at 0x7efd229aee48>]"
      ]
     },
     "execution_count": 47,
     "metadata": {},
     "output_type": "execute_result"
    },
    {
     "data": {
      "image/png": "[encoded data removed]",
      "text/plain": [
       "<Figure size 432x288 with 1 Axes>"
      ]
     },
     "metadata": {
      "needs_background": "light"
     },
     "output_type": "display_data"
    }
   ],
   "source": [
    "ben_samples=np.random.normal(ben_mean,ben_std,size=10000)\n",
    "\n",
    "x_ben_norm,y_ben_norm=ecdf(ben_samples)\n",
    "x_ben,y_ben=ecdf(benign_age)\n",
    "\n",
    "plt.plot(x_ben_norm,y_ben_norm)\n",
    "plt.plot(x_ben,y_ben, marker='.',linestyle='none')"
   ]
  },
  {
   "cell_type": "code",
   "execution_count": 51,
   "metadata": {},
   "outputs": [
    {
     "data": {
      "text/plain": [
       "[<matplotlib.lines.Line2D at 0x7efd145b64a8>]"
      ]
     },
     "execution_count": 51,
     "metadata": {},
     "output_type": "execute_result"
    },
    {
     "data": {
      "image/png": "[encoded data removed]",
      "text/plain": [
       "<Figure size 432x288 with 1 Axes>"
      ]
     },
     "metadata": {
      "needs_background": "light"
     },
     "output_type": "display_data"
    }
   ],
   "source": [
    "ben_samples=np.random.normal(ben_no_sonic_mean,ben_no_sonic_std,size=10000)\n",
    "\n",
    "x_ben_norm,y_ben_norm=ecdf(ben_samples)\n",
    "x_ben,y_ben=ecdf(ben_no_sonic_age)\n",
    "\n",
    "plt.plot(x_ben_norm,y_ben_norm)\n",
    "plt.plot(x_ben,y_ben, marker='.',linestyle='none')"
   ]
  },
  {
   "cell_type": "code",
   "execution_count": 52,
   "metadata": {},
   "outputs": [
    {
     "data": {
      "text/plain": [
       "<matplotlib.legend.Legend at 0x7efd13952128>"
      ]
     },
     "execution_count": 52,
     "metadata": {},
     "output_type": "execute_result"
    },
    {
     "data": {
      "image/png": "[encoded data removed]",
      "text/plain": [
       "<Figure size 432x288 with 1 Axes>"
      ]
     },
     "metadata": {
      "needs_background": "light"
     },
     "output_type": "display_data"
    }
   ],
   "source": [
    "plt.plot(x_ben_norm,y_ben_norm, label='benign')\n",
    "plt.plot(x_malig_norm,y_malig_norm, label='malignant')\n",
    "plt.xlabel('age')\n",
    "plt.legend()"
   ]
  },
  {
   "cell_type": "markdown",
   "metadata": {},
   "source": [
    "ECDF graph implies that patients with benign lesions are younger than patients with malignant lesion."
   ]
  },
  {
   "cell_type": "code",
   "execution_count": 84,
   "metadata": {},
   "outputs": [
    {
     "name": "stdout",
     "output_type": "stream",
     "text": [
      "8.888858936584193e-276 Mean is different enough to be significant\n"
     ]
    }
   ],
   "source": [
    "checkttest(ben_no_sonic_age,malig_age)"
   ]
  },
  {
   "cell_type": "code",
   "execution_count": 36,
   "metadata": {},
   "outputs": [
    {
     "name": "stdout",
     "output_type": "stream",
     "text": [
      "0.0 Mean is different enough to be significant\n"
     ]
    }
   ],
   "source": [
    "checkttest(benign_age,malig_age)"
   ]
  },
  {
   "cell_type": "markdown",
   "metadata": {},
   "source": [
    "The result of the T-test confirms that the age is a significant factor in malignancy."
   ]
  },
  {
   "cell_type": "code",
   "execution_count": 56,
   "metadata": {},
   "outputs": [
    {
     "data": {
      "text/plain": [
       "23907"
      ]
     },
     "execution_count": 56,
     "metadata": {},
     "output_type": "execute_result"
    }
   ],
   "source": [
    "len(df['meta.unstructured.race'])"
   ]
  },
  {
   "cell_type": "code",
   "execution_count": 59,
   "metadata": {},
   "outputs": [
    {
     "data": {
      "text/plain": [
       "Text(0.5, 0, 'Race of all patients')"
      ]
     },
     "execution_count": 59,
     "metadata": {},
     "output_type": "execute_result"
    },
    {
     "data": {
      "image/png": "[encoded data removed]",
      "text/plain": [
       "<Figure size 432x288 with 1 Axes>"
      ]
     },
     "metadata": {
      "needs_background": "light"
     },
     "output_type": "display_data"
    }
   ],
   "source": [
    "import seaborn as sns\n",
    "race=df['meta.unstructured.race'].dropna()\n",
    "race=pd.Series([x.lower() for x in list(race)])\n",
    "ax=sns.countplot(x=race.index,data=race)\n",
    "ax.set_xticklabels(race.unique(),rotation=70)\n",
    "ax.set_xlabel(\"Race of all patients\")"
   ]
  },
  {
   "cell_type": "code",
   "execution_count": 60,
   "metadata": {},
   "outputs": [
    {
     "data": {
      "text/plain": [
       "Text(0.5, 0, 'Race of patients with malignant melanoma')"
      ]
     },
     "execution_count": 60,
     "metadata": {},
     "output_type": "execute_result"
    },
    {
     "data": {
      "image/png": "[encoded data removed]",
      "text/plain": [
       "<Figure size 432x288 with 1 Axes>"
      ]
     },
     "metadata": {
      "needs_background": "light"
     },
     "output_type": "display_data"
    }
   ],
   "source": [
    "race_mal=malignant['meta.unstructured.race'].dropna()\n",
    "race_mal=pd.Series([x.lower() for x in list(race_mal)])\n",
    "ax=sns.countplot(x=race_mal.index,data=race)\n",
    "ax.set_xticklabels(race_mal.unique(),rotation=70)\n",
    "ax.set_xlabel(\"Race of patients with malignant melanoma\")"
   ]
  },
  {
   "cell_type": "markdown",
   "metadata": {},
   "source": [
    "The positions of the mole is also an interesting factor to look into."
   ]
  },
  {
   "cell_type": "code",
   "execution_count": 85,
   "metadata": {},
   "outputs": [
    {
     "name": "stdout",
     "output_type": "stream",
     "text": [
      "posterior torso    3209\n",
      "lower extremity    3145\n",
      "anterior torso     2128\n",
      "upper extremity    1920\n",
      "head/neck          1690\n",
      "lateral torso        75\n",
      "palms/soles          30\n",
      "Name: meta.clinical.anatom_site_general, dtype: int64\n"
     ]
    }
   ],
   "source": [
    "# Find the position of moles\n",
    "mole_positions=df['meta.clinical.anatom_site_general'].dropna()\n",
    "num_data=mole_positions.value_counts()\n",
    "num_data_dict=dict(num_data)\n",
    "print(num_data)"
   ]
  },
  {
   "cell_type": "code",
   "execution_count": 66,
   "metadata": {},
   "outputs": [],
   "source": [
    "import seaborn as sns"
   ]
  },
  {
   "cell_type": "code",
   "execution_count": 67,
   "metadata": {
    "scrolled": false
   },
   "outputs": [
    {
     "data": {
      "text/plain": [
       "Text(0.5, 0, 'positions of moles')"
      ]
     },
     "execution_count": 67,
     "metadata": {},
     "output_type": "execute_result"
    },
    {
     "data": {
      "image/png": "[encoded data removed]",
      "text/plain": [
       "<Figure size 432x288 with 1 Axes>"
      ]
     },
     "metadata": {
      "needs_background": "light"
     },
     "output_type": "display_data"
    }
   ],
   "source": [
    "ax=sns.countplot(x=mole_positions.index,data=mole_positions)\n",
    "ax.set_xticklabels(mole_positions.unique(),rotation=70)\n",
    "ax.set_xlabel(\"positions of moles\")"
   ]
  },
  {
   "cell_type": "markdown",
   "metadata": {},
   "source": [
    "The lesion itself tends to show up the most on posterior torso or lower extremity. However, this may be because a lot of people who see a mole in those area feel the need to come to the hospital more than the people who find a mole on their palm."
   ]
  },
  {
   "cell_type": "code",
   "execution_count": 86,
   "metadata": {},
   "outputs": [
    {
     "name": "stdout",
     "output_type": "stream",
     "text": [
      "posterior torso    538\n",
      "upper extremity    455\n",
      "lower extremity    405\n",
      "head/neck          374\n",
      "anterior torso     260\n",
      "lateral torso       16\n",
      "palms/soles          8\n",
      "Name: meta.clinical.anatom_site_general, dtype: int64\n"
     ]
    }
   ],
   "source": [
    "# Find the positions of MALIGNANT moles\n",
    "mole_positions_m=malignant['meta.clinical.anatom_site_general'].dropna()\n",
    "num_data_m=mole_positions_m.value_counts()\n",
    "num_data_m_dict=dict(num_data_m)\n",
    "print(num_data_m)"
   ]
  },
  {
   "cell_type": "code",
   "execution_count": 87,
   "metadata": {},
   "outputs": [],
   "source": [
    "# make a dictionary of percentage of lesion with malignancy\n",
    "new_dict={k: num_data_m_dict[k] / num_data_dict[k] for k in num_data_dict if k in num_data_m_dict}"
   ]
  },
  {
   "cell_type": "code",
   "execution_count": 65,
   "metadata": {},
   "outputs": [
    {
     "data": {
      "image/png": "[encoded data removed]",
      "text/plain": [
       "<Figure size 432x288 with 1 Axes>"
      ]
     },
     "metadata": {
      "needs_background": "light"
     },
     "output_type": "display_data"
    }
   ],
   "source": [
    "plt.bar(range(len(new_dict)), new_dict.values(), align='center')\n",
    "plt.xticks(range(len(new_dict)), list(new_dict.keys()),rotation=70)\n",
    "plt.title(\"Percentage of malignant lesion\")\n",
    "plt.show()"
   ]
  },
  {
   "cell_type": "markdown",
   "metadata": {},
   "source": [
    "The mole on the palms or soles are more likely to be malignant than others. Posterior torso, lower extremity, and anterior torso all seem to be less likely to develop malignant lesion than other parts. This may be due to melanoma developing from exposure to UV light as upper part of the body and palms are more likely to be exposed than the lower body part."
   ]
  },
  {
   "cell_type": "code",
   "execution_count": null,
   "metadata": {},
   "outputs": [],
   "source": []
  }
 ],
 "metadata": {
  "kernelspec": {
   "display_name": "Python 3",
   "language": "python",
   "name": "python3"
  },
  "language_info": {
   "codemirror_mode": {
    "name": "ipython",
    "version": 3
   },
   "file_extension": ".py",
   "mimetype": "text/x-python",
   "name": "python",
   "nbconvert_exporter": "python",
   "pygments_lexer": "ipython3",
   "version": "3.6.8"
  }
 },
 "nbformat": 4,
 "nbformat_minor": 2
}
