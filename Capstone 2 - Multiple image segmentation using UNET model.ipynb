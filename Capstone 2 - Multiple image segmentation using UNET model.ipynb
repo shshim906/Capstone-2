{
 "cells": [
  {
   "cell_type": "markdown",
   "metadata": {},
   "source": [
    "## The purpose of the Capstone 2 project is to determine whether or not the lesion in an image is malignant or not "
   ]
  },
  {
   "cell_type": "code",
   "execution_count": 1,
   "metadata": {},
   "outputs": [
    {
     "name": "stderr",
     "output_type": "stream",
     "text": [
      "Using TensorFlow backend.\n",
      "/home/seo/environments/my_env/lib/python3.6/site-packages/tensorflow/python/framework/dtypes.py:516: FutureWarning: Passing (type, 1) or '1type' as a synonym of type is deprecated; in a future version of numpy, it will be understood as (type, (1,)) / '(1,)type'.\n",
      "  _np_qint8 = np.dtype([(\"qint8\", np.int8, 1)])\n",
      "/home/seo/environments/my_env/lib/python3.6/site-packages/tensorflow/python/framework/dtypes.py:517: FutureWarning: Passing (type, 1) or '1type' as a synonym of type is deprecated; in a future version of numpy, it will be understood as (type, (1,)) / '(1,)type'.\n",
      "  _np_quint8 = np.dtype([(\"quint8\", np.uint8, 1)])\n",
      "/home/seo/environments/my_env/lib/python3.6/site-packages/tensorflow/python/framework/dtypes.py:518: FutureWarning: Passing (type, 1) or '1type' as a synonym of type is deprecated; in a future version of numpy, it will be understood as (type, (1,)) / '(1,)type'.\n",
      "  _np_qint16 = np.dtype([(\"qint16\", np.int16, 1)])\n",
      "/home/seo/environments/my_env/lib/python3.6/site-packages/tensorflow/python/framework/dtypes.py:519: FutureWarning: Passing (type, 1) or '1type' as a synonym of type is deprecated; in a future version of numpy, it will be understood as (type, (1,)) / '(1,)type'.\n",
      "  _np_quint16 = np.dtype([(\"quint16\", np.uint16, 1)])\n",
      "/home/seo/environments/my_env/lib/python3.6/site-packages/tensorflow/python/framework/dtypes.py:520: FutureWarning: Passing (type, 1) or '1type' as a synonym of type is deprecated; in a future version of numpy, it will be understood as (type, (1,)) / '(1,)type'.\n",
      "  _np_qint32 = np.dtype([(\"qint32\", np.int32, 1)])\n",
      "/home/seo/environments/my_env/lib/python3.6/site-packages/tensorflow/python/framework/dtypes.py:525: FutureWarning: Passing (type, 1) or '1type' as a synonym of type is deprecated; in a future version of numpy, it will be understood as (type, (1,)) / '(1,)type'.\n",
      "  np_resource = np.dtype([(\"resource\", np.ubyte, 1)])\n",
      "/home/seo/environments/my_env/lib/python3.6/site-packages/tensorboard/compat/tensorflow_stub/dtypes.py:541: FutureWarning: Passing (type, 1) or '1type' as a synonym of type is deprecated; in a future version of numpy, it will be understood as (type, (1,)) / '(1,)type'.\n",
      "  _np_qint8 = np.dtype([(\"qint8\", np.int8, 1)])\n",
      "/home/seo/environments/my_env/lib/python3.6/site-packages/tensorboard/compat/tensorflow_stub/dtypes.py:542: FutureWarning: Passing (type, 1) or '1type' as a synonym of type is deprecated; in a future version of numpy, it will be understood as (type, (1,)) / '(1,)type'.\n",
      "  _np_quint8 = np.dtype([(\"quint8\", np.uint8, 1)])\n",
      "/home/seo/environments/my_env/lib/python3.6/site-packages/tensorboard/compat/tensorflow_stub/dtypes.py:543: FutureWarning: Passing (type, 1) or '1type' as a synonym of type is deprecated; in a future version of numpy, it will be understood as (type, (1,)) / '(1,)type'.\n",
      "  _np_qint16 = np.dtype([(\"qint16\", np.int16, 1)])\n",
      "/home/seo/environments/my_env/lib/python3.6/site-packages/tensorboard/compat/tensorflow_stub/dtypes.py:544: FutureWarning: Passing (type, 1) or '1type' as a synonym of type is deprecated; in a future version of numpy, it will be understood as (type, (1,)) / '(1,)type'.\n",
      "  _np_quint16 = np.dtype([(\"quint16\", np.uint16, 1)])\n",
      "/home/seo/environments/my_env/lib/python3.6/site-packages/tensorboard/compat/tensorflow_stub/dtypes.py:545: FutureWarning: Passing (type, 1) or '1type' as a synonym of type is deprecated; in a future version of numpy, it will be understood as (type, (1,)) / '(1,)type'.\n",
      "  _np_qint32 = np.dtype([(\"qint32\", np.int32, 1)])\n",
      "/home/seo/environments/my_env/lib/python3.6/site-packages/tensorboard/compat/tensorflow_stub/dtypes.py:550: FutureWarning: Passing (type, 1) or '1type' as a synonym of type is deprecated; in a future version of numpy, it will be understood as (type, (1,)) / '(1,)type'.\n",
      "  np_resource = np.dtype([(\"resource\", np.ubyte, 1)])\n"
     ]
    }
   ],
   "source": [
    "from keras.preprocessing.image import ImageDataGenerator, array_to_img, img_to_array, load_img\n",
    "from skimage.io import imread, imshow, concatenate_images\n",
    "from skimage.transform import resize\n",
    "import numpy as np\n",
    "import cv2\n",
    "import matplotlib.pyplot as plt\n",
    "import os\n",
    "from numpy import array, newaxis, expand_dims"
   ]
  },
  {
   "cell_type": "code",
   "execution_count": 2,
   "metadata": {},
   "outputs": [],
   "source": [
    "%run functions.py"
   ]
  },
  {
   "cell_type": "code",
   "execution_count": 3,
   "metadata": {},
   "outputs": [],
   "source": [
    "image_path='./Data/Images/'\n",
    "meta_path='./Data/Descriptions/'\n",
    "\n",
    "imagelist=os.listdir(image_path)\n",
    "metalist=os.listdir(meta_path)\n",
    "\n",
    "pics=[file for file in imagelist]\n",
    "meta=[file for file in metalist]\n",
    "\n",
    "process_path='./'\n",
    "processfiles=os.listdir(process_path)"
   ]
  },
  {
   "cell_type": "code",
   "execution_count": 4,
   "metadata": {},
   "outputs": [
    {
     "name": "stderr",
     "output_type": "stream",
     "text": [
      "WARNING: Logging before flag parsing goes to stderr.\n",
      "W1012 18:55:47.844865 140085265340224 deprecation_wrapper.py:119] From /home/seo/environments/my_env/lib/python3.6/site-packages/keras/backend/tensorflow_backend.py:517: The name tf.placeholder is deprecated. Please use tf.compat.v1.placeholder instead.\n",
      "\n",
      "W1012 18:55:47.893771 140085265340224 deprecation_wrapper.py:119] From /home/seo/environments/my_env/lib/python3.6/site-packages/keras/backend/tensorflow_backend.py:4185: The name tf.truncated_normal is deprecated. Please use tf.random.truncated_normal instead.\n",
      "\n",
      "W1012 18:55:47.942685 140085265340224 deprecation_wrapper.py:119] From /home/seo/environments/my_env/lib/python3.6/site-packages/keras/backend/tensorflow_backend.py:245: The name tf.get_default_graph is deprecated. Please use tf.compat.v1.get_default_graph instead.\n",
      "\n",
      "W1012 18:55:47.943993 140085265340224 deprecation_wrapper.py:119] From /home/seo/environments/my_env/lib/python3.6/site-packages/keras/backend/tensorflow_backend.py:174: The name tf.get_default_session is deprecated. Please use tf.compat.v1.get_default_session instead.\n",
      "\n",
      "W1012 18:55:47.944930 140085265340224 deprecation_wrapper.py:119] From /home/seo/environments/my_env/lib/python3.6/site-packages/keras/backend/tensorflow_backend.py:181: The name tf.ConfigProto is deprecated. Please use tf.compat.v1.ConfigProto instead.\n",
      "\n",
      "W1012 18:55:48.054151 140085265340224 deprecation_wrapper.py:119] From /home/seo/environments/my_env/lib/python3.6/site-packages/keras/backend/tensorflow_backend.py:1834: The name tf.nn.fused_batch_norm is deprecated. Please use tf.compat.v1.nn.fused_batch_norm instead.\n",
      "\n",
      "W1012 18:55:48.155859 140085265340224 deprecation_wrapper.py:119] From /home/seo/environments/my_env/lib/python3.6/site-packages/keras/backend/tensorflow_backend.py:3976: The name tf.nn.max_pool is deprecated. Please use tf.nn.max_pool2d instead.\n",
      "\n",
      "W1012 18:55:48.167396 140085265340224 deprecation.py:506] From /home/seo/environments/my_env/lib/python3.6/site-packages/keras/backend/tensorflow_backend.py:3445: calling dropout (from tensorflow.python.ops.nn_ops) with keep_prob is deprecated and will be removed in a future version.\n",
      "Instructions for updating:\n",
      "Please use `rate` instead of `keep_prob`. Rate should be set to `rate = 1 - keep_prob`.\n",
      "W1012 18:55:50.457545 140085265340224 deprecation_wrapper.py:119] From /home/seo/environments/my_env/lib/python3.6/site-packages/keras/optimizers.py:790: The name tf.train.Optimizer is deprecated. Please use tf.compat.v1.train.Optimizer instead.\n",
      "\n",
      "W1012 18:55:50.473675 140085265340224 deprecation.py:323] From /home/seo/environments/my_env/lib/python3.6/site-packages/tensorflow/python/ops/nn_impl.py:180: add_dispatch_support.<locals>.wrapper (from tensorflow.python.ops.array_ops) is deprecated and will be removed in a future version.\n",
      "Instructions for updating:\n",
      "Use tf.where in 2.0, which has the same broadcast rule as np.where\n"
     ]
    }
   ],
   "source": [
    "import pickle\n",
    "model=pickle.load(open('model_fitted.pickle',\"rb\"))"
   ]
  },
  {
   "cell_type": "code",
   "execution_count": 5,
   "metadata": {},
   "outputs": [],
   "source": [
    "# Set some parameters\n",
    "im_width = 128\n",
    "im_height = 128\n",
    "img_channels=3\n",
    "images = np.zeros((len(pics),im_height, im_width, 1), dtype=np.float32)"
   ]
  },
  {
   "cell_type": "markdown",
   "metadata": {},
   "source": [
    "test_img=call_image(test)\n",
    "test2=resize(test_img, (128, 128, 1), mode = 'constant', \n",
    "                  preserve_range = True)\n",
    "imshow(array_resize(test_img).squeeze())\n",
    "imshow(test2.squeeze())"
   ]
  },
  {
   "cell_type": "markdown",
   "metadata": {},
   "source": [
    "for every picture\n",
    "call image\n",
    "denoise\n",
    "resize\n",
    "apply mask to get only lesion\n",
    "have label as dictionary key\n",
    "save every 1999 pictures"
   ]
  },
  {
   "cell_type": "code",
   "execution_count": 6,
   "metadata": {
    "scrolled": true
   },
   "outputs": [],
   "source": [
    "from PIL import Image\n",
    "i=0\n",
    "resized_dict=dict()\n",
    "orig_resized=dict()\n",
    "for pic_name in pics:\n",
    "    name=image_path+pic_name\n",
    "    label=pic_name.split('.')[0]\n",
    "    tag0='orig'\n",
    "    tag1=\"resized\"\n",
    "    img=call_image(name)\n",
    "    orig_img=Image.open(name)\n",
    "    orig_resized[label]=orig_img.resize((im_width,im_height))\n",
    "\n",
    "    denoised_img=denoise(img)\n",
    "    resized=array_resize(denoised_img)\n",
    "    resized_dict[label]=resized\n",
    "    if len(resized_dict)%1999==0:\n",
    "        i+=1\n",
    "        print(i)\n",
    "        save_name0='{}_{}.p'.format(tag0,i)\n",
    "        save_name1='{}_{}.p'.format(tag1,i)\n",
    "        pickle.dump(orig_resized, open(save_name0,\"wb\"))\n",
    "        pickle.dump(resized_dict, open(save_name1,\"wb\"))\n",
    "        del resized_dict\n",
    "        del orig_resized\n",
    "        resized_dict=dict()\n",
    "        orig_resized=dict()\n",
    "        \n",
    "resized_files=[file for file in processfiles if file.split('_')[0]==tag1]\n",
    "orig_resized_files=[file for file in processfiles if file.split('_')[0]==tag0]"
   ]
  },
  {
   "cell_type": "markdown",
   "metadata": {},
   "source": [
    "As we will be working a lot with pickled data, a function was created to load all the partly saved pickled files"
   ]
  },
  {
   "cell_type": "code",
   "execution_count": 5,
   "metadata": {},
   "outputs": [],
   "source": [
    "import pickle\n",
    "def load_all_pickles(tag_name, path ,delimiter):\n",
    "    processfiles=os.listdir(path)\n",
    "    agg_dict=dict()\n",
    "    tagged_files=[file for file in processfiles if file.split(delimiter)[0]==tag_name]\n",
    "    for file in tagged_files:\n",
    "        open_file=pickle.load(open(file,'rb'))\n",
    "        agg_dict.update(open_file)\n",
    "    return agg_dict"
   ]
  },
  {
   "cell_type": "code",
   "execution_count": 12,
   "metadata": {},
   "outputs": [],
   "source": [
    "resized=load_all_pickles('resized',process_path,'_')"
   ]
  },
  {
   "cell_type": "code",
   "execution_count": 23,
   "metadata": {},
   "outputs": [
    {
     "data": {
      "text/plain": [
       "<matplotlib.image.AxesImage at 0x7eff584d84a8>"
      ]
     },
     "execution_count": 23,
     "metadata": {},
     "output_type": "execute_result"
    },
    {
     "data": {
      "image/png": "[encoded data removed]",
      "text/plain": [
       "<Figure size 432x288 with 1 Axes>"
      ]
     },
     "metadata": {
      "needs_background": "light"
     },
     "output_type": "display_data"
    }
   ],
   "source": [
    "plt.imshow(resized['ISIC_0003525'].squeeze())"
   ]
  },
  {
   "cell_type": "code",
   "execution_count": 9,
   "metadata": {},
   "outputs": [],
   "source": [
    "i=0\n",
    "pred_dict=dict()\n",
    "for key in resized.keys():\n",
    "    tag2=\"pred\"\n",
    "    img=resized[key]\n",
    "    _,pred = prediction(model,img)\n",
    "    mask=mask_w_predicted(pred)\n",
    "    pred_dict[key]=mask\n",
    "    if len(pred_dict)%1999==0:\n",
    "        i+=1\n",
    "        save_name2='{}_{}.p'.format(tag2,i)\n",
    "        pickle.dump(pred_dict, open(save_name2,\"wb\"))\n",
    "        del pred_dict\n",
    "        pred_dict=dict()\n",
    "pred_files=[file for file in processfiles if file.split('_')[0]==tag2]"
   ]
  },
  {
   "cell_type": "code",
   "execution_count": 14,
   "metadata": {},
   "outputs": [],
   "source": [
    "pred=load_all_pickles('pred',process_path,'_')"
   ]
  },
  {
   "cell_type": "code",
   "execution_count": 15,
   "metadata": {},
   "outputs": [
    {
     "data": {
      "text/plain": [
       "21989"
      ]
     },
     "execution_count": 15,
     "metadata": {},
     "output_type": "execute_result"
    }
   ],
   "source": [
    "len(pred)"
   ]
  },
  {
   "cell_type": "markdown",
   "metadata": {},
   "source": [
    "Using the mask obtained by the UNET model, the images were segmented and the contour were identified."
   ]
  },
  {
   "cell_type": "code",
   "execution_count": null,
   "metadata": {},
   "outputs": [],
   "source": [
    "i=0\n",
    "cont_dict=dict()\n",
    "seg_dict=dict()\n",
    "for key in pred.keys():\n",
    "    tag3=\"semmm\"\n",
    "    tag4=\"connnn\"\n",
    "    mask=pred[key]\n",
    "    try:\n",
    "        cnts,h=cv2.findContours(mask,cv2.RETR_EXTERNAL,cv2.CHAIN_APPROX_NONE )\n",
    "        contour=cnts[0]\n",
    "    except:\n",
    "        continue\n",
    "    try:\n",
    "        M = cv2.moments(contour)\n",
    "        (a,b),(MA,ma),angle = cv2.fitEllipse(contour)\n",
    "    except:\n",
    "        continue\n",
    "    cont_dict[key]=[cnts[0],angle,int(a),int(b)]    \n",
    "\n",
    "    try:\n",
    "        orig_img=call_image(image_path+key+'.jpeg')\n",
    "        resized_orig=resize(orig_img, (128, 128, 1), mode = 'constant', \n",
    "                            preserve_range = True)\n",
    "        dst = cv2.bitwise_and(resized_orig, resized_orig, mask=mask)\n",
    "    except:\n",
    "        continue\n",
    "    seg_dict[key]=dst\n",
    "    if len(cont_dict)%1999==0:\n",
    "        i+=1\n",
    "        save_name3='{}_{}.p'.format(tag3,i)\n",
    "        save_name4='{}_{}.p'.format(tag4,i)\n",
    "        pickle.dump(seg_dict, open(save_name3,\"wb\"))\n",
    "        pickle.dump(cont_dict, open(save_name4,\"wb\"))\n",
    "        del cont_dict\n",
    "        del seg_dict\n",
    "        cont_dict=dict()\n",
    "        seg_dict=dict()\n"
   ]
  }
 ],
 "metadata": {
  "kernelspec": {
   "display_name": "Python 3",
   "language": "python",
   "name": "python3"
  },
  "language_info": {
   "codemirror_mode": {
    "name": "ipython",
    "version": 3
   },
   "file_extension": ".py",
   "mimetype": "text/x-python",
   "name": "python",
   "nbconvert_exporter": "python",
   "pygments_lexer": "ipython3",
   "version": "3.6.8"
  }
 },
 "nbformat": 4,
 "nbformat_minor": 2
}
