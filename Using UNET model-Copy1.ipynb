{
 "cells": [
  {
   "cell_type": "markdown",
   "metadata": {},
   "source": [
    "symmetry_dict=dict()\n",
    "blue_dict=dict()\n",
    "green_dict=dict()\n",
    "red_dict=dict()\n",
    "border_dict=dict()"
   ]
  },
  {
   "cell_type": "code",
   "execution_count": 41,
   "metadata": {},
   "outputs": [],
   "source": [
    "from keras.preprocessing.image import ImageDataGenerator, array_to_img, img_to_array, load_img\n",
    "from skimage.io import imread, imshow, concatenate_images\n",
    "from skimage.transform import resize\n",
    "import numpy as np\n",
    "import cv2\n",
    "import matplotlib.pyplot as plt"
   ]
  },
  {
   "cell_type": "code",
   "execution_count": 42,
   "metadata": {},
   "outputs": [],
   "source": [
    "# Set some parameters\n",
    "im_width = 128\n",
    "im_height = 128\n",
    "img_channels=3"
   ]
  },
  {
   "cell_type": "code",
   "execution_count": 43,
   "metadata": {},
   "outputs": [],
   "source": [
    "import os\n",
    "filelist=os.listdir(\"/home/seo/ISIC DATA\")\n",
    "meta=[file for file in filelist if not file.endswith(\".jpeg\") and not file.endswith(\".png\") and file.startswith(\"ISIC\")]\n",
    "pics=[file for file in filelist if (file.endswith(\".jpeg\") or file.endswith(\".png\")) and file.startswith(\"ISIC\")]\n",
    "masklist=os.listdir(\"/home/seo/Masks\")\n",
    "masks=[file for file in masklist if file.endswith(\".png\") and file.startswith(\"ISIC\")]\n",
    "mask2=[file.split('_segmentation')[0] for file in masklist if file.endswith(\".png\") and file.startswith(\"ISIC\")]\n",
    "train_pics=[file for file in pics if file.split('.jpeg')[0] in mask2]\n",
    "test_pics=[file for file in pics if file.split('.jpeg')[0] not in mask2]"
   ]
  },
  {
   "cell_type": "markdown",
   "metadata": {
    "scrolled": true
   },
   "source": [
    "from tqdm import tqdm_notebook\n",
    "images = np.zeros((len(train_pics), im_height, im_width, img_channels), dtype=np.uint8)\n",
    "labels = np.zeros((len(train_pics), im_height, im_width, 1), dtype=np.bool)\n",
    "for n, id_ in tqdm_notebook(enumerate(train_pics), total=len(train_pics)):\n",
    "    img = imread(\"/home/seo/ISIC DATA/\"+str(id_))[:,:,:img_channels]\n",
    "    img = resize(img, (im_height, im_width), mode='constant', preserve_range=True)\n",
    "    images[n] = img\n",
    "    mask = np.zeros((im_height, im_width, 1), dtype=np.bool)\n",
    "    for mask_file in next(os.walk(\"/home/seo/Masks\"))[2]:\n",
    "        mask_ = imread(\"/home/seo/Masks/\"+id_.split('.')[0]+'_segmentation.png')\n",
    "        mask_ = np.expand_dims(resize(mask_, (im_height, im_width), mode='constant', \n",
    "                                      preserve_range=True), axis=-1)\n",
    "        mask = np.maximum(mask, mask_)\n",
    "    labels[n] = mask\n",
    "\n",
    "X_train = images\n",
    "Y_train = labels\n"
   ]
  },
  {
   "cell_type": "code",
   "execution_count": 44,
   "metadata": {},
   "outputs": [],
   "source": [
    "def split_into_rgb_channels(image):\n",
    "    \"\"\"Split the target image into its red, green and blue channels.image - a numpy array of shape (rows, columns, 3).\n",
    "    output - three numpy arrays of shape (rows, columns) and dtype same as\n",
    "    image, containing the corresponding channels.\n",
    "    \"\"\"\n",
    "    red = image[:,:,2]\n",
    "    green = image[:,:,1]\n",
    "    blue = image[:,:,0]\n",
    "    return red, green, blue"
   ]
  },
  {
   "cell_type": "code",
   "execution_count": 45,
   "metadata": {},
   "outputs": [],
   "source": [
    "def rotate_bound(image, angle,cX,cY):\n",
    "    # grab the dimensions of the image\n",
    "    (h, w) = image.shape[:2] \n",
    "    # grab the rotation matrix, then grab the sine and cosine\n",
    "    # (i.e., the rotation components of the matrix)\n",
    "    M = cv2.getRotationMatrix2D((cX, cY), angle, 1.0)\n",
    "    cos = np.abs(M[0, 0])\n",
    "    sin = np.abs(M[0, 1])\n",
    " \n",
    "    # compute the new bounding dimensions of the image\n",
    "    nW = int((h * sin) + (w * cos))\n",
    "    nH = int((h * cos) + (w * sin))\n",
    " \n",
    "    # adjust the rotation matrix to take into account translation\n",
    "    M[0, 2] += (nW / 2) - cX\n",
    "    M[1, 2] += (nH / 2) - cY\n",
    " \n",
    "    # perform the actual rotation and return the image\n",
    "    return cv2.warpAffine(image, M, (nW, nH))\n"
   ]
  },
  {
   "cell_type": "code",
   "execution_count": 46,
   "metadata": {},
   "outputs": [],
   "source": [
    "def mse(imageA, imageB,contour_size):\n",
    "    # the 'Mean Squared Error' between the two images is the\n",
    "    # sum of the squared difference between the two images;\n",
    "    # NOTE: the two images must have the same dimension\n",
    "    err = np.sum((imageA.astype(\"float\") - imageB.astype(\"float\")) ** 2)\n",
    "    err /= float(contour_size)\n",
    "    # return the MSE, the lower the error, the more \"similar\"\n",
    "    # the two images are\n",
    "    return err"
   ]
  },
  {
   "cell_type": "code",
   "execution_count": 47,
   "metadata": {},
   "outputs": [],
   "source": [
    "def get_mag_ang(img):\n",
    "\n",
    "    \"\"\"\n",
    "    Gets image gradient (magnitude) and orientation (angle)\n",
    "\n",
    "    Args:\n",
    "        img\n",
    "\n",
    "    Returns:\n",
    "        Gradient, orientation\n",
    "    \"\"\"\n",
    "\n",
    "    img = np.sqrt(img)\n",
    "\n",
    "    gx = cv2.Sobel(np.float32(img), cv2.CV_32F, 1, 0)\n",
    "    gy = cv2.Sobel(np.float32(img), cv2.CV_32F, 0, 1)\n",
    "\n",
    "    mag, ang = cv2.cartToPolar(gx, gy)\n",
    "\n",
    "    return mag, ang, gx, gy "
   ]
  },
  {
   "cell_type": "code",
   "execution_count": 48,
   "metadata": {},
   "outputs": [],
   "source": [
    "def choose_img(name):\n",
    "    img = load_img(name, grayscale=True)\n",
    "    x_img = img_to_array(img)\n",
    "    x_img = resize(x_img, (128, 128, 1), mode = 'constant', preserve_range = True)\n",
    "    # Save images\n",
    "    X = x_img/255.0\n",
    "    return X"
   ]
  },
  {
   "cell_type": "code",
   "execution_count": 49,
   "metadata": {},
   "outputs": [],
   "source": [
    "images = np.zeros((len(pics),im_height, im_width, 1), dtype=np.float32)"
   ]
  },
  {
   "cell_type": "code",
   "execution_count": 50,
   "metadata": {},
   "outputs": [],
   "source": [
    "name=\"/home/seo/ISIC DATA/\"+pics[i]\n",
    "label=pics[i].split('.')[0]"
   ]
  },
  {
   "cell_type": "code",
   "execution_count": 51,
   "metadata": {},
   "outputs": [],
   "source": [
    "orig_img=cv2.imread(name, cv2.IMREAD_COLOR)[...,::-1]\n",
    "img=orig_img\n",
    "\n",
    "#normalize image\n",
    "\n",
    "norm_image = cv2.normalize(img, None, alpha=0, beta=255, norm_type=cv2.NORM_MINMAX, dtype=cv2.CV_8UC1)\n",
    "\n",
    "img=norm_image\n",
    "\n",
    "#split image into RGB channels\n",
    "\n",
    "r,g,b=split_into_rgb_channels(img)\n",
    "\n",
    "#reduce noise\n",
    "# Do some denoising on blue channel because that usually gives best contrast\n",
    "gaussian = cv2.GaussianBlur(b,(3,3),0)\n",
    "\n",
    "x_img = img_to_array(orig_img)\n",
    "x_img=resize(x_img, (128, 128, 1), mode = 'constant', preserve_range = True)\n"
   ]
  },
  {
   "cell_type": "code",
   "execution_count": 52,
   "metadata": {},
   "outputs": [],
   "source": [
    "import numpy as np"
   ]
  },
  {
   "cell_type": "code",
   "execution_count": 53,
   "metadata": {},
   "outputs": [],
   "source": [
    "from numpy import array, newaxis, expand_dims"
   ]
  },
  {
   "cell_type": "code",
   "execution_count": 54,
   "metadata": {},
   "outputs": [
    {
     "data": {
      "text/plain": [
       "4"
      ]
     },
     "execution_count": 54,
     "metadata": {},
     "output_type": "execute_result"
    }
   ],
   "source": [
    "#img = load_img(name, grayscale=False)\n",
    "x_img = img_to_array(img)\n",
    "x_img = resize(x_img, (128, 128, 1), mode = 'constant', preserve_range = True)\n",
    "x_img=x_img/255.0\n",
    "x_img2=x_img[newaxis,:,:,:]\n",
    "x_img2.ndim"
   ]
  },
  {
   "cell_type": "code",
   "execution_count": 55,
   "metadata": {},
   "outputs": [],
   "source": [
    "#imshow(x_img.squeeze())"
   ]
  },
  {
   "cell_type": "code",
   "execution_count": 56,
   "metadata": {},
   "outputs": [],
   "source": [
    "resized = cv2.resize(orig_img,(128,128))\n",
    "#imshow(resized)"
   ]
  },
  {
   "cell_type": "code",
   "execution_count": 57,
   "metadata": {},
   "outputs": [],
   "source": [
    "#imshow(orig_img)"
   ]
  },
  {
   "cell_type": "code",
   "execution_count": 58,
   "metadata": {
    "scrolled": true
   },
   "outputs": [],
   "source": [
    "import pickle\n",
    "#model=pickle.load(open('model.pickle',\"rb\"))\n",
    "#model=pickle.load(open('model_fitted.pickle',\"rb\"))"
   ]
  },
  {
   "cell_type": "code",
   "execution_count": 59,
   "metadata": {
    "scrolled": false
   },
   "outputs": [],
   "source": [
    "pred=model.predict(x_img2)\n",
    "preds_t = (pred > 0.5).astype(np.uint8)"
   ]
  },
  {
   "cell_type": "code",
   "execution_count": 60,
   "metadata": {},
   "outputs": [
    {
     "data": {
      "text/plain": [
       "array([[0.01375103, 0.01037434, 0.00592881, ..., 0.01410344, 0.01751259,\n",
       "        0.03598997],\n",
       "       [0.01311669, 0.00900111, 0.00412554, ..., 0.00850743, 0.0130789 ,\n",
       "        0.01932809],\n",
       "       [0.00460854, 0.00486138, 0.00265124, ..., 0.00504616, 0.0075143 ,\n",
       "        0.01398361],\n",
       "       ...,\n",
       "       [0.00320524, 0.00155053, 0.00115302, ..., 0.00173798, 0.00172445,\n",
       "        0.00402164],\n",
       "       [0.00283173, 0.00155604, 0.00115457, ..., 0.00112903, 0.00131705,\n",
       "        0.00414976],\n",
       "       [0.01323196, 0.0051524 , 0.00512522, ..., 0.00345805, 0.00588304,\n",
       "        0.0062525 ]], dtype=float32)"
      ]
     },
     "execution_count": 60,
     "metadata": {},
     "output_type": "execute_result"
    }
   ],
   "source": [
    "pred.squeeze()"
   ]
  },
  {
   "cell_type": "code",
   "execution_count": 61,
   "metadata": {},
   "outputs": [],
   "source": [
    "orig_mask=preds_t.squeeze()"
   ]
  },
  {
   "cell_type": "code",
   "execution_count": 62,
   "metadata": {},
   "outputs": [],
   "source": [
    "import scipy.ndimage as ndimage"
   ]
  },
  {
   "cell_type": "code",
   "execution_count": 63,
   "metadata": {},
   "outputs": [],
   "source": [
    "dilated=ndimage.binary_dilation(orig_mask,structure=np.ones((5,5))).astype(orig_mask.dtype)\n",
    "eroded= ndimage.binary_erosion(dilated).astype(orig_mask.dtype)\n",
    "mask=eroded"
   ]
  },
  {
   "cell_type": "code",
   "execution_count": 64,
   "metadata": {},
   "outputs": [],
   "source": [
    "#plt.subplot(2,2,1),imshow(dilated)\n",
    "#plt.subplot(2,2,2),imshow(eroded)"
   ]
  },
  {
   "cell_type": "code",
   "execution_count": 65,
   "metadata": {},
   "outputs": [
    {
     "data": {
      "text/plain": [
       "<matplotlib.image.AxesImage at 0x7f1324c44cc0>"
      ]
     },
     "execution_count": 65,
     "metadata": {},
     "output_type": "execute_result"
    },
    {
     "data": {
      "image/png": "[encoded data removed]",
      "text/plain": [
       "<Figure size 432x288 with 1 Axes>"
      ]
     },
     "metadata": {
      "needs_background": "light"
     },
     "output_type": "display_data"
    }
   ],
   "source": [
    "x_img3=x_img2.squeeze()\n",
    "#imshow(x_img3)"
   ]
  },
  {
   "cell_type": "code",
   "execution_count": 66,
   "metadata": {},
   "outputs": [],
   "source": [
    "import cv2\n",
    "dst = cv2.bitwise_and(x_img3, x_img3, mask=mask)"
   ]
  },
  {
   "cell_type": "code",
   "execution_count": 67,
   "metadata": {},
   "outputs": [],
   "source": [
    "contours, hierarchy = cv2.findContours(mask, cv2.RETR_TREE, cv2.CHAIN_APPROX_SIMPLE)"
   ]
  },
  {
   "cell_type": "code",
   "execution_count": 68,
   "metadata": {},
   "outputs": [
    {
     "ename": "SystemExit",
     "evalue": "0",
     "output_type": "error",
     "traceback": [
      "An exception has occurred, use %tb to see the full traceback.\n",
      "\u001b[0;31mSystemExit\u001b[0m\u001b[0;31m:\u001b[0m 0\n"
     ]
    }
   ],
   "source": [
    "import sys\n",
    "try:\n",
    "    cnt=contours[0]\n",
    "    M = cv2.moments(cnt)\n",
    "except:\n",
    "    sys.exit(0)"
   ]
  },
  {
   "cell_type": "code",
   "execution_count": null,
   "metadata": {},
   "outputs": [],
   "source": [
    "(a,b),(MA,ma),angle = cv2.fitEllipse(cnt)\n",
    "a=int(a)\n",
    "b=int(b)\n",
    "contourSize = cv2.contourArea(cnt)"
   ]
  },
  {
   "cell_type": "code",
   "execution_count": null,
   "metadata": {},
   "outputs": [],
   "source": [
    "def rotate_bound(image, angle,cX,cY):\n",
    "    # grab the dimensions of the image\n",
    "    (h, w) = image.shape[:2] \n",
    "    # grab the rotation matrix, then grab the sine and cosine\n",
    "    # (i.e., the rotation components of the matrix)\n",
    "    M = cv2.getRotationMatrix2D((cX, cY), angle, 1.0)\n",
    "    cos = np.abs(M[0, 0])\n",
    "    sin = np.abs(M[0, 1])\n",
    " \n",
    "    # compute the new bounding dimensions of the image\n",
    "    nW = int((h * sin) + (w * cos))\n",
    "    nH = int((h * cos) + (w * sin))\n",
    " \n",
    "    # adjust the rotation matrix to take into account translation\n",
    "    M[0, 2] += (nW / 2) - cX\n",
    "    M[1, 2] += (nH / 2) - cY\n",
    " \n",
    "    # perform the actual rotation and return the image\n",
    "    return cv2.warpAffine(image, M, (nW, nH))"
   ]
  },
  {
   "cell_type": "code",
   "execution_count": null,
   "metadata": {},
   "outputs": [],
   "source": [
    "rotated_roi=rotate_bound(dst,angle,a,b)\n",
    "#plt.imshow(rotated_roi)"
   ]
  },
  {
   "cell_type": "code",
   "execution_count": null,
   "metadata": {},
   "outputs": [],
   "source": [
    "from mpl_toolkits.axes_grid1 import AxesGrid\n",
    "\n",
    "imageO=rotated_roi\n",
    "imageLR=np.fliplr(rotated_roi)\n",
    "imageUD=np.flipud(rotated_roi)\n",
    "#plt.subplot(1,2,1),plt.imshow((imageO.astype(\"float\")-imageLR.astype(\"float\"))**2),plt.title('LR symmetry'),plt.xticks([]),plt.yticks([])\n",
    "#plt.subplot(1,2,2),plt.imshow((imageO.astype(\"float\")-imageUD.astype(\"float\"))**2),plt.title('UD symmetry'),plt.xticks([]),plt.yticks([])\n",
    "\n",
    "lr=mse(rotated_roi, np.fliplr(rotated_roi),contourSize)\n",
    "ud=mse(rotated_roi, np.flipud(rotated_roi),contourSize)\n",
    "\n",
    "#symmetry_dict[label]=(lr+ud)/2\n"
   ]
  },
  {
   "cell_type": "code",
   "execution_count": null,
   "metadata": {},
   "outputs": [],
   "source": [
    "colorcheck = cv2.bitwise_and(resized, resized, mask=mask)\n",
    "color = ('b','g','r')\n",
    "#fig=plt.figure()\n",
    "zerovalues=list()\n",
    "#ax=fig.add_subplot(2,1,1)\n",
    "b_list=[]\n",
    "g_list=[]\n",
    "r_list=[]\n",
    "for i,col in enumerate(color):\n",
    "    histr = cv2.calcHist([colorcheck],[i],None,[256],[0,256])\n",
    "    #ax.plot(histr,color = col)\n",
    "    zerovalues.append(histr[0])\n",
    "    histr=histr[1:]\n",
    "    #plt.xlim([0,255])\n",
    "    #ax.set_yscale('log')\n",
    "    if col=='b':\n",
    "        blue_dict[label]=histr.std()\n",
    "    if col=='g':\n",
    "        green_dict[label]=histr.std()\n",
    "    if col=='r':\n",
    "        red_dict[label]=histr.std()\n",
    "#plt.title(\"color distribution\")"
   ]
  },
  {
   "cell_type": "code",
   "execution_count": null,
   "metadata": {},
   "outputs": [],
   "source": [
    "#imshow(colorcheck),plt.title('Result after applying mask')"
   ]
  },
  {
   "cell_type": "code",
   "execution_count": null,
   "metadata": {},
   "outputs": [],
   "source": [
    "H,W = resized.shape[:2]\n",
    "h=20; w=20\n",
    "tots_gradient=[]\n",
    "for point in cnt[:,0]:\n",
    "    x=point[0]\n",
    "    y=point[1]\n",
    "    #print(x,y)\n",
    "    y1=y-h; y2=y+h\n",
    "    x1=x-w; x2=x+w\n",
    "    if y1<0:\n",
    "        y1=0\n",
    "    if y2>H:\n",
    "        y2=H\n",
    "    if x1<0:\n",
    "        x1=0\n",
    "    if x2>W:\n",
    "        x2=W\n",
    "    #print(x1,y1,x2,y2)\n",
    "    crop_img = orig_img[:,:,0][y1:y2, x1:x2].copy()\n",
    "    mag,ang,gx,gy=get_mag_ang(crop_img)\n",
    "    tots_gradient.append(mag.mean())\n",
    "border_dict[label]=np.mean(tots_gradient)"
   ]
  },
  {
   "cell_type": "code",
   "execution_count": null,
   "metadata": {},
   "outputs": [],
   "source": []
  },
  {
   "cell_type": "code",
   "execution_count": null,
   "metadata": {},
   "outputs": [],
   "source": []
  },
  {
   "cell_type": "code",
   "execution_count": null,
   "metadata": {},
   "outputs": [],
   "source": []
  },
  {
   "cell_type": "code",
   "execution_count": null,
   "metadata": {},
   "outputs": [],
   "source": []
  }
 ],
 "metadata": {
  "kernelspec": {
   "display_name": "Python 3",
   "language": "python",
   "name": "python3"
  },
  "language_info": {
   "codemirror_mode": {
    "name": "ipython",
    "version": 3
   },
   "file_extension": ".py",
   "mimetype": "text/x-python",
   "name": "python",
   "nbconvert_exporter": "python",
   "pygments_lexer": "ipython3",
   "version": "3.6.8"
  }
 },
 "nbformat": 4,
 "nbformat_minor": 2
}
