{
 "cells": [
  {
   "cell_type": "markdown",
   "metadata": {},
   "source": [
    "## The purpose of the Capstone 2 project is to determine whether or not the lesion in an image is malignant or not "
   ]
  },
  {
   "cell_type": "markdown",
   "metadata": {},
   "source": [
    "import necessary libraries"
   ]
  },
  {
   "cell_type": "code",
   "execution_count": 2,
   "metadata": {},
   "outputs": [
    {
     "name": "stderr",
     "output_type": "stream",
     "text": [
      "Using TensorFlow backend.\n",
      "/home/seo/environments/my_env/lib/python3.6/site-packages/tensorflow/python/framework/dtypes.py:516: FutureWarning: Passing (type, 1) or '1type' as a synonym of type is deprecated; in a future version of numpy, it will be understood as (type, (1,)) / '(1,)type'.\n",
      "  _np_qint8 = np.dtype([(\"qint8\", np.int8, 1)])\n",
      "/home/seo/environments/my_env/lib/python3.6/site-packages/tensorflow/python/framework/dtypes.py:517: FutureWarning: Passing (type, 1) or '1type' as a synonym of type is deprecated; in a future version of numpy, it will be understood as (type, (1,)) / '(1,)type'.\n",
      "  _np_quint8 = np.dtype([(\"quint8\", np.uint8, 1)])\n",
      "/home/seo/environments/my_env/lib/python3.6/site-packages/tensorflow/python/framework/dtypes.py:518: FutureWarning: Passing (type, 1) or '1type' as a synonym of type is deprecated; in a future version of numpy, it will be understood as (type, (1,)) / '(1,)type'.\n",
      "  _np_qint16 = np.dtype([(\"qint16\", np.int16, 1)])\n",
      "/home/seo/environments/my_env/lib/python3.6/site-packages/tensorflow/python/framework/dtypes.py:519: FutureWarning: Passing (type, 1) or '1type' as a synonym of type is deprecated; in a future version of numpy, it will be understood as (type, (1,)) / '(1,)type'.\n",
      "  _np_quint16 = np.dtype([(\"quint16\", np.uint16, 1)])\n",
      "/home/seo/environments/my_env/lib/python3.6/site-packages/tensorflow/python/framework/dtypes.py:520: FutureWarning: Passing (type, 1) or '1type' as a synonym of type is deprecated; in a future version of numpy, it will be understood as (type, (1,)) / '(1,)type'.\n",
      "  _np_qint32 = np.dtype([(\"qint32\", np.int32, 1)])\n",
      "/home/seo/environments/my_env/lib/python3.6/site-packages/tensorflow/python/framework/dtypes.py:525: FutureWarning: Passing (type, 1) or '1type' as a synonym of type is deprecated; in a future version of numpy, it will be understood as (type, (1,)) / '(1,)type'.\n",
      "  np_resource = np.dtype([(\"resource\", np.ubyte, 1)])\n",
      "/home/seo/environments/my_env/lib/python3.6/site-packages/tensorboard/compat/tensorflow_stub/dtypes.py:541: FutureWarning: Passing (type, 1) or '1type' as a synonym of type is deprecated; in a future version of numpy, it will be understood as (type, (1,)) / '(1,)type'.\n",
      "  _np_qint8 = np.dtype([(\"qint8\", np.int8, 1)])\n",
      "/home/seo/environments/my_env/lib/python3.6/site-packages/tensorboard/compat/tensorflow_stub/dtypes.py:542: FutureWarning: Passing (type, 1) or '1type' as a synonym of type is deprecated; in a future version of numpy, it will be understood as (type, (1,)) / '(1,)type'.\n",
      "  _np_quint8 = np.dtype([(\"quint8\", np.uint8, 1)])\n",
      "/home/seo/environments/my_env/lib/python3.6/site-packages/tensorboard/compat/tensorflow_stub/dtypes.py:543: FutureWarning: Passing (type, 1) or '1type' as a synonym of type is deprecated; in a future version of numpy, it will be understood as (type, (1,)) / '(1,)type'.\n",
      "  _np_qint16 = np.dtype([(\"qint16\", np.int16, 1)])\n",
      "/home/seo/environments/my_env/lib/python3.6/site-packages/tensorboard/compat/tensorflow_stub/dtypes.py:544: FutureWarning: Passing (type, 1) or '1type' as a synonym of type is deprecated; in a future version of numpy, it will be understood as (type, (1,)) / '(1,)type'.\n",
      "  _np_quint16 = np.dtype([(\"quint16\", np.uint16, 1)])\n",
      "/home/seo/environments/my_env/lib/python3.6/site-packages/tensorboard/compat/tensorflow_stub/dtypes.py:545: FutureWarning: Passing (type, 1) or '1type' as a synonym of type is deprecated; in a future version of numpy, it will be understood as (type, (1,)) / '(1,)type'.\n",
      "  _np_qint32 = np.dtype([(\"qint32\", np.int32, 1)])\n",
      "/home/seo/environments/my_env/lib/python3.6/site-packages/tensorboard/compat/tensorflow_stub/dtypes.py:550: FutureWarning: Passing (type, 1) or '1type' as a synonym of type is deprecated; in a future version of numpy, it will be understood as (type, (1,)) / '(1,)type'.\n",
      "  np_resource = np.dtype([(\"resource\", np.ubyte, 1)])\n"
     ]
    }
   ],
   "source": [
    "from keras.preprocessing.image import ImageDataGenerator, array_to_img, img_to_array, load_img\n",
    "from skimage.io import imread, imshow, concatenate_images\n",
    "from skimage.transform import resize\n",
    "import numpy as np\n",
    "import cv2\n",
    "import matplotlib.pyplot as plt\n",
    "import os\n",
    "from numpy import array, newaxis, expand_dims"
   ]
  },
  {
   "cell_type": "code",
   "execution_count": 3,
   "metadata": {},
   "outputs": [],
   "source": [
    "%run functions.py"
   ]
  },
  {
   "cell_type": "code",
   "execution_count": 4,
   "metadata": {},
   "outputs": [],
   "source": [
    "import os\n",
    "\n",
    "image_path='./Data/Images/'\n",
    "imagelist=os.listdir(image_path)\n",
    "pics=[file for file in imagelist]\n",
    "\n",
    "process_path='./'\n",
    "processfiles=os.listdir(process_path)"
   ]
  },
  {
   "cell_type": "code",
   "execution_count": 5,
   "metadata": {},
   "outputs": [],
   "source": [
    "import pickle\n",
    "def load_all_pickles(tag_name, path ,delimiter):\n",
    "    processfiles=os.listdir(path)\n",
    "    agg_dict=dict()\n",
    "    tagged_files=[file for file in processfiles if file.split(delimiter)[0]==tag_name]\n",
    "    for file in tagged_files:\n",
    "        open_file=pickle.load(open(file,'rb'))\n",
    "        agg_dict.update(open_file)\n",
    "    return agg_dict"
   ]
  },
  {
   "cell_type": "code",
   "execution_count": 6,
   "metadata": {},
   "outputs": [],
   "source": [
    "# segmented: resized, denoised, and segmented images\n",
    "segmented=load_all_pickles('segmen',process_path,'_')"
   ]
  },
  {
   "cell_type": "code",
   "execution_count": 7,
   "metadata": {},
   "outputs": [],
   "source": [
    "# contour_data: contour, angle of major axis, x and y of the center\n",
    "contour_data=load_all_pickles('contour',process_path,'_')"
   ]
  },
  {
   "cell_type": "markdown",
   "metadata": {},
   "source": [
    "Because symmetry uses both contour and segmented image data, images that either does not appear in both of the dictionary or images that has contour area of 0 should be removed"
   ]
  },
  {
   "cell_type": "code",
   "execution_count": 8,
   "metadata": {},
   "outputs": [],
   "source": [
    "good_imgs=list()\n",
    "for key in contour_data.keys():\n",
    "    cont_check=contour_data[key]\n",
    "    contourSize = cv2.contourArea(cont_check[0])\n",
    "    if contourSize!=0:\n",
    "        good_imgs.append(key)"
   ]
  },
  {
   "cell_type": "code",
   "execution_count": 9,
   "metadata": {},
   "outputs": [],
   "source": [
    "good_imgs=[img for img in good_imgs if img in list(segmented.keys())]"
   ]
  },
  {
   "cell_type": "code",
   "execution_count": 30,
   "metadata": {},
   "outputs": [],
   "source": [
    "# To give an idea of what the images will look like,\n",
    "# a random sample image was chosen from the list of \"good images\"\n",
    "\n",
    "sample_image=random.choice(list(good_imgs))"
   ]
  },
  {
   "cell_type": "code",
   "execution_count": 31,
   "metadata": {},
   "outputs": [
    {
     "data": {
      "text/plain": [
       "(Text(0.5, 1.0, 'ISIC_0029767'),\n",
       " ([], <a list of 0 Text xticklabel objects>),\n",
       " ([], <a list of 0 Text yticklabel objects>))"
      ]
     },
     "execution_count": 31,
     "metadata": {},
     "output_type": "execute_result"
    },
    {
     "data": {
      "image/png": "[encoded data removed]",
      "text/plain": [
       "<Figure size 432x288 with 1 Axes>"
      ]
     },
     "metadata": {},
     "output_type": "display_data"
    }
   ],
   "source": [
    "# Sample image of contour data\n",
    "canvas=np.ones((128,128,3),np.uint8)*255\n",
    "contour_sample=cv2.drawContours(canvas,contour_data[sample_image][0],-1,(255,0,0),-1)\n",
    "plt.imshow(contour_sample)\n",
    "plt.title(sample_image), plt.xticks([]),plt.yticks([])"
   ]
  },
  {
   "cell_type": "code",
   "execution_count": 32,
   "metadata": {},
   "outputs": [
    {
     "data": {
      "text/plain": [
       "(Text(0.5, 1.0, 'ISIC_0029767'),\n",
       " ([], <a list of 0 Text xticklabel objects>),\n",
       " ([], <a list of 0 Text yticklabel objects>))"
      ]
     },
     "execution_count": 32,
     "metadata": {},
     "output_type": "execute_result"
    },
    {
     "data": {
      "image/png": "[encoded data removed]",
      "text/plain": [
       "<Figure size 432x288 with 1 Axes>"
      ]
     },
     "metadata": {},
     "output_type": "display_data"
    }
   ],
   "source": [
    "# Sample image of segmented data\n",
    "plt.figure()\n",
    "plt.imshow(segmented[sample_image])\n",
    "plt.title(sample_image), plt.xticks([]),plt.yticks([])"
   ]
  },
  {
   "cell_type": "code",
   "execution_count": 33,
   "metadata": {},
   "outputs": [],
   "source": [
    "# Function for calculating symmetry\n",
    "def symmetry(rotated_roi,contoursize):\n",
    "    imageO=rotated_roi\n",
    "    imageLR=np.fliplr(rotated_roi)\n",
    "    imageUD=np.flipud(rotated_roi)\n",
    "    lr=mse(rotated_roi, np.fliplr(rotated_roi),contourSize)\n",
    "    ud=mse(rotated_roi, np.flipud(rotated_roi),contourSize)\n",
    "    return lr,ud"
   ]
  },
  {
   "cell_type": "code",
   "execution_count": 14,
   "metadata": {},
   "outputs": [],
   "source": [
    "sym_dict=dict()\n",
    "cont_dict=dict()\n",
    "for key in good_imgs:\n",
    "    contourSize = cv2.contourArea(contour_data[key][0])\n",
    "    angle=contour_data[key][1]\n",
    "    a=contour_data[key][2]\n",
    "    b=contour_data[key][3]\n",
    "    \n",
    "    sym_check=segmented[key]\n",
    "    label='_'.join(key.split('_')[0:2])\n",
    "    rotated_roi=rotate_bound(sym_check,angle,a,b)\n",
    "    lr,ud=symmetry(rotated_roi,contourSize)\n",
    "    sym_dict[label]=np.mean([lr,ud])"
   ]
  },
  {
   "cell_type": "code",
   "execution_count": 15,
   "metadata": {},
   "outputs": [
    {
     "data": {
      "text/plain": [
       "17984"
      ]
     },
     "execution_count": 15,
     "metadata": {},
     "output_type": "execute_result"
    }
   ],
   "source": [
    "len(sym_dict)"
   ]
  },
  {
   "cell_type": "code",
   "execution_count": 16,
   "metadata": {},
   "outputs": [],
   "source": [
    "pickle.dump(sym_dict, open('symmetry_UNEt.p',\"wb\"))"
   ]
  },
  {
   "cell_type": "code",
   "execution_count": 17,
   "metadata": {},
   "outputs": [],
   "source": [
    "# orig: image that went through only resizing process\n",
    "orig=load_all_pickles('orig',process_path,'_')"
   ]
  },
  {
   "cell_type": "code",
   "execution_count": 18,
   "metadata": {},
   "outputs": [],
   "source": [
    "# Color analysis\n",
    "# Required data: original images\n",
    "# Takes Red, Green, Blue channel and calculate standard deviation in each channel\n",
    "\n",
    "blue_dict=dict()\n",
    "green_dict=dict()\n",
    "red_dict=dict()\n",
    "for key in good_imgs:\n",
    "    colorcheck=np.array(orig[key])\n",
    "    label='_'.join(key.split('_')[0:2])\n",
    "    color = ('b','g','r')\n",
    "    #fig=plt.figure()\n",
    "    zerovalues=list()\n",
    "    #ax=fig.add_subplot(2,1,1)\n",
    "    for i,col in enumerate(color):\n",
    "        histr = cv2.calcHist([colorcheck],[i],None,[256],[0,256])\n",
    "        #ax.plot(histr,color = col)\n",
    "        zerovalues.append(histr[0])\n",
    "        histr=histr[1:]\n",
    "        #plt.xlim([0,255])\n",
    "        #ax.set_yscale('log')\n",
    "        if col=='b':\n",
    "            blue_dict[label]=histr.std()\n",
    "        if col=='g':\n",
    "            green_dict[label]=histr.std()\n",
    "        if col=='r':\n",
    "            red_dict[label]=histr.std()"
   ]
  },
  {
   "cell_type": "code",
   "execution_count": 19,
   "metadata": {},
   "outputs": [
    {
     "data": {
      "text/plain": [
       "(17984, 17984, 17984)"
      ]
     },
     "execution_count": 19,
     "metadata": {},
     "output_type": "execute_result"
    }
   ],
   "source": [
    "len(blue_dict),len(green_dict),len(red_dict)"
   ]
  },
  {
   "cell_type": "code",
   "execution_count": 20,
   "metadata": {},
   "outputs": [],
   "source": [
    "pickle.dump(blue_dict, open('blue_UNET.p',\"wb\"))\n",
    "pickle.dump(green_dict, open('green_UNET.p',\"wb\"))\n",
    "pickle.dump(red_dict, open('red_UNET.p',\"wb\"))"
   ]
  },
  {
   "cell_type": "code",
   "execution_count": 21,
   "metadata": {},
   "outputs": [],
   "source": [
    "# resized: same as segmented image but includes the background as well\n",
    "\n",
    "resized=load_all_pickles('resized',process_path,'_')"
   ]
  },
  {
   "cell_type": "code",
   "execution_count": 34,
   "metadata": {},
   "outputs": [
    {
     "data": {
      "text/plain": [
       "(Text(0.5, 1.0, 'ISIC_0029767'),\n",
       " ([], <a list of 0 Text xticklabel objects>),\n",
       " ([], <a list of 0 Text yticklabel objects>))"
      ]
     },
     "execution_count": 34,
     "metadata": {},
     "output_type": "execute_result"
    },
    {
     "data": {
      "image/png": "[encoded data removed]",
      "text/plain": [
       "<Figure size 432x288 with 1 Axes>"
      ]
     },
     "metadata": {},
     "output_type": "display_data"
    }
   ],
   "source": [
    "# Sample image of segmented data\n",
    "plt.figure()\n",
    "plt.imshow(resized[sample_image].squeeze())\n",
    "plt.title(sample_image), plt.xticks([]),plt.yticks([])"
   ]
  },
  {
   "cell_type": "code",
   "execution_count": 37,
   "metadata": {},
   "outputs": [],
   "source": [
    "image_list=[img for img in resized.keys() if img in good_imgs]"
   ]
  },
  {
   "cell_type": "code",
   "execution_count": 38,
   "metadata": {},
   "outputs": [],
   "source": [
    "# Required data: contour, resized\n",
    "\n",
    "border_dict=dict()\n",
    "\n",
    "for key in good_imgs:\n",
    "    try:\n",
    "        border_check=resized[key]\n",
    "        cnt=contour_data[key][0]\n",
    "        H=128; W=128\n",
    "        h=6; w=6\n",
    "        tots_gradient=[]\n",
    "        for point in cnt[:,0]:\n",
    "            x=point[0]\n",
    "            y=point[1]\n",
    "            #print(x,y)\n",
    "            y1=y-h; y2=y+h\n",
    "            x1=x-w; x2=x+w\n",
    "            if y1<0:\n",
    "                y1=0\n",
    "            if y2>H:\n",
    "                y2=H\n",
    "            if x1<0:\n",
    "                x1=0\n",
    "            if x2>W:\n",
    "                x2=W\n",
    "            #print(x1,y1,x2,y2)\n",
    "            crop_img = border_check.squeeze()[y1:y2, x1:x2].copy()\n",
    "            mag,ang,gx,gy=get_mag_ang(crop_img)\n",
    "            tots_gradient.append(mag.mean())\n",
    "        border_dict[key]=np.mean(tots_gradient)\n",
    "    except:\n",
    "        continue"
   ]
  },
  {
   "cell_type": "code",
   "execution_count": 39,
   "metadata": {},
   "outputs": [
    {
     "data": {
      "text/plain": [
       "17984"
      ]
     },
     "execution_count": 39,
     "metadata": {},
     "output_type": "execute_result"
    }
   ],
   "source": [
    "len(border_dict)"
   ]
  },
  {
   "cell_type": "code",
   "execution_count": 40,
   "metadata": {},
   "outputs": [
    {
     "data": {
      "text/plain": [
       "<matplotlib.image.AxesImage at 0x7fc4d6ab5fd0>"
      ]
     },
     "execution_count": 40,
     "metadata": {},
     "output_type": "execute_result"
    },
    {
     "data": {
      "image/png": "[encoded data removed]",
      "text/plain": [
       "<Figure size 432x288 with 1 Axes>"
      ]
     },
     "metadata": {
      "needs_background": "light"
     },
     "output_type": "display_data"
    }
   ],
   "source": [
    "imshow(crop_img)"
   ]
  },
  {
   "cell_type": "code",
   "execution_count": 41,
   "metadata": {},
   "outputs": [],
   "source": [
    "pickle.dump(border_dict, open('border_UNET.p',\"wb\"))"
   ]
  },
  {
   "cell_type": "code",
   "execution_count": 1,
   "metadata": {},
   "outputs": [],
   "source": [
    "import pickle\n",
    "symmetry_dict=pickle.load(open('symmetry_UNEt.p', 'rb'))\n",
    "blue_dict=pickle.load(open('blue_UNET.p', 'rb'))\n",
    "green_dict=pickle.load(open('green_UNET.p', 'rb'))\n",
    "red_dict=pickle.load(open('red_UNET.p', 'rb'))\n",
    "border_dict=pickle.load(open('border_UNET.p', 'rb'))"
   ]
  },
  {
   "cell_type": "code",
   "execution_count": 2,
   "metadata": {},
   "outputs": [],
   "source": [
    "meta_df=pickle.load(open('isic_data','rb'))"
   ]
  },
  {
   "cell_type": "code",
   "execution_count": 3,
   "metadata": {},
   "outputs": [],
   "source": [
    "from collections import defaultdict\n",
    "\n",
    "dd=defaultdict(list)\n",
    "for d in (symmetry_dict, border_dict, red_dict, green_dict, blue_dict):\n",
    "    for key, value in d.items():\n",
    "        dd[key].append(value)"
   ]
  },
  {
   "cell_type": "code",
   "execution_count": 4,
   "metadata": {},
   "outputs": [
    {
     "data": {
      "text/plain": [
       "17984"
      ]
     },
     "execution_count": 4,
     "metadata": {},
     "output_type": "execute_result"
    }
   ],
   "source": [
    "len(dd)"
   ]
  },
  {
   "cell_type": "code",
   "execution_count": 5,
   "metadata": {},
   "outputs": [
    {
     "data": {
      "text/plain": [
       "[2434222.8408521325, 0.097849436, 118.18659, 116.17678, 133.09866]"
      ]
     },
     "execution_count": 5,
     "metadata": {},
     "output_type": "execute_result"
    }
   ],
   "source": [
    "dd['ISIC_0026298']"
   ]
  },
  {
   "cell_type": "code",
   "execution_count": 6,
   "metadata": {},
   "outputs": [],
   "source": [
    "import pandas as pd\n",
    "df_raw=pd.DataFrame(dd)\n",
    "df_raw=df_raw.transpose()\n",
    "df_raw.columns=['symmetry','border','red','green','blue']"
   ]
  },
  {
   "cell_type": "code",
   "execution_count": 7,
   "metadata": {},
   "outputs": [
    {
     "data": {
      "text/html": [
       "<div>\n",
       "<style scoped>\n",
       "    .dataframe tbody tr th:only-of-type {\n",
       "        vertical-align: middle;\n",
       "    }\n",
       "\n",
       "    .dataframe tbody tr th {\n",
       "        vertical-align: top;\n",
       "    }\n",
       "\n",
       "    .dataframe thead th {\n",
       "        text-align: right;\n",
       "    }\n",
       "</style>\n",
       "<table border=\"1\" class=\"dataframe\">\n",
       "  <thead>\n",
       "    <tr style=\"text-align: right;\">\n",
       "      <th></th>\n",
       "      <th>symmetry</th>\n",
       "      <th>border</th>\n",
       "      <th>red</th>\n",
       "      <th>green</th>\n",
       "      <th>blue</th>\n",
       "    </tr>\n",
       "  </thead>\n",
       "  <tbody>\n",
       "    <tr>\n",
       "      <th>ISIC_0005889</th>\n",
       "      <td>3.797314e+04</td>\n",
       "      <td>0.180041</td>\n",
       "      <td>149.063934</td>\n",
       "      <td>162.829437</td>\n",
       "      <td>174.777191</td>\n",
       "    </tr>\n",
       "    <tr>\n",
       "      <th>ISIC_0030487</th>\n",
       "      <td>6.032928e+05</td>\n",
       "      <td>0.063710</td>\n",
       "      <td>77.295006</td>\n",
       "      <td>94.697449</td>\n",
       "      <td>94.682220</td>\n",
       "    </tr>\n",
       "    <tr>\n",
       "      <th>ISIC_0031103</th>\n",
       "      <td>1.291171e+03</td>\n",
       "      <td>0.046612</td>\n",
       "      <td>156.743484</td>\n",
       "      <td>192.986725</td>\n",
       "      <td>189.846237</td>\n",
       "    </tr>\n",
       "    <tr>\n",
       "      <th>ISIC_0027853</th>\n",
       "      <td>4.198372e+03</td>\n",
       "      <td>0.067160</td>\n",
       "      <td>49.306885</td>\n",
       "      <td>78.382271</td>\n",
       "      <td>78.388977</td>\n",
       "    </tr>\n",
       "    <tr>\n",
       "      <th>ISIC_0013127</th>\n",
       "      <td>1.656603e+05</td>\n",
       "      <td>0.180363</td>\n",
       "      <td>135.603577</td>\n",
       "      <td>124.176094</td>\n",
       "      <td>227.685165</td>\n",
       "    </tr>\n",
       "    <tr>\n",
       "      <th>ISIC_0006552</th>\n",
       "      <td>6.802395e+03</td>\n",
       "      <td>0.155382</td>\n",
       "      <td>133.577652</td>\n",
       "      <td>174.282440</td>\n",
       "      <td>162.448593</td>\n",
       "    </tr>\n",
       "    <tr>\n",
       "      <th>ISIC_0026054</th>\n",
       "      <td>3.632420e+03</td>\n",
       "      <td>0.038869</td>\n",
       "      <td>93.762276</td>\n",
       "      <td>126.954094</td>\n",
       "      <td>254.920990</td>\n",
       "    </tr>\n",
       "    <tr>\n",
       "      <th>ISIC_0025976</th>\n",
       "      <td>1.437426e+03</td>\n",
       "      <td>0.063052</td>\n",
       "      <td>130.710358</td>\n",
       "      <td>151.332870</td>\n",
       "      <td>149.293152</td>\n",
       "    </tr>\n",
       "    <tr>\n",
       "      <th>ISIC_0011549</th>\n",
       "      <td>3.085956e+03</td>\n",
       "      <td>0.085724</td>\n",
       "      <td>62.803650</td>\n",
       "      <td>68.128220</td>\n",
       "      <td>75.496216</td>\n",
       "    </tr>\n",
       "    <tr>\n",
       "      <th>ISIC_0025491</th>\n",
       "      <td>4.214647e+03</td>\n",
       "      <td>0.081141</td>\n",
       "      <td>59.135468</td>\n",
       "      <td>64.704453</td>\n",
       "      <td>71.399788</td>\n",
       "    </tr>\n",
       "    <tr>\n",
       "      <th>ISIC_0009334</th>\n",
       "      <td>5.177805e+03</td>\n",
       "      <td>0.054064</td>\n",
       "      <td>162.268768</td>\n",
       "      <td>194.658463</td>\n",
       "      <td>187.732620</td>\n",
       "    </tr>\n",
       "    <tr>\n",
       "      <th>ISIC_0003556</th>\n",
       "      <td>1.187041e+03</td>\n",
       "      <td>0.031636</td>\n",
       "      <td>187.669907</td>\n",
       "      <td>224.331177</td>\n",
       "      <td>192.058350</td>\n",
       "    </tr>\n",
       "    <tr>\n",
       "      <th>ISIC_0026227</th>\n",
       "      <td>1.457514e+03</td>\n",
       "      <td>0.041777</td>\n",
       "      <td>132.562164</td>\n",
       "      <td>162.852737</td>\n",
       "      <td>161.790192</td>\n",
       "    </tr>\n",
       "    <tr>\n",
       "      <th>ISIC_0005806</th>\n",
       "      <td>9.575857e+05</td>\n",
       "      <td>0.290329</td>\n",
       "      <td>144.885056</td>\n",
       "      <td>189.138489</td>\n",
       "      <td>150.073471</td>\n",
       "    </tr>\n",
       "    <tr>\n",
       "      <th>ISIC_0033873</th>\n",
       "      <td>8.631937e+02</td>\n",
       "      <td>0.037861</td>\n",
       "      <td>124.638618</td>\n",
       "      <td>122.374771</td>\n",
       "      <td>165.523773</td>\n",
       "    </tr>\n",
       "    <tr>\n",
       "      <th>ISIC_0008189</th>\n",
       "      <td>2.304270e+03</td>\n",
       "      <td>0.033985</td>\n",
       "      <td>123.783020</td>\n",
       "      <td>142.022614</td>\n",
       "      <td>149.883011</td>\n",
       "    </tr>\n",
       "    <tr>\n",
       "      <th>ISIC_0000526</th>\n",
       "      <td>4.022813e+03</td>\n",
       "      <td>0.091948</td>\n",
       "      <td>102.294357</td>\n",
       "      <td>119.471382</td>\n",
       "      <td>149.976715</td>\n",
       "    </tr>\n",
       "    <tr>\n",
       "      <th>ISIC_0024655</th>\n",
       "      <td>8.882611e+05</td>\n",
       "      <td>0.029361</td>\n",
       "      <td>119.510933</td>\n",
       "      <td>141.652634</td>\n",
       "      <td>159.127289</td>\n",
       "    </tr>\n",
       "    <tr>\n",
       "      <th>ISIC_0026081</th>\n",
       "      <td>2.878598e+03</td>\n",
       "      <td>0.035408</td>\n",
       "      <td>94.707726</td>\n",
       "      <td>117.717941</td>\n",
       "      <td>169.859390</td>\n",
       "    </tr>\n",
       "    <tr>\n",
       "      <th>ISIC_0001149</th>\n",
       "      <td>1.555780e+06</td>\n",
       "      <td>0.358213</td>\n",
       "      <td>104.402237</td>\n",
       "      <td>109.203102</td>\n",
       "      <td>118.247803</td>\n",
       "    </tr>\n",
       "    <tr>\n",
       "      <th>ISIC_0002769</th>\n",
       "      <td>1.057629e+05</td>\n",
       "      <td>0.048416</td>\n",
       "      <td>177.708359</td>\n",
       "      <td>172.228439</td>\n",
       "      <td>142.723709</td>\n",
       "    </tr>\n",
       "    <tr>\n",
       "      <th>ISIC_0011400</th>\n",
       "      <td>3.465184e+03</td>\n",
       "      <td>0.127600</td>\n",
       "      <td>92.979652</td>\n",
       "      <td>110.566826</td>\n",
       "      <td>131.208618</td>\n",
       "    </tr>\n",
       "    <tr>\n",
       "      <th>ISIC_0032676</th>\n",
       "      <td>8.040276e+02</td>\n",
       "      <td>0.078395</td>\n",
       "      <td>89.131233</td>\n",
       "      <td>97.171806</td>\n",
       "      <td>109.571609</td>\n",
       "    </tr>\n",
       "    <tr>\n",
       "      <th>ISIC_0007173</th>\n",
       "      <td>6.498621e+03</td>\n",
       "      <td>0.049130</td>\n",
       "      <td>122.320534</td>\n",
       "      <td>146.209030</td>\n",
       "      <td>136.120453</td>\n",
       "    </tr>\n",
       "    <tr>\n",
       "      <th>ISIC_0029826</th>\n",
       "      <td>4.249344e+03</td>\n",
       "      <td>0.074042</td>\n",
       "      <td>107.553841</td>\n",
       "      <td>106.714767</td>\n",
       "      <td>136.588791</td>\n",
       "    </tr>\n",
       "    <tr>\n",
       "      <th>ISIC_0024233</th>\n",
       "      <td>1.152754e+03</td>\n",
       "      <td>0.026434</td>\n",
       "      <td>151.567764</td>\n",
       "      <td>166.855179</td>\n",
       "      <td>254.006393</td>\n",
       "    </tr>\n",
       "    <tr>\n",
       "      <th>ISIC_0007943</th>\n",
       "      <td>4.265853e+03</td>\n",
       "      <td>0.061450</td>\n",
       "      <td>178.306305</td>\n",
       "      <td>209.321930</td>\n",
       "      <td>200.666092</td>\n",
       "    </tr>\n",
       "    <tr>\n",
       "      <th>ISIC_0024565</th>\n",
       "      <td>1.879840e+03</td>\n",
       "      <td>0.070387</td>\n",
       "      <td>100.474129</td>\n",
       "      <td>116.930412</td>\n",
       "      <td>120.983490</td>\n",
       "    </tr>\n",
       "    <tr>\n",
       "      <th>ISIC_0012272</th>\n",
       "      <td>1.491948e+03</td>\n",
       "      <td>0.118234</td>\n",
       "      <td>162.710693</td>\n",
       "      <td>176.676254</td>\n",
       "      <td>188.054901</td>\n",
       "    </tr>\n",
       "    <tr>\n",
       "      <th>ISIC_0031231</th>\n",
       "      <td>1.503029e+03</td>\n",
       "      <td>0.055307</td>\n",
       "      <td>139.503265</td>\n",
       "      <td>165.206589</td>\n",
       "      <td>169.753159</td>\n",
       "    </tr>\n",
       "    <tr>\n",
       "      <th>...</th>\n",
       "      <td>...</td>\n",
       "      <td>...</td>\n",
       "      <td>...</td>\n",
       "      <td>...</td>\n",
       "      <td>...</td>\n",
       "    </tr>\n",
       "    <tr>\n",
       "      <th>ISIC_0005612</th>\n",
       "      <td>2.673716e+04</td>\n",
       "      <td>0.083191</td>\n",
       "      <td>171.078720</td>\n",
       "      <td>201.420364</td>\n",
       "      <td>148.163483</td>\n",
       "    </tr>\n",
       "    <tr>\n",
       "      <th>ISIC_0024327</th>\n",
       "      <td>8.509438e+02</td>\n",
       "      <td>0.048933</td>\n",
       "      <td>117.744652</td>\n",
       "      <td>135.392792</td>\n",
       "      <td>148.213287</td>\n",
       "    </tr>\n",
       "    <tr>\n",
       "      <th>ISIC_0001200</th>\n",
       "      <td>6.572896e+03</td>\n",
       "      <td>0.051389</td>\n",
       "      <td>202.279831</td>\n",
       "      <td>239.011139</td>\n",
       "      <td>247.944046</td>\n",
       "    </tr>\n",
       "    <tr>\n",
       "      <th>ISIC_0028733</th>\n",
       "      <td>1.442867e+06</td>\n",
       "      <td>0.041099</td>\n",
       "      <td>91.850182</td>\n",
       "      <td>131.506363</td>\n",
       "      <td>160.442291</td>\n",
       "    </tr>\n",
       "    <tr>\n",
       "      <th>ISIC_0013114</th>\n",
       "      <td>2.630347e+03</td>\n",
       "      <td>0.039038</td>\n",
       "      <td>112.583534</td>\n",
       "      <td>119.193535</td>\n",
       "      <td>138.646591</td>\n",
       "    </tr>\n",
       "    <tr>\n",
       "      <th>ISIC_0033717</th>\n",
       "      <td>2.794999e+03</td>\n",
       "      <td>0.088397</td>\n",
       "      <td>87.526413</td>\n",
       "      <td>84.172981</td>\n",
       "      <td>87.479004</td>\n",
       "    </tr>\n",
       "    <tr>\n",
       "      <th>ISIC_0000558</th>\n",
       "      <td>5.040191e+05</td>\n",
       "      <td>0.079815</td>\n",
       "      <td>172.764679</td>\n",
       "      <td>213.621368</td>\n",
       "      <td>211.746628</td>\n",
       "    </tr>\n",
       "    <tr>\n",
       "      <th>ISIC_0015921</th>\n",
       "      <td>4.119450e+03</td>\n",
       "      <td>0.091780</td>\n",
       "      <td>50.185928</td>\n",
       "      <td>62.164295</td>\n",
       "      <td>67.353157</td>\n",
       "    </tr>\n",
       "    <tr>\n",
       "      <th>ISIC_0010513</th>\n",
       "      <td>2.405525e+03</td>\n",
       "      <td>0.148392</td>\n",
       "      <td>128.732437</td>\n",
       "      <td>131.986572</td>\n",
       "      <td>144.490646</td>\n",
       "    </tr>\n",
       "    <tr>\n",
       "      <th>ISIC_0026086</th>\n",
       "      <td>3.850281e+03</td>\n",
       "      <td>0.076509</td>\n",
       "      <td>44.680462</td>\n",
       "      <td>61.797356</td>\n",
       "      <td>83.224731</td>\n",
       "    </tr>\n",
       "    <tr>\n",
       "      <th>ISIC_0032809</th>\n",
       "      <td>5.631480e+03</td>\n",
       "      <td>0.042194</td>\n",
       "      <td>84.326263</td>\n",
       "      <td>92.931519</td>\n",
       "      <td>139.335938</td>\n",
       "    </tr>\n",
       "    <tr>\n",
       "      <th>ISIC_0030063</th>\n",
       "      <td>5.122783e+03</td>\n",
       "      <td>0.147620</td>\n",
       "      <td>111.416557</td>\n",
       "      <td>128.161758</td>\n",
       "      <td>128.694168</td>\n",
       "    </tr>\n",
       "    <tr>\n",
       "      <th>ISIC_0009997</th>\n",
       "      <td>7.356385e+06</td>\n",
       "      <td>0.048091</td>\n",
       "      <td>82.773537</td>\n",
       "      <td>76.368408</td>\n",
       "      <td>282.434723</td>\n",
       "    </tr>\n",
       "    <tr>\n",
       "      <th>ISIC_0032536</th>\n",
       "      <td>7.463335e+04</td>\n",
       "      <td>0.134657</td>\n",
       "      <td>39.425552</td>\n",
       "      <td>40.476845</td>\n",
       "      <td>99.622818</td>\n",
       "    </tr>\n",
       "    <tr>\n",
       "      <th>ISIC_0011384</th>\n",
       "      <td>5.344588e+03</td>\n",
       "      <td>0.038838</td>\n",
       "      <td>99.442894</td>\n",
       "      <td>98.974159</td>\n",
       "      <td>123.556046</td>\n",
       "    </tr>\n",
       "    <tr>\n",
       "      <th>ISIC_0005572</th>\n",
       "      <td>1.265127e+03</td>\n",
       "      <td>0.252691</td>\n",
       "      <td>122.320282</td>\n",
       "      <td>123.047134</td>\n",
       "      <td>136.319046</td>\n",
       "    </tr>\n",
       "    <tr>\n",
       "      <th>ISIC_0000403</th>\n",
       "      <td>3.094540e+03</td>\n",
       "      <td>0.039419</td>\n",
       "      <td>88.916267</td>\n",
       "      <td>102.462196</td>\n",
       "      <td>113.497833</td>\n",
       "    </tr>\n",
       "    <tr>\n",
       "      <th>ISIC_0029018</th>\n",
       "      <td>1.226718e+04</td>\n",
       "      <td>0.255531</td>\n",
       "      <td>86.019791</td>\n",
       "      <td>89.880272</td>\n",
       "      <td>82.611923</td>\n",
       "    </tr>\n",
       "    <tr>\n",
       "      <th>ISIC_0006664</th>\n",
       "      <td>2.080521e+03</td>\n",
       "      <td>0.024720</td>\n",
       "      <td>146.300491</td>\n",
       "      <td>148.346069</td>\n",
       "      <td>167.993225</td>\n",
       "    </tr>\n",
       "    <tr>\n",
       "      <th>ISIC_0030303</th>\n",
       "      <td>3.184058e+04</td>\n",
       "      <td>0.062515</td>\n",
       "      <td>131.250671</td>\n",
       "      <td>169.483246</td>\n",
       "      <td>260.184570</td>\n",
       "    </tr>\n",
       "    <tr>\n",
       "      <th>ISIC_0030721</th>\n",
       "      <td>2.295474e+03</td>\n",
       "      <td>0.102578</td>\n",
       "      <td>91.460564</td>\n",
       "      <td>95.547043</td>\n",
       "      <td>120.518349</td>\n",
       "    </tr>\n",
       "    <tr>\n",
       "      <th>ISIC_0029114</th>\n",
       "      <td>2.286833e+03</td>\n",
       "      <td>0.043355</td>\n",
       "      <td>100.037834</td>\n",
       "      <td>134.017395</td>\n",
       "      <td>149.124313</td>\n",
       "    </tr>\n",
       "    <tr>\n",
       "      <th>ISIC_0024267</th>\n",
       "      <td>1.448008e+03</td>\n",
       "      <td>0.048052</td>\n",
       "      <td>102.411430</td>\n",
       "      <td>119.724594</td>\n",
       "      <td>181.830078</td>\n",
       "    </tr>\n",
       "    <tr>\n",
       "      <th>ISIC_0013588</th>\n",
       "      <td>3.913398e+03</td>\n",
       "      <td>0.106620</td>\n",
       "      <td>136.843124</td>\n",
       "      <td>139.069885</td>\n",
       "      <td>167.942535</td>\n",
       "    </tr>\n",
       "    <tr>\n",
       "      <th>ISIC_0029677</th>\n",
       "      <td>2.674294e+03</td>\n",
       "      <td>0.047309</td>\n",
       "      <td>144.551239</td>\n",
       "      <td>163.249069</td>\n",
       "      <td>174.174637</td>\n",
       "    </tr>\n",
       "    <tr>\n",
       "      <th>ISIC_0004896</th>\n",
       "      <td>2.783434e+03</td>\n",
       "      <td>0.031823</td>\n",
       "      <td>152.903214</td>\n",
       "      <td>152.245117</td>\n",
       "      <td>162.706024</td>\n",
       "    </tr>\n",
       "    <tr>\n",
       "      <th>ISIC_0030105</th>\n",
       "      <td>1.919362e+03</td>\n",
       "      <td>0.063594</td>\n",
       "      <td>101.182930</td>\n",
       "      <td>110.202454</td>\n",
       "      <td>128.390945</td>\n",
       "    </tr>\n",
       "    <tr>\n",
       "      <th>ISIC_0006721</th>\n",
       "      <td>4.381671e+03</td>\n",
       "      <td>0.022484</td>\n",
       "      <td>201.092636</td>\n",
       "      <td>238.321777</td>\n",
       "      <td>256.246033</td>\n",
       "    </tr>\n",
       "    <tr>\n",
       "      <th>ISIC_0027952</th>\n",
       "      <td>9.429502e+02</td>\n",
       "      <td>0.100620</td>\n",
       "      <td>144.668121</td>\n",
       "      <td>132.490326</td>\n",
       "      <td>164.360092</td>\n",
       "    </tr>\n",
       "    <tr>\n",
       "      <th>ISIC_0012089</th>\n",
       "      <td>1.485854e+06</td>\n",
       "      <td>0.071363</td>\n",
       "      <td>124.132599</td>\n",
       "      <td>157.341614</td>\n",
       "      <td>232.903748</td>\n",
       "    </tr>\n",
       "  </tbody>\n",
       "</table>\n",
       "<p>17984 rows × 5 columns</p>\n",
       "</div>"
      ],
      "text/plain": [
       "                  symmetry    border         red       green        blue\n",
       "ISIC_0005889  3.797314e+04  0.180041  149.063934  162.829437  174.777191\n",
       "ISIC_0030487  6.032928e+05  0.063710   77.295006   94.697449   94.682220\n",
       "ISIC_0031103  1.291171e+03  0.046612  156.743484  192.986725  189.846237\n",
       "ISIC_0027853  4.198372e+03  0.067160   49.306885   78.382271   78.388977\n",
       "ISIC_0013127  1.656603e+05  0.180363  135.603577  124.176094  227.685165\n",
       "ISIC_0006552  6.802395e+03  0.155382  133.577652  174.282440  162.448593\n",
       "ISIC_0026054  3.632420e+03  0.038869   93.762276  126.954094  254.920990\n",
       "ISIC_0025976  1.437426e+03  0.063052  130.710358  151.332870  149.293152\n",
       "ISIC_0011549  3.085956e+03  0.085724   62.803650   68.128220   75.496216\n",
       "ISIC_0025491  4.214647e+03  0.081141   59.135468   64.704453   71.399788\n",
       "ISIC_0009334  5.177805e+03  0.054064  162.268768  194.658463  187.732620\n",
       "ISIC_0003556  1.187041e+03  0.031636  187.669907  224.331177  192.058350\n",
       "ISIC_0026227  1.457514e+03  0.041777  132.562164  162.852737  161.790192\n",
       "ISIC_0005806  9.575857e+05  0.290329  144.885056  189.138489  150.073471\n",
       "ISIC_0033873  8.631937e+02  0.037861  124.638618  122.374771  165.523773\n",
       "ISIC_0008189  2.304270e+03  0.033985  123.783020  142.022614  149.883011\n",
       "ISIC_0000526  4.022813e+03  0.091948  102.294357  119.471382  149.976715\n",
       "ISIC_0024655  8.882611e+05  0.029361  119.510933  141.652634  159.127289\n",
       "ISIC_0026081  2.878598e+03  0.035408   94.707726  117.717941  169.859390\n",
       "ISIC_0001149  1.555780e+06  0.358213  104.402237  109.203102  118.247803\n",
       "ISIC_0002769  1.057629e+05  0.048416  177.708359  172.228439  142.723709\n",
       "ISIC_0011400  3.465184e+03  0.127600   92.979652  110.566826  131.208618\n",
       "ISIC_0032676  8.040276e+02  0.078395   89.131233   97.171806  109.571609\n",
       "ISIC_0007173  6.498621e+03  0.049130  122.320534  146.209030  136.120453\n",
       "ISIC_0029826  4.249344e+03  0.074042  107.553841  106.714767  136.588791\n",
       "ISIC_0024233  1.152754e+03  0.026434  151.567764  166.855179  254.006393\n",
       "ISIC_0007943  4.265853e+03  0.061450  178.306305  209.321930  200.666092\n",
       "ISIC_0024565  1.879840e+03  0.070387  100.474129  116.930412  120.983490\n",
       "ISIC_0012272  1.491948e+03  0.118234  162.710693  176.676254  188.054901\n",
       "ISIC_0031231  1.503029e+03  0.055307  139.503265  165.206589  169.753159\n",
       "...                    ...       ...         ...         ...         ...\n",
       "ISIC_0005612  2.673716e+04  0.083191  171.078720  201.420364  148.163483\n",
       "ISIC_0024327  8.509438e+02  0.048933  117.744652  135.392792  148.213287\n",
       "ISIC_0001200  6.572896e+03  0.051389  202.279831  239.011139  247.944046\n",
       "ISIC_0028733  1.442867e+06  0.041099   91.850182  131.506363  160.442291\n",
       "ISIC_0013114  2.630347e+03  0.039038  112.583534  119.193535  138.646591\n",
       "ISIC_0033717  2.794999e+03  0.088397   87.526413   84.172981   87.479004\n",
       "ISIC_0000558  5.040191e+05  0.079815  172.764679  213.621368  211.746628\n",
       "ISIC_0015921  4.119450e+03  0.091780   50.185928   62.164295   67.353157\n",
       "ISIC_0010513  2.405525e+03  0.148392  128.732437  131.986572  144.490646\n",
       "ISIC_0026086  3.850281e+03  0.076509   44.680462   61.797356   83.224731\n",
       "ISIC_0032809  5.631480e+03  0.042194   84.326263   92.931519  139.335938\n",
       "ISIC_0030063  5.122783e+03  0.147620  111.416557  128.161758  128.694168\n",
       "ISIC_0009997  7.356385e+06  0.048091   82.773537   76.368408  282.434723\n",
       "ISIC_0032536  7.463335e+04  0.134657   39.425552   40.476845   99.622818\n",
       "ISIC_0011384  5.344588e+03  0.038838   99.442894   98.974159  123.556046\n",
       "ISIC_0005572  1.265127e+03  0.252691  122.320282  123.047134  136.319046\n",
       "ISIC_0000403  3.094540e+03  0.039419   88.916267  102.462196  113.497833\n",
       "ISIC_0029018  1.226718e+04  0.255531   86.019791   89.880272   82.611923\n",
       "ISIC_0006664  2.080521e+03  0.024720  146.300491  148.346069  167.993225\n",
       "ISIC_0030303  3.184058e+04  0.062515  131.250671  169.483246  260.184570\n",
       "ISIC_0030721  2.295474e+03  0.102578   91.460564   95.547043  120.518349\n",
       "ISIC_0029114  2.286833e+03  0.043355  100.037834  134.017395  149.124313\n",
       "ISIC_0024267  1.448008e+03  0.048052  102.411430  119.724594  181.830078\n",
       "ISIC_0013588  3.913398e+03  0.106620  136.843124  139.069885  167.942535\n",
       "ISIC_0029677  2.674294e+03  0.047309  144.551239  163.249069  174.174637\n",
       "ISIC_0004896  2.783434e+03  0.031823  152.903214  152.245117  162.706024\n",
       "ISIC_0030105  1.919362e+03  0.063594  101.182930  110.202454  128.390945\n",
       "ISIC_0006721  4.381671e+03  0.022484  201.092636  238.321777  256.246033\n",
       "ISIC_0027952  9.429502e+02  0.100620  144.668121  132.490326  164.360092\n",
       "ISIC_0012089  1.485854e+06  0.071363  124.132599  157.341614  232.903748\n",
       "\n",
       "[17984 rows x 5 columns]"
      ]
     },
     "execution_count": 7,
     "metadata": {},
     "output_type": "execute_result"
    }
   ],
   "source": [
    "df_raw"
   ]
  },
  {
   "cell_type": "code",
   "execution_count": 8,
   "metadata": {},
   "outputs": [],
   "source": [
    "ben_mal=meta_df[['name','meta.clinical.benign_malignant']]\n",
    "ben_mal=ben_mal.rename(columns={'meta.clinical.benign_malignant':'malig_benign'})"
   ]
  },
  {
   "cell_type": "code",
   "execution_count": 9,
   "metadata": {},
   "outputs": [],
   "source": [
    "import numpy as np\n",
    "ben_mal_list=list()\n",
    "for malignancy in ben_mal['malig_benign']:\n",
    "    if malignancy == 'benign':\n",
    "        ben_mal_list.append(0)\n",
    "    elif malignancy == 'malignant':\n",
    "        ben_mal_list.append(1)\n",
    "    else:\n",
    "        ben_mal_list.append(np.NaN)"
   ]
  },
  {
   "cell_type": "code",
   "execution_count": 10,
   "metadata": {},
   "outputs": [],
   "source": [
    "ben_mal['malig_benign']=ben_mal_list"
   ]
  },
  {
   "cell_type": "code",
   "execution_count": 11,
   "metadata": {},
   "outputs": [],
   "source": [
    "ben_mal=ben_mal.set_index('name')\n",
    "del ben_mal.index.name"
   ]
  },
  {
   "cell_type": "code",
   "execution_count": 12,
   "metadata": {},
   "outputs": [],
   "source": [
    "new_df=df_raw.join(ben_mal,how='outer')\n",
    "new_df=new_df.dropna()"
   ]
  },
  {
   "cell_type": "code",
   "execution_count": 13,
   "metadata": {},
   "outputs": [
    {
     "data": {
      "text/html": [
       "<div>\n",
       "<style scoped>\n",
       "    .dataframe tbody tr th:only-of-type {\n",
       "        vertical-align: middle;\n",
       "    }\n",
       "\n",
       "    .dataframe tbody tr th {\n",
       "        vertical-align: top;\n",
       "    }\n",
       "\n",
       "    .dataframe thead th {\n",
       "        text-align: right;\n",
       "    }\n",
       "</style>\n",
       "<table border=\"1\" class=\"dataframe\">\n",
       "  <thead>\n",
       "    <tr style=\"text-align: right;\">\n",
       "      <th></th>\n",
       "      <th>symmetry</th>\n",
       "      <th>border</th>\n",
       "      <th>red</th>\n",
       "      <th>green</th>\n",
       "      <th>blue</th>\n",
       "      <th>malig_benign</th>\n",
       "    </tr>\n",
       "  </thead>\n",
       "  <tbody>\n",
       "    <tr>\n",
       "      <th>ISIC_0000000</th>\n",
       "      <td>3.060597e+03</td>\n",
       "      <td>0.090472</td>\n",
       "      <td>169.260056</td>\n",
       "      <td>83.258881</td>\n",
       "      <td>109.840569</td>\n",
       "      <td>0.0</td>\n",
       "    </tr>\n",
       "    <tr>\n",
       "      <th>ISIC_0000001</th>\n",
       "      <td>8.297035e+02</td>\n",
       "      <td>0.133258</td>\n",
       "      <td>167.868790</td>\n",
       "      <td>197.507538</td>\n",
       "      <td>206.749573</td>\n",
       "      <td>0.0</td>\n",
       "    </tr>\n",
       "    <tr>\n",
       "      <th>ISIC_0000002</th>\n",
       "      <td>2.161214e+03</td>\n",
       "      <td>0.044267</td>\n",
       "      <td>73.881050</td>\n",
       "      <td>76.923767</td>\n",
       "      <td>137.701797</td>\n",
       "      <td>1.0</td>\n",
       "    </tr>\n",
       "    <tr>\n",
       "      <th>ISIC_0000003</th>\n",
       "      <td>3.889772e+03</td>\n",
       "      <td>0.087672</td>\n",
       "      <td>121.118683</td>\n",
       "      <td>127.288406</td>\n",
       "      <td>149.990173</td>\n",
       "      <td>0.0</td>\n",
       "    </tr>\n",
       "    <tr>\n",
       "      <th>ISIC_0000004</th>\n",
       "      <td>2.748019e+03</td>\n",
       "      <td>0.294333</td>\n",
       "      <td>318.564331</td>\n",
       "      <td>318.579376</td>\n",
       "      <td>319.799255</td>\n",
       "      <td>1.0</td>\n",
       "    </tr>\n",
       "    <tr>\n",
       "      <th>ISIC_0000005</th>\n",
       "      <td>3.865132e+03</td>\n",
       "      <td>0.039265</td>\n",
       "      <td>91.929420</td>\n",
       "      <td>99.219696</td>\n",
       "      <td>110.995247</td>\n",
       "      <td>0.0</td>\n",
       "    </tr>\n",
       "    <tr>\n",
       "      <th>ISIC_0000006</th>\n",
       "      <td>2.392168e+03</td>\n",
       "      <td>0.054350</td>\n",
       "      <td>100.248177</td>\n",
       "      <td>133.984207</td>\n",
       "      <td>162.575378</td>\n",
       "      <td>0.0</td>\n",
       "    </tr>\n",
       "    <tr>\n",
       "      <th>ISIC_0000007</th>\n",
       "      <td>2.155053e+03</td>\n",
       "      <td>0.072146</td>\n",
       "      <td>104.805283</td>\n",
       "      <td>134.082352</td>\n",
       "      <td>157.786072</td>\n",
       "      <td>0.0</td>\n",
       "    </tr>\n",
       "    <tr>\n",
       "      <th>ISIC_0000009</th>\n",
       "      <td>3.259229e+03</td>\n",
       "      <td>0.051923</td>\n",
       "      <td>85.616745</td>\n",
       "      <td>94.998863</td>\n",
       "      <td>122.118164</td>\n",
       "      <td>0.0</td>\n",
       "    </tr>\n",
       "    <tr>\n",
       "      <th>ISIC_0000010</th>\n",
       "      <td>2.417131e+03</td>\n",
       "      <td>0.076539</td>\n",
       "      <td>152.956070</td>\n",
       "      <td>170.335907</td>\n",
       "      <td>192.547516</td>\n",
       "      <td>0.0</td>\n",
       "    </tr>\n",
       "    <tr>\n",
       "      <th>ISIC_0000011</th>\n",
       "      <td>2.549819e+03</td>\n",
       "      <td>0.046889</td>\n",
       "      <td>78.744705</td>\n",
       "      <td>87.103630</td>\n",
       "      <td>109.957527</td>\n",
       "      <td>0.0</td>\n",
       "    </tr>\n",
       "    <tr>\n",
       "      <th>ISIC_0000012</th>\n",
       "      <td>1.832492e+03</td>\n",
       "      <td>0.087835</td>\n",
       "      <td>108.794968</td>\n",
       "      <td>119.235512</td>\n",
       "      <td>155.538681</td>\n",
       "      <td>0.0</td>\n",
       "    </tr>\n",
       "    <tr>\n",
       "      <th>ISIC_0000013</th>\n",
       "      <td>1.774565e+03</td>\n",
       "      <td>0.235008</td>\n",
       "      <td>116.183357</td>\n",
       "      <td>129.103653</td>\n",
       "      <td>156.583420</td>\n",
       "      <td>1.0</td>\n",
       "    </tr>\n",
       "    <tr>\n",
       "      <th>ISIC_0000014</th>\n",
       "      <td>2.059018e+03</td>\n",
       "      <td>0.031310</td>\n",
       "      <td>84.376183</td>\n",
       "      <td>129.560760</td>\n",
       "      <td>162.072083</td>\n",
       "      <td>0.0</td>\n",
       "    </tr>\n",
       "    <tr>\n",
       "      <th>ISIC_0000015</th>\n",
       "      <td>1.123796e+03</td>\n",
       "      <td>0.048335</td>\n",
       "      <td>82.150230</td>\n",
       "      <td>113.199425</td>\n",
       "      <td>139.176636</td>\n",
       "      <td>0.0</td>\n",
       "    </tr>\n",
       "    <tr>\n",
       "      <th>ISIC_0000016</th>\n",
       "      <td>2.426388e+03</td>\n",
       "      <td>0.150629</td>\n",
       "      <td>379.025818</td>\n",
       "      <td>166.817917</td>\n",
       "      <td>225.914734</td>\n",
       "      <td>0.0</td>\n",
       "    </tr>\n",
       "    <tr>\n",
       "      <th>ISIC_0000017</th>\n",
       "      <td>2.105316e+03</td>\n",
       "      <td>0.077674</td>\n",
       "      <td>144.162277</td>\n",
       "      <td>170.564560</td>\n",
       "      <td>197.909866</td>\n",
       "      <td>0.0</td>\n",
       "    </tr>\n",
       "    <tr>\n",
       "      <th>ISIC_0000018</th>\n",
       "      <td>2.514278e+03</td>\n",
       "      <td>0.044532</td>\n",
       "      <td>133.494461</td>\n",
       "      <td>137.320358</td>\n",
       "      <td>180.475418</td>\n",
       "      <td>0.0</td>\n",
       "    </tr>\n",
       "    <tr>\n",
       "      <th>ISIC_0000019</th>\n",
       "      <td>2.262660e+03</td>\n",
       "      <td>0.074743</td>\n",
       "      <td>111.150963</td>\n",
       "      <td>124.883484</td>\n",
       "      <td>166.380142</td>\n",
       "      <td>0.0</td>\n",
       "    </tr>\n",
       "    <tr>\n",
       "      <th>ISIC_0000020</th>\n",
       "      <td>2.856149e+03</td>\n",
       "      <td>0.080286</td>\n",
       "      <td>118.087471</td>\n",
       "      <td>130.545044</td>\n",
       "      <td>155.455688</td>\n",
       "      <td>0.0</td>\n",
       "    </tr>\n",
       "    <tr>\n",
       "      <th>ISIC_0000022</th>\n",
       "      <td>2.522841e+03</td>\n",
       "      <td>0.031718</td>\n",
       "      <td>106.242271</td>\n",
       "      <td>120.715614</td>\n",
       "      <td>146.675613</td>\n",
       "      <td>1.0</td>\n",
       "    </tr>\n",
       "    <tr>\n",
       "      <th>ISIC_0000023</th>\n",
       "      <td>2.454611e+03</td>\n",
       "      <td>0.047750</td>\n",
       "      <td>144.272858</td>\n",
       "      <td>158.567352</td>\n",
       "      <td>215.745346</td>\n",
       "      <td>0.0</td>\n",
       "    </tr>\n",
       "    <tr>\n",
       "      <th>ISIC_0000024</th>\n",
       "      <td>3.251506e+03</td>\n",
       "      <td>0.022163</td>\n",
       "      <td>139.269073</td>\n",
       "      <td>160.199966</td>\n",
       "      <td>233.919098</td>\n",
       "      <td>0.0</td>\n",
       "    </tr>\n",
       "    <tr>\n",
       "      <th>ISIC_0000025</th>\n",
       "      <td>4.797401e+03</td>\n",
       "      <td>0.042519</td>\n",
       "      <td>119.022659</td>\n",
       "      <td>131.361481</td>\n",
       "      <td>194.114746</td>\n",
       "      <td>0.0</td>\n",
       "    </tr>\n",
       "    <tr>\n",
       "      <th>ISIC_0000026</th>\n",
       "      <td>1.982007e+03</td>\n",
       "      <td>0.022294</td>\n",
       "      <td>130.059235</td>\n",
       "      <td>135.206299</td>\n",
       "      <td>206.989899</td>\n",
       "      <td>1.0</td>\n",
       "    </tr>\n",
       "    <tr>\n",
       "      <th>ISIC_0000027</th>\n",
       "      <td>1.116717e+03</td>\n",
       "      <td>0.039267</td>\n",
       "      <td>159.392944</td>\n",
       "      <td>172.268265</td>\n",
       "      <td>195.896484</td>\n",
       "      <td>0.0</td>\n",
       "    </tr>\n",
       "    <tr>\n",
       "      <th>ISIC_0000028</th>\n",
       "      <td>1.814217e+03</td>\n",
       "      <td>0.111702</td>\n",
       "      <td>139.457260</td>\n",
       "      <td>137.128815</td>\n",
       "      <td>164.373138</td>\n",
       "      <td>0.0</td>\n",
       "    </tr>\n",
       "    <tr>\n",
       "      <th>ISIC_0000029</th>\n",
       "      <td>1.216645e+03</td>\n",
       "      <td>0.223836</td>\n",
       "      <td>98.471504</td>\n",
       "      <td>104.490143</td>\n",
       "      <td>142.688538</td>\n",
       "      <td>1.0</td>\n",
       "    </tr>\n",
       "    <tr>\n",
       "      <th>ISIC_0000031</th>\n",
       "      <td>5.684138e+03</td>\n",
       "      <td>0.094028</td>\n",
       "      <td>67.066460</td>\n",
       "      <td>72.920425</td>\n",
       "      <td>95.672974</td>\n",
       "      <td>1.0</td>\n",
       "    </tr>\n",
       "    <tr>\n",
       "      <th>ISIC_0000033</th>\n",
       "      <td>2.640159e+06</td>\n",
       "      <td>0.022995</td>\n",
       "      <td>104.896782</td>\n",
       "      <td>149.033646</td>\n",
       "      <td>275.812195</td>\n",
       "      <td>0.0</td>\n",
       "    </tr>\n",
       "    <tr>\n",
       "      <th>...</th>\n",
       "      <td>...</td>\n",
       "      <td>...</td>\n",
       "      <td>...</td>\n",
       "      <td>...</td>\n",
       "      <td>...</td>\n",
       "      <td>...</td>\n",
       "    </tr>\n",
       "    <tr>\n",
       "      <th>ISIC_0034270</th>\n",
       "      <td>3.521078e+03</td>\n",
       "      <td>0.074500</td>\n",
       "      <td>120.027542</td>\n",
       "      <td>116.284004</td>\n",
       "      <td>128.498581</td>\n",
       "      <td>0.0</td>\n",
       "    </tr>\n",
       "    <tr>\n",
       "      <th>ISIC_0034271</th>\n",
       "      <td>1.926634e+03</td>\n",
       "      <td>0.055074</td>\n",
       "      <td>125.576851</td>\n",
       "      <td>117.145126</td>\n",
       "      <td>156.681320</td>\n",
       "      <td>0.0</td>\n",
       "    </tr>\n",
       "    <tr>\n",
       "      <th>ISIC_0034272</th>\n",
       "      <td>3.377567e+03</td>\n",
       "      <td>0.108645</td>\n",
       "      <td>151.529251</td>\n",
       "      <td>149.263702</td>\n",
       "      <td>182.547455</td>\n",
       "      <td>0.0</td>\n",
       "    </tr>\n",
       "    <tr>\n",
       "      <th>ISIC_0034273</th>\n",
       "      <td>3.697046e+03</td>\n",
       "      <td>0.068634</td>\n",
       "      <td>109.500587</td>\n",
       "      <td>98.515343</td>\n",
       "      <td>117.584587</td>\n",
       "      <td>0.0</td>\n",
       "    </tr>\n",
       "    <tr>\n",
       "      <th>ISIC_0034275</th>\n",
       "      <td>2.276971e+04</td>\n",
       "      <td>0.191811</td>\n",
       "      <td>54.459480</td>\n",
       "      <td>61.193169</td>\n",
       "      <td>76.089424</td>\n",
       "      <td>1.0</td>\n",
       "    </tr>\n",
       "    <tr>\n",
       "      <th>ISIC_0034278</th>\n",
       "      <td>3.219051e+03</td>\n",
       "      <td>0.088318</td>\n",
       "      <td>84.430412</td>\n",
       "      <td>83.512222</td>\n",
       "      <td>127.822861</td>\n",
       "      <td>0.0</td>\n",
       "    </tr>\n",
       "    <tr>\n",
       "      <th>ISIC_0034279</th>\n",
       "      <td>2.438441e+05</td>\n",
       "      <td>0.115423</td>\n",
       "      <td>103.137756</td>\n",
       "      <td>109.822678</td>\n",
       "      <td>147.857254</td>\n",
       "      <td>0.0</td>\n",
       "    </tr>\n",
       "    <tr>\n",
       "      <th>ISIC_0034282</th>\n",
       "      <td>1.872519e+03</td>\n",
       "      <td>0.093480</td>\n",
       "      <td>125.079590</td>\n",
       "      <td>117.857010</td>\n",
       "      <td>138.046036</td>\n",
       "      <td>0.0</td>\n",
       "    </tr>\n",
       "    <tr>\n",
       "      <th>ISIC_0034285</th>\n",
       "      <td>3.326609e+03</td>\n",
       "      <td>0.098955</td>\n",
       "      <td>95.944397</td>\n",
       "      <td>103.953575</td>\n",
       "      <td>136.133591</td>\n",
       "      <td>0.0</td>\n",
       "    </tr>\n",
       "    <tr>\n",
       "      <th>ISIC_0034286</th>\n",
       "      <td>3.944896e+03</td>\n",
       "      <td>0.123216</td>\n",
       "      <td>61.520687</td>\n",
       "      <td>69.517242</td>\n",
       "      <td>73.087296</td>\n",
       "      <td>0.0</td>\n",
       "    </tr>\n",
       "    <tr>\n",
       "      <th>ISIC_0034288</th>\n",
       "      <td>3.798990e+03</td>\n",
       "      <td>0.093742</td>\n",
       "      <td>97.330338</td>\n",
       "      <td>99.754837</td>\n",
       "      <td>116.589348</td>\n",
       "      <td>0.0</td>\n",
       "    </tr>\n",
       "    <tr>\n",
       "      <th>ISIC_0034290</th>\n",
       "      <td>8.923314e+02</td>\n",
       "      <td>0.157193</td>\n",
       "      <td>71.864197</td>\n",
       "      <td>70.761131</td>\n",
       "      <td>99.331184</td>\n",
       "      <td>0.0</td>\n",
       "    </tr>\n",
       "    <tr>\n",
       "      <th>ISIC_0034292</th>\n",
       "      <td>1.982601e+03</td>\n",
       "      <td>0.047720</td>\n",
       "      <td>106.732979</td>\n",
       "      <td>115.047882</td>\n",
       "      <td>140.237030</td>\n",
       "      <td>0.0</td>\n",
       "    </tr>\n",
       "    <tr>\n",
       "      <th>ISIC_0034293</th>\n",
       "      <td>1.556216e+03</td>\n",
       "      <td>0.081987</td>\n",
       "      <td>91.501846</td>\n",
       "      <td>88.916481</td>\n",
       "      <td>106.648254</td>\n",
       "      <td>0.0</td>\n",
       "    </tr>\n",
       "    <tr>\n",
       "      <th>ISIC_0034294</th>\n",
       "      <td>2.105200e+03</td>\n",
       "      <td>0.124144</td>\n",
       "      <td>56.369438</td>\n",
       "      <td>63.968861</td>\n",
       "      <td>86.040764</td>\n",
       "      <td>1.0</td>\n",
       "    </tr>\n",
       "    <tr>\n",
       "      <th>ISIC_0034295</th>\n",
       "      <td>7.109106e+02</td>\n",
       "      <td>0.269237</td>\n",
       "      <td>104.124771</td>\n",
       "      <td>117.196976</td>\n",
       "      <td>147.894394</td>\n",
       "      <td>0.0</td>\n",
       "    </tr>\n",
       "    <tr>\n",
       "      <th>ISIC_0034297</th>\n",
       "      <td>2.219520e+03</td>\n",
       "      <td>0.099606</td>\n",
       "      <td>127.302238</td>\n",
       "      <td>137.393692</td>\n",
       "      <td>170.775162</td>\n",
       "      <td>0.0</td>\n",
       "    </tr>\n",
       "    <tr>\n",
       "      <th>ISIC_0034298</th>\n",
       "      <td>2.477049e+03</td>\n",
       "      <td>0.108559</td>\n",
       "      <td>123.652901</td>\n",
       "      <td>115.030060</td>\n",
       "      <td>139.645889</td>\n",
       "      <td>0.0</td>\n",
       "    </tr>\n",
       "    <tr>\n",
       "      <th>ISIC_0034300</th>\n",
       "      <td>1.864778e+03</td>\n",
       "      <td>0.046857</td>\n",
       "      <td>94.762947</td>\n",
       "      <td>98.938919</td>\n",
       "      <td>122.465881</td>\n",
       "      <td>0.0</td>\n",
       "    </tr>\n",
       "    <tr>\n",
       "      <th>ISIC_0034304</th>\n",
       "      <td>1.648440e+03</td>\n",
       "      <td>0.055358</td>\n",
       "      <td>112.599663</td>\n",
       "      <td>110.569153</td>\n",
       "      <td>142.121552</td>\n",
       "      <td>0.0</td>\n",
       "    </tr>\n",
       "    <tr>\n",
       "      <th>ISIC_0034305</th>\n",
       "      <td>1.795965e+03</td>\n",
       "      <td>0.082360</td>\n",
       "      <td>139.440598</td>\n",
       "      <td>153.033096</td>\n",
       "      <td>190.214142</td>\n",
       "      <td>0.0</td>\n",
       "    </tr>\n",
       "    <tr>\n",
       "      <th>ISIC_0034308</th>\n",
       "      <td>2.500197e+03</td>\n",
       "      <td>0.238403</td>\n",
       "      <td>143.844940</td>\n",
       "      <td>147.877106</td>\n",
       "      <td>169.602280</td>\n",
       "      <td>0.0</td>\n",
       "    </tr>\n",
       "    <tr>\n",
       "      <th>ISIC_0034309</th>\n",
       "      <td>2.249340e+03</td>\n",
       "      <td>0.033650</td>\n",
       "      <td>95.636002</td>\n",
       "      <td>97.820000</td>\n",
       "      <td>147.625641</td>\n",
       "      <td>0.0</td>\n",
       "    </tr>\n",
       "    <tr>\n",
       "      <th>ISIC_0034310</th>\n",
       "      <td>3.948245e+03</td>\n",
       "      <td>0.058904</td>\n",
       "      <td>87.388290</td>\n",
       "      <td>96.565002</td>\n",
       "      <td>120.000633</td>\n",
       "      <td>0.0</td>\n",
       "    </tr>\n",
       "    <tr>\n",
       "      <th>ISIC_0034311</th>\n",
       "      <td>2.070745e+03</td>\n",
       "      <td>0.058138</td>\n",
       "      <td>81.510063</td>\n",
       "      <td>101.019073</td>\n",
       "      <td>114.180153</td>\n",
       "      <td>0.0</td>\n",
       "    </tr>\n",
       "    <tr>\n",
       "      <th>ISIC_0034313</th>\n",
       "      <td>2.020491e+03</td>\n",
       "      <td>0.060372</td>\n",
       "      <td>72.516830</td>\n",
       "      <td>71.393913</td>\n",
       "      <td>127.595383</td>\n",
       "      <td>1.0</td>\n",
       "    </tr>\n",
       "    <tr>\n",
       "      <th>ISIC_0034316</th>\n",
       "      <td>3.204869e+03</td>\n",
       "      <td>0.105328</td>\n",
       "      <td>78.760147</td>\n",
       "      <td>84.631844</td>\n",
       "      <td>100.981033</td>\n",
       "      <td>1.0</td>\n",
       "    </tr>\n",
       "    <tr>\n",
       "      <th>ISIC_0034317</th>\n",
       "      <td>2.304436e+03</td>\n",
       "      <td>0.193900</td>\n",
       "      <td>150.892776</td>\n",
       "      <td>153.486801</td>\n",
       "      <td>160.760468</td>\n",
       "      <td>1.0</td>\n",
       "    </tr>\n",
       "    <tr>\n",
       "      <th>ISIC_0034319</th>\n",
       "      <td>1.094901e+03</td>\n",
       "      <td>0.124071</td>\n",
       "      <td>104.027901</td>\n",
       "      <td>117.961639</td>\n",
       "      <td>120.760864</td>\n",
       "      <td>0.0</td>\n",
       "    </tr>\n",
       "    <tr>\n",
       "      <th>ISIC_0034320</th>\n",
       "      <td>2.068469e+03</td>\n",
       "      <td>0.144694</td>\n",
       "      <td>72.755508</td>\n",
       "      <td>73.258659</td>\n",
       "      <td>87.098869</td>\n",
       "      <td>0.0</td>\n",
       "    </tr>\n",
       "  </tbody>\n",
       "</table>\n",
       "<p>16140 rows × 6 columns</p>\n",
       "</div>"
      ],
      "text/plain": [
       "                  symmetry    border         red       green        blue  \\\n",
       "ISIC_0000000  3.060597e+03  0.090472  169.260056   83.258881  109.840569   \n",
       "ISIC_0000001  8.297035e+02  0.133258  167.868790  197.507538  206.749573   \n",
       "ISIC_0000002  2.161214e+03  0.044267   73.881050   76.923767  137.701797   \n",
       "ISIC_0000003  3.889772e+03  0.087672  121.118683  127.288406  149.990173   \n",
       "ISIC_0000004  2.748019e+03  0.294333  318.564331  318.579376  319.799255   \n",
       "ISIC_0000005  3.865132e+03  0.039265   91.929420   99.219696  110.995247   \n",
       "ISIC_0000006  2.392168e+03  0.054350  100.248177  133.984207  162.575378   \n",
       "ISIC_0000007  2.155053e+03  0.072146  104.805283  134.082352  157.786072   \n",
       "ISIC_0000009  3.259229e+03  0.051923   85.616745   94.998863  122.118164   \n",
       "ISIC_0000010  2.417131e+03  0.076539  152.956070  170.335907  192.547516   \n",
       "ISIC_0000011  2.549819e+03  0.046889   78.744705   87.103630  109.957527   \n",
       "ISIC_0000012  1.832492e+03  0.087835  108.794968  119.235512  155.538681   \n",
       "ISIC_0000013  1.774565e+03  0.235008  116.183357  129.103653  156.583420   \n",
       "ISIC_0000014  2.059018e+03  0.031310   84.376183  129.560760  162.072083   \n",
       "ISIC_0000015  1.123796e+03  0.048335   82.150230  113.199425  139.176636   \n",
       "ISIC_0000016  2.426388e+03  0.150629  379.025818  166.817917  225.914734   \n",
       "ISIC_0000017  2.105316e+03  0.077674  144.162277  170.564560  197.909866   \n",
       "ISIC_0000018  2.514278e+03  0.044532  133.494461  137.320358  180.475418   \n",
       "ISIC_0000019  2.262660e+03  0.074743  111.150963  124.883484  166.380142   \n",
       "ISIC_0000020  2.856149e+03  0.080286  118.087471  130.545044  155.455688   \n",
       "ISIC_0000022  2.522841e+03  0.031718  106.242271  120.715614  146.675613   \n",
       "ISIC_0000023  2.454611e+03  0.047750  144.272858  158.567352  215.745346   \n",
       "ISIC_0000024  3.251506e+03  0.022163  139.269073  160.199966  233.919098   \n",
       "ISIC_0000025  4.797401e+03  0.042519  119.022659  131.361481  194.114746   \n",
       "ISIC_0000026  1.982007e+03  0.022294  130.059235  135.206299  206.989899   \n",
       "ISIC_0000027  1.116717e+03  0.039267  159.392944  172.268265  195.896484   \n",
       "ISIC_0000028  1.814217e+03  0.111702  139.457260  137.128815  164.373138   \n",
       "ISIC_0000029  1.216645e+03  0.223836   98.471504  104.490143  142.688538   \n",
       "ISIC_0000031  5.684138e+03  0.094028   67.066460   72.920425   95.672974   \n",
       "ISIC_0000033  2.640159e+06  0.022995  104.896782  149.033646  275.812195   \n",
       "...                    ...       ...         ...         ...         ...   \n",
       "ISIC_0034270  3.521078e+03  0.074500  120.027542  116.284004  128.498581   \n",
       "ISIC_0034271  1.926634e+03  0.055074  125.576851  117.145126  156.681320   \n",
       "ISIC_0034272  3.377567e+03  0.108645  151.529251  149.263702  182.547455   \n",
       "ISIC_0034273  3.697046e+03  0.068634  109.500587   98.515343  117.584587   \n",
       "ISIC_0034275  2.276971e+04  0.191811   54.459480   61.193169   76.089424   \n",
       "ISIC_0034278  3.219051e+03  0.088318   84.430412   83.512222  127.822861   \n",
       "ISIC_0034279  2.438441e+05  0.115423  103.137756  109.822678  147.857254   \n",
       "ISIC_0034282  1.872519e+03  0.093480  125.079590  117.857010  138.046036   \n",
       "ISIC_0034285  3.326609e+03  0.098955   95.944397  103.953575  136.133591   \n",
       "ISIC_0034286  3.944896e+03  0.123216   61.520687   69.517242   73.087296   \n",
       "ISIC_0034288  3.798990e+03  0.093742   97.330338   99.754837  116.589348   \n",
       "ISIC_0034290  8.923314e+02  0.157193   71.864197   70.761131   99.331184   \n",
       "ISIC_0034292  1.982601e+03  0.047720  106.732979  115.047882  140.237030   \n",
       "ISIC_0034293  1.556216e+03  0.081987   91.501846   88.916481  106.648254   \n",
       "ISIC_0034294  2.105200e+03  0.124144   56.369438   63.968861   86.040764   \n",
       "ISIC_0034295  7.109106e+02  0.269237  104.124771  117.196976  147.894394   \n",
       "ISIC_0034297  2.219520e+03  0.099606  127.302238  137.393692  170.775162   \n",
       "ISIC_0034298  2.477049e+03  0.108559  123.652901  115.030060  139.645889   \n",
       "ISIC_0034300  1.864778e+03  0.046857   94.762947   98.938919  122.465881   \n",
       "ISIC_0034304  1.648440e+03  0.055358  112.599663  110.569153  142.121552   \n",
       "ISIC_0034305  1.795965e+03  0.082360  139.440598  153.033096  190.214142   \n",
       "ISIC_0034308  2.500197e+03  0.238403  143.844940  147.877106  169.602280   \n",
       "ISIC_0034309  2.249340e+03  0.033650   95.636002   97.820000  147.625641   \n",
       "ISIC_0034310  3.948245e+03  0.058904   87.388290   96.565002  120.000633   \n",
       "ISIC_0034311  2.070745e+03  0.058138   81.510063  101.019073  114.180153   \n",
       "ISIC_0034313  2.020491e+03  0.060372   72.516830   71.393913  127.595383   \n",
       "ISIC_0034316  3.204869e+03  0.105328   78.760147   84.631844  100.981033   \n",
       "ISIC_0034317  2.304436e+03  0.193900  150.892776  153.486801  160.760468   \n",
       "ISIC_0034319  1.094901e+03  0.124071  104.027901  117.961639  120.760864   \n",
       "ISIC_0034320  2.068469e+03  0.144694   72.755508   73.258659   87.098869   \n",
       "\n",
       "              malig_benign  \n",
       "ISIC_0000000           0.0  \n",
       "ISIC_0000001           0.0  \n",
       "ISIC_0000002           1.0  \n",
       "ISIC_0000003           0.0  \n",
       "ISIC_0000004           1.0  \n",
       "ISIC_0000005           0.0  \n",
       "ISIC_0000006           0.0  \n",
       "ISIC_0000007           0.0  \n",
       "ISIC_0000009           0.0  \n",
       "ISIC_0000010           0.0  \n",
       "ISIC_0000011           0.0  \n",
       "ISIC_0000012           0.0  \n",
       "ISIC_0000013           1.0  \n",
       "ISIC_0000014           0.0  \n",
       "ISIC_0000015           0.0  \n",
       "ISIC_0000016           0.0  \n",
       "ISIC_0000017           0.0  \n",
       "ISIC_0000018           0.0  \n",
       "ISIC_0000019           0.0  \n",
       "ISIC_0000020           0.0  \n",
       "ISIC_0000022           1.0  \n",
       "ISIC_0000023           0.0  \n",
       "ISIC_0000024           0.0  \n",
       "ISIC_0000025           0.0  \n",
       "ISIC_0000026           1.0  \n",
       "ISIC_0000027           0.0  \n",
       "ISIC_0000028           0.0  \n",
       "ISIC_0000029           1.0  \n",
       "ISIC_0000031           1.0  \n",
       "ISIC_0000033           0.0  \n",
       "...                    ...  \n",
       "ISIC_0034270           0.0  \n",
       "ISIC_0034271           0.0  \n",
       "ISIC_0034272           0.0  \n",
       "ISIC_0034273           0.0  \n",
       "ISIC_0034275           1.0  \n",
       "ISIC_0034278           0.0  \n",
       "ISIC_0034279           0.0  \n",
       "ISIC_0034282           0.0  \n",
       "ISIC_0034285           0.0  \n",
       "ISIC_0034286           0.0  \n",
       "ISIC_0034288           0.0  \n",
       "ISIC_0034290           0.0  \n",
       "ISIC_0034292           0.0  \n",
       "ISIC_0034293           0.0  \n",
       "ISIC_0034294           1.0  \n",
       "ISIC_0034295           0.0  \n",
       "ISIC_0034297           0.0  \n",
       "ISIC_0034298           0.0  \n",
       "ISIC_0034300           0.0  \n",
       "ISIC_0034304           0.0  \n",
       "ISIC_0034305           0.0  \n",
       "ISIC_0034308           0.0  \n",
       "ISIC_0034309           0.0  \n",
       "ISIC_0034310           0.0  \n",
       "ISIC_0034311           0.0  \n",
       "ISIC_0034313           1.0  \n",
       "ISIC_0034316           1.0  \n",
       "ISIC_0034317           1.0  \n",
       "ISIC_0034319           0.0  \n",
       "ISIC_0034320           0.0  \n",
       "\n",
       "[16140 rows x 6 columns]"
      ]
     },
     "execution_count": 13,
     "metadata": {},
     "output_type": "execute_result"
    }
   ],
   "source": [
    "new_df"
   ]
  },
  {
   "cell_type": "code",
   "execution_count": 14,
   "metadata": {},
   "outputs": [],
   "source": [
    "ben=new_df[new_df['malig_benign']==0]\n",
    "mal=new_df[new_df['malig_benign']==1]"
   ]
  },
  {
   "cell_type": "code",
   "execution_count": 15,
   "metadata": {},
   "outputs": [
    {
     "data": {
      "text/html": [
       "<div>\n",
       "<style scoped>\n",
       "    .dataframe tbody tr th:only-of-type {\n",
       "        vertical-align: middle;\n",
       "    }\n",
       "\n",
       "    .dataframe tbody tr th {\n",
       "        vertical-align: top;\n",
       "    }\n",
       "\n",
       "    .dataframe thead th {\n",
       "        text-align: right;\n",
       "    }\n",
       "</style>\n",
       "<table border=\"1\" class=\"dataframe\">\n",
       "  <thead>\n",
       "    <tr style=\"text-align: right;\">\n",
       "      <th></th>\n",
       "      <th>symmetry</th>\n",
       "      <th>border</th>\n",
       "      <th>red</th>\n",
       "      <th>green</th>\n",
       "      <th>blue</th>\n",
       "      <th>malig_benign</th>\n",
       "    </tr>\n",
       "  </thead>\n",
       "  <tbody>\n",
       "    <tr>\n",
       "      <th>count</th>\n",
       "      <td>1.424800e+04</td>\n",
       "      <td>14248.000000</td>\n",
       "      <td>14248.000000</td>\n",
       "      <td>14248.000000</td>\n",
       "      <td>14248.000000</td>\n",
       "      <td>14248.0</td>\n",
       "    </tr>\n",
       "    <tr>\n",
       "      <th>mean</th>\n",
       "      <td>1.991323e+05</td>\n",
       "      <td>0.088156</td>\n",
       "      <td>127.815680</td>\n",
       "      <td>146.036482</td>\n",
       "      <td>161.924805</td>\n",
       "      <td>0.0</td>\n",
       "    </tr>\n",
       "    <tr>\n",
       "      <th>std</th>\n",
       "      <td>1.492189e+06</td>\n",
       "      <td>0.078164</td>\n",
       "      <td>36.531920</td>\n",
       "      <td>41.969562</td>\n",
       "      <td>47.059918</td>\n",
       "      <td>0.0</td>\n",
       "    </tr>\n",
       "    <tr>\n",
       "      <th>min</th>\n",
       "      <td>1.734601e+02</td>\n",
       "      <td>0.004264</td>\n",
       "      <td>20.928068</td>\n",
       "      <td>27.456913</td>\n",
       "      <td>25.945187</td>\n",
       "      <td>0.0</td>\n",
       "    </tr>\n",
       "    <tr>\n",
       "      <th>25%</th>\n",
       "      <td>1.714072e+03</td>\n",
       "      <td>0.041735</td>\n",
       "      <td>101.889553</td>\n",
       "      <td>115.268259</td>\n",
       "      <td>133.011765</td>\n",
       "      <td>0.0</td>\n",
       "    </tr>\n",
       "    <tr>\n",
       "      <th>50%</th>\n",
       "      <td>2.721307e+03</td>\n",
       "      <td>0.061824</td>\n",
       "      <td>127.663589</td>\n",
       "      <td>146.682304</td>\n",
       "      <td>158.748253</td>\n",
       "      <td>0.0</td>\n",
       "    </tr>\n",
       "    <tr>\n",
       "      <th>75%</th>\n",
       "      <td>5.314435e+03</td>\n",
       "      <td>0.103022</td>\n",
       "      <td>151.926685</td>\n",
       "      <td>176.281803</td>\n",
       "      <td>185.978828</td>\n",
       "      <td>0.0</td>\n",
       "    </tr>\n",
       "    <tr>\n",
       "      <th>max</th>\n",
       "      <td>6.309134e+07</td>\n",
       "      <td>0.661101</td>\n",
       "      <td>402.554535</td>\n",
       "      <td>310.986664</td>\n",
       "      <td>605.751892</td>\n",
       "      <td>0.0</td>\n",
       "    </tr>\n",
       "  </tbody>\n",
       "</table>\n",
       "</div>"
      ],
      "text/plain": [
       "           symmetry        border           red         green          blue  \\\n",
       "count  1.424800e+04  14248.000000  14248.000000  14248.000000  14248.000000   \n",
       "mean   1.991323e+05      0.088156    127.815680    146.036482    161.924805   \n",
       "std    1.492189e+06      0.078164     36.531920     41.969562     47.059918   \n",
       "min    1.734601e+02      0.004264     20.928068     27.456913     25.945187   \n",
       "25%    1.714072e+03      0.041735    101.889553    115.268259    133.011765   \n",
       "50%    2.721307e+03      0.061824    127.663589    146.682304    158.748253   \n",
       "75%    5.314435e+03      0.103022    151.926685    176.281803    185.978828   \n",
       "max    6.309134e+07      0.661101    402.554535    310.986664    605.751892   \n",
       "\n",
       "       malig_benign  \n",
       "count       14248.0  \n",
       "mean            0.0  \n",
       "std             0.0  \n",
       "min             0.0  \n",
       "25%             0.0  \n",
       "50%             0.0  \n",
       "75%             0.0  \n",
       "max             0.0  "
      ]
     },
     "execution_count": 15,
     "metadata": {},
     "output_type": "execute_result"
    }
   ],
   "source": [
    "ben.describe()"
   ]
  },
  {
   "cell_type": "code",
   "execution_count": 16,
   "metadata": {},
   "outputs": [],
   "source": [
    "def ecdf(data):\n",
    "    \"\"\"Compute ECDF for a one-dimensional array of measurements.\"\"\"\n",
    "    # Number of data points: n\n",
    "    n = len(data)\n",
    "\n",
    "    # x-data for the ECDF: x\n",
    "    x = np.sort(data)\n",
    "\n",
    "    # y-data for the ECDF: y\n",
    "    y = np.arange(1, n+1) / n\n",
    "\n",
    "    return x, y"
   ]
  },
  {
   "cell_type": "code",
   "execution_count": 17,
   "metadata": {},
   "outputs": [],
   "source": [
    "import matplotlib.pyplot as plt\n",
    "def ecdf_easy(df,column):\n",
    "    _mean=np.mean(df[column])\n",
    "    _std=np.std(df[column])\n",
    "    _size=round(len(df[column])*0.2)\n",
    "    samples=np.random.normal(_mean,_std,size=_size)\n",
    "    \n",
    "    x_,y_=ecdf(df[column])\n",
    "    x_norm,y_norm=ecdf(samples)\n",
    "    \n",
    "    return x_norm, y_norm\n",
    "    #plt.plot(x_norm,y_norm)\n",
    "    #plt.plot(x_,y_, marker='.',linestyle='none')"
   ]
  },
  {
   "cell_type": "code",
   "execution_count": 18,
   "metadata": {},
   "outputs": [
    {
     "data": {
      "image/png": "[encoded data removed]",
      "text/plain": [
       "<Figure size 432x288 with 1 Axes>"
      ]
     },
     "metadata": {
      "needs_background": "light"
     },
     "output_type": "display_data"
    },
    {
     "data": {
      "image/png": "[encoded data removed]",
      "text/plain": [
       "<Figure size 432x288 with 1 Axes>"
      ]
     },
     "metadata": {
      "needs_background": "light"
     },
     "output_type": "display_data"
    },
    {
     "data": {
      "image/png": "[encoded data removed]",
      "text/plain": [
       "<Figure size 432x288 with 1 Axes>"
      ]
     },
     "metadata": {
      "needs_background": "light"
     },
     "output_type": "display_data"
    },
    {
     "data": {
      "image/png": "[encoded data removed]",
      "text/plain": [
       "<Figure size 432x288 with 1 Axes>"
      ]
     },
     "metadata": {
      "needs_background": "light"
     },
     "output_type": "display_data"
    },
    {
     "data": {
      "image/png": "[encoded data removed]",
      "text/plain": [
       "<Figure size 432x288 with 1 Axes>"
      ]
     },
     "metadata": {
      "needs_background": "light"
     },
     "output_type": "display_data"
    }
   ],
   "source": [
    "for feature in ['symmetry','blue','red','green','border']:\n",
    "    xmal,ymal=ecdf_easy(mal,feature)\n",
    "    xben,yben=ecdf_easy(ben,feature)\n",
    "    plt.figure()\n",
    "    plt.plot(xben,yben, label='benign')\n",
    "    plt.plot(xmal,ymal, label='malignant')\n",
    "    plt.title(feature)\n",
    "    plt.legend()"
   ]
  },
  {
   "cell_type": "code",
   "execution_count": 19,
   "metadata": {},
   "outputs": [
    {
     "data": {
      "image/png": "[encoded data removed]",
      "text/plain": [
       "<Figure size 432x288 with 1 Axes>"
      ]
     },
     "metadata": {
      "needs_background": "light"
     },
     "output_type": "display_data"
    },
    {
     "data": {
      "image/png": "[encoded data removed]",
      "text/plain": [
       "<Figure size 432x288 with 1 Axes>"
      ]
     },
     "metadata": {
      "needs_background": "light"
     },
     "output_type": "display_data"
    },
    {
     "data": {
      "image/png": "[encoded data removed]",
      "text/plain": [
       "<Figure size 432x288 with 1 Axes>"
      ]
     },
     "metadata": {
      "needs_background": "light"
     },
     "output_type": "display_data"
    },
    {
     "data": {
      "image/png": "[encoded data removed]",
      "text/plain": [
       "<Figure size 432x288 with 1 Axes>"
      ]
     },
     "metadata": {
      "needs_background": "light"
     },
     "output_type": "display_data"
    },
    {
     "data": {
      "image/png": "[encoded data removed]",
      "text/plain": [
       "<Figure size 432x288 with 1 Axes>"
      ]
     },
     "metadata": {
      "needs_background": "light"
     },
     "output_type": "display_data"
    }
   ],
   "source": [
    "malig_blue=mal.hist('blue')\n",
    "malig_red=mal.hist('red')\n",
    "malig_green=mal.hist('green')\n",
    "malig_sym=mal.hist('symmetry')\n",
    "malig_bor=mal.hist('border')"
   ]
  },
  {
   "cell_type": "code",
   "execution_count": 20,
   "metadata": {},
   "outputs": [
    {
     "data": {
      "image/png": "[encoded data removed]",
      "text/plain": [
       "<Figure size 432x288 with 1 Axes>"
      ]
     },
     "metadata": {
      "needs_background": "light"
     },
     "output_type": "display_data"
    },
    {
     "data": {
      "image/png": "[encoded data removed]",
      "text/plain": [
       "<Figure size 432x288 with 1 Axes>"
      ]
     },
     "metadata": {
      "needs_background": "light"
     },
     "output_type": "display_data"
    },
    {
     "data": {
      "image/png": "[encoded data removed]",
      "text/plain": [
       "<Figure size 432x288 with 1 Axes>"
      ]
     },
     "metadata": {
      "needs_background": "light"
     },
     "output_type": "display_data"
    },
    {
     "data": {
      "image/png": "[encoded data removed]",
      "text/plain": [
       "<Figure size 432x288 with 1 Axes>"
      ]
     },
     "metadata": {
      "needs_background": "light"
     },
     "output_type": "display_data"
    },
    {
     "data": {
      "image/png": "[encoded data removed]",
      "text/plain": [
       "<Figure size 432x288 with 1 Axes>"
      ]
     },
     "metadata": {
      "needs_background": "light"
     },
     "output_type": "display_data"
    }
   ],
   "source": [
    "ben_blue=ben.hist('blue')\n",
    "ben_red=ben.hist('red')\n",
    "ben_green=ben.hist('green')\n",
    "ben_sym=ben.hist('symmetry')\n",
    "ben_bor=ben.hist('border')\n"
   ]
  },
  {
   "cell_type": "code",
   "execution_count": 21,
   "metadata": {},
   "outputs": [],
   "source": [
    "from scipy import stats\n",
    "\n",
    "def check_if_significant(data1,data2,alpha=0.01):\n",
    "    p_val=stats.ttest_ind(data1,data2)[1]\n",
    "    if p_val < alpha:\n",
    "        print('significant ', p_val)\n",
    "    else:\n",
    "        print('insignificant ', p_val)"
   ]
  },
  {
   "cell_type": "code",
   "execution_count": 22,
   "metadata": {},
   "outputs": [],
   "source": [
    "def check_every_element(element):\n",
    "    return check_if_significant(mal[element],ben[element])"
   ]
  },
  {
   "cell_type": "code",
   "execution_count": 23,
   "metadata": {},
   "outputs": [
    {
     "name": "stdout",
     "output_type": "stream",
     "text": [
      "symmetry\n",
      "significant  5.991042459216647e-15\n",
      "border\n",
      "insignificant  0.24626806055712488\n",
      "red\n",
      "significant  6.699422678812652e-298\n",
      "green\n",
      "significant  0.0\n",
      "blue\n",
      "significant  1.267180515574567e-111\n"
     ]
    }
   ],
   "source": [
    "for name in ['symmetry','border','red','green','blue']:\n",
    "    print(name)\n",
    "    check_every_element(name)"
   ]
  },
  {
   "cell_type": "code",
   "execution_count": 24,
   "metadata": {},
   "outputs": [],
   "source": [
    "from sklearn.model_selection import train_test_split, GridSearchCV\n",
    "features = new_df.drop('malig_benign',axis=1)\n",
    "labels = new_df['malig_benign']"
   ]
  },
  {
   "cell_type": "code",
   "execution_count": 25,
   "metadata": {},
   "outputs": [
    {
     "data": {
      "text/plain": [
       "['symmetry', 'border', 'red', 'green', 'blue']"
      ]
     },
     "execution_count": 25,
     "metadata": {},
     "output_type": "execute_result"
    }
   ],
   "source": [
    "feature_list=list(features.columns)\n",
    "feature_list"
   ]
  },
  {
   "cell_type": "code",
   "execution_count": 26,
   "metadata": {},
   "outputs": [],
   "source": [
    "import numpy as np\n",
    "features=np.array(features)"
   ]
  },
  {
   "cell_type": "code",
   "execution_count": 27,
   "metadata": {},
   "outputs": [],
   "source": [
    "train_features, test_features, train_labels, test_labels = train_test_split(\n",
    "                                                                    features,\n",
    "                                                                    labels,\n",
    "                                                                    test_size = 0.25,\n",
    "                                                                    random_state=42)"
   ]
  },
  {
   "cell_type": "code",
   "execution_count": 28,
   "metadata": {},
   "outputs": [
    {
     "name": "stdout",
     "output_type": "stream",
     "text": [
      "Training Features Shape: (12105, 5)\n",
      "Training Labels Shape: (12105,)\n",
      "Testing Features Shape: (4035, 5)\n",
      "Testing Labels Shape: (4035,)\n"
     ]
    }
   ],
   "source": [
    "print('Training Features Shape:', train_features.shape)\n",
    "print('Training Labels Shape:', train_labels.shape)\n",
    "print('Testing Features Shape:', test_features.shape)\n",
    "print('Testing Labels Shape:', test_labels.shape)"
   ]
  },
  {
   "cell_type": "code",
   "execution_count": 29,
   "metadata": {},
   "outputs": [],
   "source": [
    "from sklearn.ensemble import RandomForestClassifier\n",
    "from sklearn.linear_model import LogisticRegression\n",
    "from sklearn.preprocessing import OneHotEncoder\n",
    "# number of leaves and dept sensitive\n",
    "#clf_forest=RandomForestClassifier(n_estimators=100,random_state=42)\n",
    "clf_forest=RandomForestClassifier(bootstrap=True, class_weight='balanced',\n",
    " \n",
    "criterion='gini', max_depth=9, max_features=0.6,\n",
    " \n",
    "max_leaf_nodes=None, min_impurity_decrease=0.0,\n",
    " \n",
    "min_impurity_split=None, min_samples_leaf=1,\n",
    " \n",
    "min_samples_split=2, min_weight_fraction_leaf=0.0,\n",
    " \n",
    "n_estimators=500, n_jobs=-1, oob_score=False, random_state=0,\n",
    " \n",
    "verbose=0, warm_start=False)\n",
    "clf_forest_enc=OneHotEncoder(categories='auto')\n",
    "clf_forest_lm=LogisticRegression(solver='lbfgs',max_iter=1000)"
   ]
  },
  {
   "cell_type": "code",
   "execution_count": 30,
   "metadata": {},
   "outputs": [
    {
     "data": {
      "text/plain": [
       "RandomForestClassifier(bootstrap=True, class_weight='balanced',\n",
       "                       criterion='gini', max_depth=9, max_features=0.6,\n",
       "                       max_leaf_nodes=None, min_impurity_decrease=0.0,\n",
       "                       min_impurity_split=None, min_samples_leaf=1,\n",
       "                       min_samples_split=2, min_weight_fraction_leaf=0.0,\n",
       "                       n_estimators=500, n_jobs=-1, oob_score=False,\n",
       "                       random_state=0, verbose=0, warm_start=False)"
      ]
     },
     "execution_count": 30,
     "metadata": {},
     "output_type": "execute_result"
    }
   ],
   "source": [
    "clf_forest.fit(train_features,train_labels)"
   ]
  },
  {
   "cell_type": "code",
   "execution_count": 31,
   "metadata": {},
   "outputs": [
    {
     "data": {
      "text/plain": [
       "OneHotEncoder(categorical_features=None, categories='auto', drop=None,\n",
       "              dtype=<class 'numpy.float64'>, handle_unknown='error',\n",
       "              n_values=None, sparse=True)"
      ]
     },
     "execution_count": 31,
     "metadata": {},
     "output_type": "execute_result"
    }
   ],
   "source": [
    "clf_forest_enc.fit(clf_forest.apply(train_features))"
   ]
  },
  {
   "cell_type": "code",
   "execution_count": 32,
   "metadata": {},
   "outputs": [],
   "source": [
    "label_pred_forest=clf_forest.predict(test_features)"
   ]
  },
  {
   "cell_type": "code",
   "execution_count": 33,
   "metadata": {},
   "outputs": [],
   "source": [
    "from sklearn.tree import DecisionTreeClassifier\n",
    "clf_decision=DecisionTreeClassifier(random_state=42)"
   ]
  },
  {
   "cell_type": "code",
   "execution_count": 34,
   "metadata": {},
   "outputs": [
    {
     "data": {
      "text/plain": [
       "DecisionTreeClassifier(class_weight=None, criterion='gini', max_depth=None,\n",
       "                       max_features=None, max_leaf_nodes=None,\n",
       "                       min_impurity_decrease=0.0, min_impurity_split=None,\n",
       "                       min_samples_leaf=1, min_samples_split=2,\n",
       "                       min_weight_fraction_leaf=0.0, presort=False,\n",
       "                       random_state=42, splitter='best')"
      ]
     },
     "execution_count": 34,
     "metadata": {},
     "output_type": "execute_result"
    }
   ],
   "source": [
    "clf_decision.fit(train_features,train_labels)"
   ]
  },
  {
   "cell_type": "code",
   "execution_count": 35,
   "metadata": {},
   "outputs": [],
   "source": [
    "label_pred_decision=clf_decision.predict(test_features)"
   ]
  },
  {
   "cell_type": "code",
   "execution_count": 36,
   "metadata": {},
   "outputs": [],
   "source": [
    "import lightgbm as lgb\n",
    "d_train = lgb.Dataset(train_features, train_labels)\n",
    "params = {}\n",
    "params['learning_rate'] = 0.001\n",
    "params['boosting_type'] = 'gbdt'\n",
    "params['objective'] = 'binary'\n",
    "params['metric'] = 'binary_logloss'\n",
    "params['sub_feature'] = 0.5\n",
    "params['num_leaves'] = 100\n",
    "params['min_data'] = 20\n",
    "params['max_depth'] = 10\n",
    "clf_lgb = lgb.train(params, d_train, 10000)"
   ]
  },
  {
   "cell_type": "code",
   "execution_count": null,
   "metadata": {},
   "outputs": [],
   "source": [
    "from sklearn.metrics import roc_auc_score\n",
    "from sklearn.metrics import precision_score\n",
    "from sklearn.metrics import recall_score\n",
    "from sklearn.metrics import accuracy_score\n",
    "y_pred=clf_lgb.predict(test_features)\n",
    "max_recall=0\n",
    "thresh=0\n",
    "for i in range(0,len(test_features)):\n",
    "    if y_pred[i]>=0.2:       # setting threshold to .5\n",
    "        y_pred[i]=1\n",
    "    else:  \n",
    "        y_pred[i]=0    \n",
    "recall = recall_score(y_pred, test_labels)\n",
    "accuracy = accuracy_score(y_pred, test_labels)\n",
    "    #recall = accuracy_score(y_pred, test_labels)\n",
    "\n",
    "print(\"lightgbm Recall:\",recall_score(test_labels, y_pred) )\n",
    "print(\"lightgbm Accuracy:\",accuracy_score(test_labels, y_pred))\n",
    "print(\"lightgbm Precision:\",precision_score(test_labels, y_pred))\n",
    "print(\"lightgbm ROC AUC score:\",roc_auc_score(test_labels, y_pred))"
   ]
  },
  {
   "cell_type": "code",
   "execution_count": null,
   "metadata": {},
   "outputs": [],
   "source": [
    "pd.DataFrame(sorted(zip(clf_lgb.feature_importance(),feature_list)),columns=['Value','Feature'])"
   ]
  },
  {
   "cell_type": "code",
   "execution_count": null,
   "metadata": {},
   "outputs": [],
   "source": [
    "from sklearn import metrics\n",
    "print(\"Random forest Recall:\",metrics.recall_score(test_labels, label_pred_forest))\n",
    "print(\"Random forest Accuracy:\",metrics.accuracy_score(test_labels, label_pred_forest))\n",
    "print(\"Random forest precision:\",metrics.precision_score(test_labels, label_pred_forest))\n",
    "print(\"Random forest ROC AUC score:\",roc_auc_score(test_labels, label_pred_forest))\n",
    "\n",
    "print(\"Decision tree Recall:\",metrics.recall_score(test_labels, label_pred_decision))\n",
    "print(\"Decision tree Accuracy:\",metrics.accuracy_score(test_labels, label_pred_decision))\n",
    "print(\"Decision tree precision:\",metrics.precision_score(test_labels, label_pred_decision))\n",
    "print(\"Decision tree ROC AUC score:\",roc_auc_score(test_labels, label_pred_decision))"
   ]
  },
  {
   "cell_type": "code",
   "execution_count": null,
   "metadata": {},
   "outputs": [],
   "source": [
    "true_positive=0\n",
    "false_negative=0\n",
    "false_positive=0\n",
    "for i in range(len(test_labels)):\n",
    "    real=test_labels[i]\n",
    "    pred=y_pred[i]\n",
    "    if real!=pred:\n",
    "        if real>pred:\n",
    "            false_negative=false_negative+1\n",
    "        if real<pred:\n",
    "            false_positive=false_positive+1\n",
    "    else:\n",
    "        true_positive=true_positive+1\n",
    "print(true_positive, false_positive, false_negative)        "
   ]
  },
  {
   "cell_type": "code",
   "execution_count": null,
   "metadata": {},
   "outputs": [],
   "source": [
    "# ROC\n",
    "from sklearn import model_selection\n",
    "from sklearn.metrics import roc_curve, auc\n",
    "roc_train_all, roc_test_all, roc_train_all_class, roc_test_all_class = train_test_split(\n",
    "                                                                    features,\n",
    "                                                                    labels,\n",
    "                                                                    test_size = 0.25,\n",
    "                                                                    random_state=42)\n",
    "models = [\n",
    "\n",
    "    {\n",
    "        'label' : 'RandomForestClassifier_params',\n",
    "        'model': clf_forest,\n",
    "        'roc_train': roc_train_all,\n",
    "        'roc_test': roc_test_all,\n",
    "        'roc_train_class': roc_train_all_class,        \n",
    "        'roc_test_class': roc_test_all_class, \n",
    "    },\n",
    "    {\n",
    "        'label' : 'DecisionTreeClassifier_params',\n",
    "        'model': clf_decision,\n",
    "        'roc_train': roc_train_all,\n",
    "        'roc_test': roc_test_all,\n",
    "        'roc_train_class': roc_train_all_class,        \n",
    "        'roc_test_class': roc_test_all_class, \n",
    "    },\n",
    "        \n",
    "]\n",
    "\n",
    "import matplotlib.pyplot as plt\n",
    "plt.clf()\n",
    "plt.figure(figsize=(8,6))\n",
    "\n",
    "for m in models:\n",
    "    m['model'].probability = True\n",
    "    probas = m['model'].fit(m['roc_train'], m['roc_train_class']).predict_proba(m['roc_test'])\n",
    "    fpr, tpr, thresholds = roc_curve(m['roc_test_class'], probas[:, 1])\n",
    "    roc_auc  = auc(fpr, tpr)\n",
    "    plt.plot(fpr, tpr, label='%s ROC (area = %0.2f)' % (m['label'], roc_auc))\n",
    "\n",
    "\n",
    "\n",
    "plt.plot([0, 1], [0, 1], 'k--')\n",
    "plt.xlim([0.0, 1.0])\n",
    "plt.ylim([0.0, 1.0])\n",
    "plt.xlabel('False Positive Rate')\n",
    "plt.ylabel('True Positive Rate')\n",
    "plt.legend(loc=0, fontsize='small')\n",
    "plt.show()"
   ]
  },
  {
   "cell_type": "code",
   "execution_count": null,
   "metadata": {},
   "outputs": [],
   "source": [
    "feature_imp_forest = pd.Series(clf_forest.feature_importances_,index=feature_list).sort_values(ascending=False)\n",
    "feature_imp_forest"
   ]
  },
  {
   "cell_type": "code",
   "execution_count": null,
   "metadata": {},
   "outputs": [],
   "source": [
    "feature_imp_decision = pd.Series(clf_decision.feature_importances_,index=feature_list).sort_values(ascending=False)\n",
    "feature_imp_decision"
   ]
  },
  {
   "cell_type": "code",
   "execution_count": null,
   "metadata": {},
   "outputs": [],
   "source": []
  },
  {
   "cell_type": "code",
   "execution_count": null,
   "metadata": {},
   "outputs": [],
   "source": []
  },
  {
   "cell_type": "code",
   "execution_count": null,
   "metadata": {},
   "outputs": [],
   "source": []
  }
 ],
 "metadata": {
  "kernelspec": {
   "display_name": "Python 3",
   "language": "python",
   "name": "python3"
  },
  "language_info": {
   "codemirror_mode": {
    "name": "ipython",
    "version": 3
   },
   "file_extension": ".py",
   "mimetype": "text/x-python",
   "name": "python",
   "nbconvert_exporter": "python",
   "pygments_lexer": "ipython3",
   "version": "3.6.8"
  }
 },
 "nbformat": 4,
 "nbformat_minor": 2
}
