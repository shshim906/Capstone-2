{
 "cells": [
  {
   "cell_type": "code",
   "execution_count": 1,
   "metadata": {},
   "outputs": [],
   "source": [
    "import os\n",
    "import random\n",
    "import numpy as np\n",
    "import matplotlib.pyplot as plt\n",
    "import matplotlib.image as mpimg\n",
    "import cv2\n",
    "path='E:/ISIC DATA'\n",
    "trainingpath='E:/Training'"
   ]
  },
  {
   "cell_type": "code",
   "execution_count": 2,
   "metadata": {},
   "outputs": [],
   "source": [
    "filelist=os.listdir(path)\n",
    "meta=[file for file in filelist if not file.endswith(\".jpeg\") and not file.endswith(\".png\") and file.startswith(\"ISIC\")]\n",
    "pics=[file for file in filelist if (file.endswith(\".jpeg\") or file.endswith(\".png\")) and file.startswith(\"ISIC\")]"
   ]
  },
  {
   "cell_type": "code",
   "execution_count": 3,
   "metadata": {},
   "outputs": [
    {
     "data": {
      "text/plain": [
       "23906"
      ]
     },
     "execution_count": 3,
     "metadata": {},
     "output_type": "execute_result"
    }
   ],
   "source": [
    "len(meta)"
   ]
  },
  {
   "cell_type": "code",
   "execution_count": 4,
   "metadata": {},
   "outputs": [
    {
     "data": {
      "text/plain": [
       "23906"
      ]
     },
     "execution_count": 4,
     "metadata": {},
     "output_type": "execute_result"
    }
   ],
   "source": [
    "len(pics)"
   ]
  },
  {
   "cell_type": "code",
   "execution_count": 5,
   "metadata": {},
   "outputs": [
    {
     "data": {
      "text/plain": [
       "'ISIC_0000001'"
      ]
     },
     "execution_count": 5,
     "metadata": {},
     "output_type": "execute_result"
    }
   ],
   "source": [
    "meta[1]"
   ]
  },
  {
   "cell_type": "code",
   "execution_count": 6,
   "metadata": {},
   "outputs": [
    {
     "data": {
      "text/html": [
       "<div>\n",
       "<style scoped>\n",
       "    .dataframe tbody tr th:only-of-type {\n",
       "        vertical-align: middle;\n",
       "    }\n",
       "\n",
       "    .dataframe tbody tr th {\n",
       "        vertical-align: top;\n",
       "    }\n",
       "\n",
       "    .dataframe thead th {\n",
       "        text-align: right;\n",
       "    }\n",
       "</style>\n",
       "<table border=\"1\" class=\"dataframe\">\n",
       "  <thead>\n",
       "    <tr style=\"text-align: right;\">\n",
       "      <th></th>\n",
       "      <th>_id</th>\n",
       "      <th>_modelType</th>\n",
       "      <th>created</th>\n",
       "      <th>creator._id</th>\n",
       "      <th>creator.name</th>\n",
       "      <th>dataset._accessLevel</th>\n",
       "      <th>dataset._id</th>\n",
       "      <th>dataset.description</th>\n",
       "      <th>dataset.license</th>\n",
       "      <th>dataset.name</th>\n",
       "      <th>...</th>\n",
       "      <th>meta.unstructured.diagnosis</th>\n",
       "      <th>meta.unstructured.id1</th>\n",
       "      <th>meta.unstructured.localization</th>\n",
       "      <th>meta.unstructured.site</th>\n",
       "      <th>name</th>\n",
       "      <th>notes.reviewed.accepted</th>\n",
       "      <th>notes.reviewed.time</th>\n",
       "      <th>notes.reviewed.userId</th>\n",
       "      <th>notes.tags</th>\n",
       "      <th>updated</th>\n",
       "    </tr>\n",
       "  </thead>\n",
       "  <tbody>\n",
       "    <tr>\n",
       "      <th>0</th>\n",
       "      <td>5436e3abbae478396759f0cf</td>\n",
       "      <td>image</td>\n",
       "      <td>2014-10-09T19:36:11.989000+00:00</td>\n",
       "      <td>5450e996bae47865794e4d0d</td>\n",
       "      <td>User 6VSN</td>\n",
       "      <td>0</td>\n",
       "      <td>5a2ecc5e1165975c945942a2</td>\n",
       "      <td>Moles and melanomas.\\nBiopsy-confirmed melanoc...</td>\n",
       "      <td>CC-0</td>\n",
       "      <td>UDA-1</td>\n",
       "      <td>...</td>\n",
       "      <td>dysplastic nevus</td>\n",
       "      <td>1</td>\n",
       "      <td>Abdomen</td>\n",
       "      <td>bar</td>\n",
       "      <td>ISIC_0000000</td>\n",
       "      <td>True</td>\n",
       "      <td>2014-11-10T02:39:56.492000+00:00</td>\n",
       "      <td>5436c6e7bae4780a676c8f93</td>\n",
       "      <td>[ISBI 2016: Training, ISBI 2017: Training, Cha...</td>\n",
       "      <td>2015-02-23T02:48:17.495000+00:00</td>\n",
       "    </tr>\n",
       "  </tbody>\n",
       "</table>\n",
       "<p>1 rows × 31 columns</p>\n",
       "</div>"
      ],
      "text/plain": [
       "                        _id _modelType                           created  \\\n",
       "0  5436e3abbae478396759f0cf      image  2014-10-09T19:36:11.989000+00:00   \n",
       "\n",
       "                creator._id creator.name  dataset._accessLevel  \\\n",
       "0  5450e996bae47865794e4d0d    User 6VSN                     0   \n",
       "\n",
       "                dataset._id  \\\n",
       "0  5a2ecc5e1165975c945942a2   \n",
       "\n",
       "                                 dataset.description dataset.license  \\\n",
       "0  Moles and melanomas.\\nBiopsy-confirmed melanoc...            CC-0   \n",
       "\n",
       "  dataset.name                ...                meta.unstructured.diagnosis  \\\n",
       "0        UDA-1                ...                           dysplastic nevus   \n",
       "\n",
       "  meta.unstructured.id1  meta.unstructured.localization  \\\n",
       "0                     1                         Abdomen   \n",
       "\n",
       "   meta.unstructured.site          name notes.reviewed.accepted  \\\n",
       "0                     bar  ISIC_0000000                    True   \n",
       "\n",
       "                notes.reviewed.time     notes.reviewed.userId  \\\n",
       "0  2014-11-10T02:39:56.492000+00:00  5436c6e7bae4780a676c8f93   \n",
       "\n",
       "                                          notes.tags  \\\n",
       "0  [ISBI 2016: Training, ISBI 2017: Training, Cha...   \n",
       "\n",
       "                            updated  \n",
       "0  2015-02-23T02:48:17.495000+00:00  \n",
       "\n",
       "[1 rows x 31 columns]"
      ]
     },
     "execution_count": 6,
     "metadata": {},
     "output_type": "execute_result"
    }
   ],
   "source": [
    "#for file in meta:\n",
    "filename=path+'/'+meta[0]\n",
    "f=open(filename,\"rt\")\n",
    "data=json.load(f)\n",
    "df=json_normalize(data)\n",
    "df"
   ]
  },
  {
   "cell_type": "code",
   "execution_count": 7,
   "metadata": {},
   "outputs": [
    {
     "name": "stderr",
     "output_type": "stream",
     "text": [
      "C:\\Users\\shshi\\Anaconda3\\lib\\site-packages\\pandas\\core\\frame.py:6211: FutureWarning: Sorting because non-concatenation axis is not aligned. A future version\n",
      "of pandas will change to not sort by default.\n",
      "\n",
      "To accept the future behavior, pass 'sort=False'.\n",
      "\n",
      "To retain the current behavior and silence the warning, pass 'sort=True'.\n",
      "\n",
      "  sort=sort)\n"
     ]
    }
   ],
   "source": [
    "import json\n",
    "from pandas.io.json import json_normalize\n",
    "import pandas as pd\n",
    "for file in meta:\n",
    "    filename=path+'/'+file\n",
    "    f=open(filename,\"rt\")\n",
    "    data=json.load(f)\n",
    "    if \"df\" not in locals():\n",
    "        df=json_normalize(data)\n",
    "    else:\n",
    "        df1=json_normalize(data)\n",
    "        df=df.append(df1,ignore_index=True)"
   ]
  },
  {
   "cell_type": "code",
   "execution_count": 8,
   "metadata": {},
   "outputs": [
    {
     "data": {
      "text/html": [
       "<div>\n",
       "<style scoped>\n",
       "    .dataframe tbody tr th:only-of-type {\n",
       "        vertical-align: middle;\n",
       "    }\n",
       "\n",
       "    .dataframe tbody tr th {\n",
       "        vertical-align: top;\n",
       "    }\n",
       "\n",
       "    .dataframe thead th {\n",
       "        text-align: right;\n",
       "    }\n",
       "</style>\n",
       "<table border=\"1\" class=\"dataframe\">\n",
       "  <thead>\n",
       "    <tr style=\"text-align: right;\">\n",
       "      <th></th>\n",
       "      <th>_id</th>\n",
       "      <th>_modelType</th>\n",
       "      <th>created</th>\n",
       "      <th>creator._id</th>\n",
       "      <th>creator.name</th>\n",
       "      <th>dataset._accessLevel</th>\n",
       "      <th>dataset._id</th>\n",
       "      <th>dataset.description</th>\n",
       "      <th>dataset.license</th>\n",
       "      <th>dataset.name</th>\n",
       "      <th>...</th>\n",
       "      <th>meta.unstructured.race</th>\n",
       "      <th>meta.unstructured.site</th>\n",
       "      <th>meta.unstructured.ulcer</th>\n",
       "      <th>meta.unstructured.vertical</th>\n",
       "      <th>name</th>\n",
       "      <th>notes.reviewed.accepted</th>\n",
       "      <th>notes.reviewed.time</th>\n",
       "      <th>notes.reviewed.userId</th>\n",
       "      <th>notes.tags</th>\n",
       "      <th>updated</th>\n",
       "    </tr>\n",
       "  </thead>\n",
       "  <tbody>\n",
       "    <tr>\n",
       "      <th>0</th>\n",
       "      <td>5436e3abbae478396759f0cf</td>\n",
       "      <td>image</td>\n",
       "      <td>2014-10-09T19:36:11.989000+00:00</td>\n",
       "      <td>5450e996bae47865794e4d0d</td>\n",
       "      <td>User 6VSN</td>\n",
       "      <td>0</td>\n",
       "      <td>5a2ecc5e1165975c945942a2</td>\n",
       "      <td>Moles and melanomas.\\nBiopsy-confirmed melanoc...</td>\n",
       "      <td>CC-0</td>\n",
       "      <td>UDA-1</td>\n",
       "      <td>...</td>\n",
       "      <td>NaN</td>\n",
       "      <td>bar</td>\n",
       "      <td>NaN</td>\n",
       "      <td>NaN</td>\n",
       "      <td>ISIC_0000000</td>\n",
       "      <td>True</td>\n",
       "      <td>2014-11-10T02:39:56.492000+00:00</td>\n",
       "      <td>5436c6e7bae4780a676c8f93</td>\n",
       "      <td>[ISBI 2016: Training, ISBI 2017: Training, Cha...</td>\n",
       "      <td>2015-02-23T02:48:17.495000+00:00</td>\n",
       "    </tr>\n",
       "    <tr>\n",
       "      <th>1</th>\n",
       "      <td>5436e3acbae478396759f0d1</td>\n",
       "      <td>image</td>\n",
       "      <td>2014-10-09T19:36:12.070000+00:00</td>\n",
       "      <td>5450e996bae47865794e4d0d</td>\n",
       "      <td>User 6VSN</td>\n",
       "      <td>0</td>\n",
       "      <td>5a2ecc5e1165975c945942a2</td>\n",
       "      <td>Moles and melanomas.\\nBiopsy-confirmed melanoc...</td>\n",
       "      <td>CC-0</td>\n",
       "      <td>UDA-1</td>\n",
       "      <td>...</td>\n",
       "      <td>NaN</td>\n",
       "      <td>bar</td>\n",
       "      <td>NaN</td>\n",
       "      <td>NaN</td>\n",
       "      <td>ISIC_0000001</td>\n",
       "      <td>True</td>\n",
       "      <td>2014-11-10T02:39:56.492000+00:00</td>\n",
       "      <td>5436c6e7bae4780a676c8f93</td>\n",
       "      <td>[ISBI 2016: Training, ISBI 2017: Training, Cha...</td>\n",
       "      <td>2015-02-23T02:48:27.455000+00:00</td>\n",
       "    </tr>\n",
       "    <tr>\n",
       "      <th>2</th>\n",
       "      <td>5436e3acbae478396759f0d3</td>\n",
       "      <td>image</td>\n",
       "      <td>2014-10-09T19:36:12.152000+00:00</td>\n",
       "      <td>5450e996bae47865794e4d0d</td>\n",
       "      <td>User 6VSN</td>\n",
       "      <td>0</td>\n",
       "      <td>5a2ecc5e1165975c945942a2</td>\n",
       "      <td>Moles and melanomas.\\nBiopsy-confirmed melanoc...</td>\n",
       "      <td>CC-0</td>\n",
       "      <td>UDA-1</td>\n",
       "      <td>...</td>\n",
       "      <td>NaN</td>\n",
       "      <td>bar</td>\n",
       "      <td>NaN</td>\n",
       "      <td>NaN</td>\n",
       "      <td>ISIC_0000002</td>\n",
       "      <td>True</td>\n",
       "      <td>2014-11-10T02:39:56.492000+00:00</td>\n",
       "      <td>5436c6e7bae4780a676c8f93</td>\n",
       "      <td>[ISBI 2016: Training, ISBI 2017: Training]</td>\n",
       "      <td>2015-02-23T02:48:37.249000+00:00</td>\n",
       "    </tr>\n",
       "    <tr>\n",
       "      <th>3</th>\n",
       "      <td>5436e3acbae478396759f0d5</td>\n",
       "      <td>image</td>\n",
       "      <td>2014-10-09T19:36:12.233000+00:00</td>\n",
       "      <td>5450e996bae47865794e4d0d</td>\n",
       "      <td>User 6VSN</td>\n",
       "      <td>0</td>\n",
       "      <td>5a2ecc5e1165975c945942a2</td>\n",
       "      <td>Moles and melanomas.\\nBiopsy-confirmed melanoc...</td>\n",
       "      <td>CC-0</td>\n",
       "      <td>UDA-1</td>\n",
       "      <td>...</td>\n",
       "      <td>NaN</td>\n",
       "      <td>bar</td>\n",
       "      <td>NaN</td>\n",
       "      <td>NaN</td>\n",
       "      <td>ISIC_0000003</td>\n",
       "      <td>True</td>\n",
       "      <td>2014-11-10T02:39:56.492000+00:00</td>\n",
       "      <td>5436c6e7bae4780a676c8f93</td>\n",
       "      <td>[ISBI 2016: Test, ISBI 2017: Training, Challen...</td>\n",
       "      <td>2015-02-23T02:48:46.021000+00:00</td>\n",
       "    </tr>\n",
       "    <tr>\n",
       "      <th>4</th>\n",
       "      <td>5436e3acbae478396759f0d7</td>\n",
       "      <td>image</td>\n",
       "      <td>2014-10-09T19:36:12.315000+00:00</td>\n",
       "      <td>5450e996bae47865794e4d0d</td>\n",
       "      <td>User 6VSN</td>\n",
       "      <td>0</td>\n",
       "      <td>5a2ecc5e1165975c945942a2</td>\n",
       "      <td>Moles and melanomas.\\nBiopsy-confirmed melanoc...</td>\n",
       "      <td>CC-0</td>\n",
       "      <td>UDA-1</td>\n",
       "      <td>...</td>\n",
       "      <td>NaN</td>\n",
       "      <td>bar</td>\n",
       "      <td>NaN</td>\n",
       "      <td>NaN</td>\n",
       "      <td>ISIC_0000004</td>\n",
       "      <td>True</td>\n",
       "      <td>2014-11-10T02:39:56.492000+00:00</td>\n",
       "      <td>5436c6e7bae4780a676c8f93</td>\n",
       "      <td>[ISBI 2016: Training, ISBI 2017: Training, Cha...</td>\n",
       "      <td>2015-02-23T02:48:57.303000+00:00</td>\n",
       "    </tr>\n",
       "  </tbody>\n",
       "</table>\n",
       "<p>5 rows × 70 columns</p>\n",
       "</div>"
      ],
      "text/plain": [
       "                        _id _modelType                           created  \\\n",
       "0  5436e3abbae478396759f0cf      image  2014-10-09T19:36:11.989000+00:00   \n",
       "1  5436e3acbae478396759f0d1      image  2014-10-09T19:36:12.070000+00:00   \n",
       "2  5436e3acbae478396759f0d3      image  2014-10-09T19:36:12.152000+00:00   \n",
       "3  5436e3acbae478396759f0d5      image  2014-10-09T19:36:12.233000+00:00   \n",
       "4  5436e3acbae478396759f0d7      image  2014-10-09T19:36:12.315000+00:00   \n",
       "\n",
       "                creator._id creator.name  dataset._accessLevel  \\\n",
       "0  5450e996bae47865794e4d0d    User 6VSN                     0   \n",
       "1  5450e996bae47865794e4d0d    User 6VSN                     0   \n",
       "2  5450e996bae47865794e4d0d    User 6VSN                     0   \n",
       "3  5450e996bae47865794e4d0d    User 6VSN                     0   \n",
       "4  5450e996bae47865794e4d0d    User 6VSN                     0   \n",
       "\n",
       "                dataset._id  \\\n",
       "0  5a2ecc5e1165975c945942a2   \n",
       "1  5a2ecc5e1165975c945942a2   \n",
       "2  5a2ecc5e1165975c945942a2   \n",
       "3  5a2ecc5e1165975c945942a2   \n",
       "4  5a2ecc5e1165975c945942a2   \n",
       "\n",
       "                                 dataset.description dataset.license  \\\n",
       "0  Moles and melanomas.\\nBiopsy-confirmed melanoc...            CC-0   \n",
       "1  Moles and melanomas.\\nBiopsy-confirmed melanoc...            CC-0   \n",
       "2  Moles and melanomas.\\nBiopsy-confirmed melanoc...            CC-0   \n",
       "3  Moles and melanomas.\\nBiopsy-confirmed melanoc...            CC-0   \n",
       "4  Moles and melanomas.\\nBiopsy-confirmed melanoc...            CC-0   \n",
       "\n",
       "  dataset.name                ...                meta.unstructured.race  \\\n",
       "0        UDA-1                ...                                   NaN   \n",
       "1        UDA-1                ...                                   NaN   \n",
       "2        UDA-1                ...                                   NaN   \n",
       "3        UDA-1                ...                                   NaN   \n",
       "4        UDA-1                ...                                   NaN   \n",
       "\n",
       "  meta.unstructured.site meta.unstructured.ulcer  meta.unstructured.vertical  \\\n",
       "0                    bar                     NaN                         NaN   \n",
       "1                    bar                     NaN                         NaN   \n",
       "2                    bar                     NaN                         NaN   \n",
       "3                    bar                     NaN                         NaN   \n",
       "4                    bar                     NaN                         NaN   \n",
       "\n",
       "           name notes.reviewed.accepted               notes.reviewed.time  \\\n",
       "0  ISIC_0000000                    True  2014-11-10T02:39:56.492000+00:00   \n",
       "1  ISIC_0000001                    True  2014-11-10T02:39:56.492000+00:00   \n",
       "2  ISIC_0000002                    True  2014-11-10T02:39:56.492000+00:00   \n",
       "3  ISIC_0000003                    True  2014-11-10T02:39:56.492000+00:00   \n",
       "4  ISIC_0000004                    True  2014-11-10T02:39:56.492000+00:00   \n",
       "\n",
       "      notes.reviewed.userId  \\\n",
       "0  5436c6e7bae4780a676c8f93   \n",
       "1  5436c6e7bae4780a676c8f93   \n",
       "2  5436c6e7bae4780a676c8f93   \n",
       "3  5436c6e7bae4780a676c8f93   \n",
       "4  5436c6e7bae4780a676c8f93   \n",
       "\n",
       "                                          notes.tags  \\\n",
       "0  [ISBI 2016: Training, ISBI 2017: Training, Cha...   \n",
       "1  [ISBI 2016: Training, ISBI 2017: Training, Cha...   \n",
       "2         [ISBI 2016: Training, ISBI 2017: Training]   \n",
       "3  [ISBI 2016: Test, ISBI 2017: Training, Challen...   \n",
       "4  [ISBI 2016: Training, ISBI 2017: Training, Cha...   \n",
       "\n",
       "                            updated  \n",
       "0  2015-02-23T02:48:17.495000+00:00  \n",
       "1  2015-02-23T02:48:27.455000+00:00  \n",
       "2  2015-02-23T02:48:37.249000+00:00  \n",
       "3  2015-02-23T02:48:46.021000+00:00  \n",
       "4  2015-02-23T02:48:57.303000+00:00  \n",
       "\n",
       "[5 rows x 70 columns]"
      ]
     },
     "execution_count": 8,
     "metadata": {},
     "output_type": "execute_result"
    }
   ],
   "source": [
    "df.head()"
   ]
  },
  {
   "cell_type": "code",
   "execution_count": 9,
   "metadata": {},
   "outputs": [
    {
     "data": {
      "text/plain": [
       "Index(['_id', '_modelType', 'created', 'creator._id', 'creator.name',\n",
       "       'dataset._accessLevel', 'dataset._id', 'dataset.description',\n",
       "       'dataset.license', 'dataset.name', 'dataset.updated',\n",
       "       'meta.acquisition.dermoscopic_type', 'meta.acquisition.image_type',\n",
       "       'meta.acquisition.pixelsX', 'meta.acquisition.pixelsY',\n",
       "       'meta.clinical.age_approx', 'meta.clinical.anatom_site_general',\n",
       "       'meta.clinical.benign_malignant',\n",
       "       'meta.clinical.clin_size_long_diam_mm', 'meta.clinical.diagnosis',\n",
       "       'meta.clinical.diagnosis_confirm_type', 'meta.clinical.family_hx_mm',\n",
       "       'meta.clinical.mel_class', 'meta.clinical.mel_thick_mm',\n",
       "       'meta.clinical.melanocytic', 'meta.clinical.nevus_type',\n",
       "       'meta.clinical.personal_hx_mm', 'meta.clinical.sex',\n",
       "       'meta.unstructured.Breslow', 'meta.unstructured.Clark',\n",
       "       'meta.unstructured.Location', 'meta.unstructured.anatom_site_general',\n",
       "       'meta.unstructured.anatomic', 'meta.unstructured.biopsy done',\n",
       "       'meta.unstructured.change', 'meta.unstructured.changedtypeapr02_2015',\n",
       "       'meta.unstructured.clinical diagnosis/impression',\n",
       "       'meta.unstructured.diagnosis', 'meta.unstructured.diagnosis_short',\n",
       "       'meta.unstructured.grade', 'meta.unstructured.id1',\n",
       "       'meta.unstructured.laterality', 'meta.unstructured.lesion id',\n",
       "       'meta.unstructured.lesion_id', 'meta.unstructured.localization',\n",
       "       'meta.unstructured.location', 'meta.unstructured.mel_assoc_nev',\n",
       "       'meta.unstructured.mel_assoc_nevus', 'meta.unstructured.mel_class',\n",
       "       'meta.unstructured.mel_mit', 'meta.unstructured.mel_thick',\n",
       "       'meta.unstructured.mel_type', 'meta.unstructured.pathology diagnosis',\n",
       "       'meta.unstructured.pathology diagnosis subtype',\n",
       "       'meta.unstructured.pathology report available',\n",
       "       'meta.unstructured.patient', 'meta.unstructured.patientlocation',\n",
       "       'meta.unstructured.previous biopsy', 'meta.unstructured.ptconcern',\n",
       "       'meta.unstructured.quantloc', 'meta.unstructured.race',\n",
       "       'meta.unstructured.site', 'meta.unstructured.ulcer',\n",
       "       'meta.unstructured.vertical', 'name', 'notes.reviewed.accepted',\n",
       "       'notes.reviewed.time', 'notes.reviewed.userId', 'notes.tags',\n",
       "       'updated'],\n",
       "      dtype='object')"
      ]
     },
     "execution_count": 9,
     "metadata": {},
     "output_type": "execute_result"
    }
   ],
   "source": [
    "df.columns"
   ]
  },
  {
   "cell_type": "code",
   "execution_count": 10,
   "metadata": {},
   "outputs": [],
   "source": [
    "import pickle\n",
    "name=\"isic_data\"\n",
    "pickle.dump(df,open(name,\"wb\"))"
   ]
  },
  {
   "cell_type": "code",
   "execution_count": 5,
   "metadata": {},
   "outputs": [],
   "source": [
    "import pickle\n",
    "name=\"isic_data\"\n",
    "df=pickle.load(open(name,\"rb\"))"
   ]
  },
  {
   "cell_type": "code",
   "execution_count": 6,
   "metadata": {},
   "outputs": [
    {
     "data": {
      "text/plain": [
       "array(['benign', 'malignant', 'indeterminate', None,\n",
       "       'indeterminate/benign', 'indeterminate/malignant', nan],\n",
       "      dtype=object)"
      ]
     },
     "execution_count": 6,
     "metadata": {},
     "output_type": "execute_result"
    }
   ],
   "source": [
    "df['meta.clinical.benign_malignant'].unique()"
   ]
  },
  {
   "cell_type": "code",
   "execution_count": 8,
   "metadata": {},
   "outputs": [],
   "source": [
    "benign=df[df['meta.clinical.benign_malignant']=='benign']\n",
    "malignant=df[df['meta.clinical.benign_malignant']=='malignant']"
   ]
  },
  {
   "cell_type": "code",
   "execution_count": 9,
   "metadata": {},
   "outputs": [
    {
     "data": {
      "text/plain": [
       "70    311\n",
       "65    281\n",
       "55    229\n",
       "85    219\n",
       "60    203\n",
       "75    187\n",
       "80    186\n",
       "50    171\n",
       "45    126\n",
       "40     93\n",
       "35     68\n",
       "30     61\n",
       "25     37\n",
       "20      7\n",
       "15      7\n",
       "10      1\n",
       "5       1\n",
       "Name: meta.clinical.age_approx, dtype: int64"
      ]
     },
     "execution_count": 9,
     "metadata": {},
     "output_type": "execute_result"
    }
   ],
   "source": [
    "malignant['meta.clinical.age_approx'].value_counts(dropna=True)"
   ]
  },
  {
   "cell_type": "code",
   "execution_count": 19,
   "metadata": {},
   "outputs": [],
   "source": [
    "malig_age=np.sort(malignant['meta.clinical.age_approx'].dropna())"
   ]
  },
  {
   "cell_type": "code",
   "execution_count": 20,
   "metadata": {},
   "outputs": [
    {
     "data": {
      "image/png": "[encoded data removed]",
      "text/plain": [
       "<Figure size 432x288 with 1 Axes>"
      ]
     },
     "metadata": {
      "needs_background": "light"
     },
     "output_type": "display_data"
    }
   ],
   "source": [
    "plt.hist(malig_age.tolist(),bins=10,density=True)\n",
    "plt.xticks(np.arange(0, 95, 5))\n",
    "plt.show()"
   ]
  },
  {
   "cell_type": "code",
   "execution_count": 21,
   "metadata": {},
   "outputs": [
    {
     "name": "stdout",
     "output_type": "stream",
     "text": [
      "62.00411334552103 15.77792297108487\n"
     ]
    }
   ],
   "source": [
    "malig_mean=np.mean(malig_age)\n",
    "malig_std=np.std(malig_age)\n",
    "print(malig_mean,malig_std)"
   ]
  },
  {
   "cell_type": "code",
   "execution_count": 23,
   "metadata": {},
   "outputs": [],
   "source": [
    "def ecdf(data):\n",
    "    \"\"\"Compute ECDF for a one-dimensional array of measurements.\"\"\"\n",
    "    # Number of data points: n\n",
    "    n = len(data)\n",
    "\n",
    "    # x-data for the ECDF: x\n",
    "    x = np.sort(data)\n",
    "\n",
    "    # y-data for the ECDF: y\n",
    "    y = np.arange(1, n+1) / n\n",
    "\n",
    "    return x, y"
   ]
  },
  {
   "cell_type": "code",
   "execution_count": 24,
   "metadata": {},
   "outputs": [
    {
     "data": {
      "text/plain": [
       "[<matplotlib.lines.Line2D at 0x1ef0e7046d8>]"
      ]
     },
     "execution_count": 24,
     "metadata": {},
     "output_type": "execute_result"
    },
    {
     "data": {
      "image/png": "[encoded data removed]",
      "text/plain": [
       "<Figure size 432x288 with 1 Axes>"
      ]
     },
     "metadata": {
      "needs_background": "light"
     },
     "output_type": "display_data"
    }
   ],
   "source": [
    "malig_samples=np.random.normal(malig_mean,malig_std,size=1000)\n",
    "\n",
    "x_norm,y_norm=ecdf(malig_samples)\n",
    "x,y=ecdf(malig_age)\n",
    "\n",
    "plt.plot(x_norm,y_norm)\n",
    "plt.plot(x,y, marker='.',linestyle='none')"
   ]
  },
  {
   "cell_type": "code",
   "execution_count": 15,
   "metadata": {},
   "outputs": [
    {
     "data": {
      "text/plain": [
       "15    7855\n",
       "10    1596\n",
       "45    1408\n",
       "50    1214\n",
       "40    1107\n",
       "55     916\n",
       "35     896\n",
       "60     761\n",
       "30     655\n",
       "65     609\n",
       "70     452\n",
       "25     417\n",
       "75     393\n",
       "20     249\n",
       "85     237\n",
       "80     192\n",
       "5       86\n",
       "0       33\n",
       "Name: meta.clinical.age_approx, dtype: int64"
      ]
     },
     "execution_count": 15,
     "metadata": {},
     "output_type": "execute_result"
    }
   ],
   "source": [
    "benign['meta.clinical.age_approx'].value_counts(dropna=True)"
   ]
  },
  {
   "cell_type": "code",
   "execution_count": 26,
   "metadata": {},
   "outputs": [],
   "source": [
    "ben_age=np.sort(benign['meta.clinical.age_approx'].dropna())"
   ]
  },
  {
   "cell_type": "code",
   "execution_count": 29,
   "metadata": {},
   "outputs": [
    {
     "name": "stdout",
     "output_type": "stream",
     "text": [
      "31.51682742713357 20.651396162782493\n"
     ]
    }
   ],
   "source": [
    "ben_mean=np.mean(ben_age)\n",
    "ben_std=np.std(ben_age)\n",
    "print(ben_mean,ben_std)"
   ]
  },
  {
   "cell_type": "code",
   "execution_count": 28,
   "metadata": {},
   "outputs": [
    {
     "data": {
      "text/plain": [
       "[<matplotlib.lines.Line2D at 0x1ef0e2f3b38>]"
      ]
     },
     "execution_count": 28,
     "metadata": {},
     "output_type": "execute_result"
    },
    {
     "data": {
      "image/png": "[encoded data removed]",
      "text/plain": [
       "<Figure size 432x288 with 1 Axes>"
      ]
     },
     "metadata": {
      "needs_background": "light"
     },
     "output_type": "display_data"
    }
   ],
   "source": [
    "ben_samples=np.random.normal(ben_mean,ben_std,size=1000)\n",
    "\n",
    "x_norm,y_norm=ecdf(ben_samples)\n",
    "x,y=ecdf(ben_age)\n",
    "\n",
    "plt.plot(x_norm,y_norm)\n",
    "plt.plot(x,y, marker='.',linestyle='none')"
   ]
  },
  {
   "cell_type": "code",
   "execution_count": 18,
   "metadata": {},
   "outputs": [
    {
     "data": {
      "image/png": "[encoded data removed]",
      "text/plain": [
       "<Figure size 432x288 with 1 Axes>"
      ]
     },
     "metadata": {
      "needs_background": "light"
     },
     "output_type": "display_data"
    }
   ],
   "source": [
    "plt.hist(ben_age,bins=30,density=True)\n",
    "plt.xticks(np.arange(0, 95, 5))\n",
    "plt.show()"
   ]
  },
  {
   "cell_type": "code",
   "execution_count": 34,
   "metadata": {},
   "outputs": [
    {
     "name": "stdout",
     "output_type": "stream",
     "text": [
      "49.126867241742055 15.256254897497563\n"
     ]
    },
    {
     "data": {
      "image/png": "[encoded data removed]",
      "text/plain": [
       "<Figure size 432x288 with 1 Axes>"
      ]
     },
     "metadata": {
      "needs_background": "light"
     },
     "output_type": "display_data"
    }
   ],
   "source": [
    "ben_age_noteen=[i for i in ben_age if i>19]\n",
    "ben_mean=np.mean(ben_age_noteen)\n",
    "ben_std=np.std(ben_age_noteen)\n",
    "print(ben_mean,ben_std)\n",
    "plt.hist(ben_age_noteen,bins=30,density=True)\n",
    "plt.xticks(np.arange(0, 95, 5))\n",
    "plt.show()"
   ]
  },
  {
   "cell_type": "code",
   "execution_count": 35,
   "metadata": {},
   "outputs": [
    {
     "name": "stdout",
     "output_type": "stream",
     "text": [
      "62.20513997246443 15.495181302998938\n"
     ]
    },
    {
     "data": {
      "image/png": "[encoded data removed]",
      "text/plain": [
       "<Figure size 432x288 with 1 Axes>"
      ]
     },
     "metadata": {
      "needs_background": "light"
     },
     "output_type": "display_data"
    }
   ],
   "source": [
    "mal_age_noteen=[i for i in malig_age if i>19]\n",
    "mal_mean=np.mean(mal_age_noteen)\n",
    "mal_std=np.std(mal_age_noteen)\n",
    "print(mal_mean,mal_std)\n",
    "plt.hist(mal_age_noteen,bins=30,density=True)\n",
    "plt.xticks(np.arange(0, 95, 5))\n",
    "plt.show()"
   ]
  },
  {
   "cell_type": "markdown",
   "metadata": {},
   "source": [
    "while malignant data is relatively normal, benign data is not at all normal\n",
    "\n",
    "\n",
    "The benign data has much lower average age than malignant, probably due to overwhelmingly more number of teens.\n",
    "\n",
    "Even if we only count patients from 20 years old or older, however, the mean of the patients without melanoma is much younger than those who were diagnosed with melanoma"
   ]
  },
  {
   "cell_type": "code",
   "execution_count": 92,
   "metadata": {},
   "outputs": [
    {
     "name": "stdout",
     "output_type": "stream",
     "text": [
      "posterior torso    3209\n",
      "lower extremity    3145\n",
      "anterior torso     2127\n",
      "upper extremity    1920\n",
      "head/neck          1690\n",
      "lateral torso        75\n",
      "palms/soles          30\n",
      "Name: meta.clinical.anatom_site_general, dtype: int64\n"
     ]
    }
   ],
   "source": [
    "mole_positions=df['meta.clinical.anatom_site_general'].dropna()\n",
    "num_data=mole_positions.value_counts()\n",
    "print(num_data)"
   ]
  },
  {
   "cell_type": "code",
   "execution_count": 93,
   "metadata": {},
   "outputs": [],
   "source": [
    "import seaborn as sns"
   ]
  },
  {
   "cell_type": "code",
   "execution_count": 96,
   "metadata": {},
   "outputs": [
    {
     "data": {
      "text/plain": [
       "Text(0.5,0,'positions of moles')"
      ]
     },
     "execution_count": 96,
     "metadata": {},
     "output_type": "execute_result"
    },
    {
     "data": {
      "image/png": "[encoded data removed]",
      "text/plain": [
       "<Figure size 432x288 with 1 Axes>"
      ]
     },
     "metadata": {
      "needs_background": "light"
     },
     "output_type": "display_data"
    }
   ],
   "source": [
    "ax=sns.countplot(x=mole_positions.index,data=data1)\n",
    "ax.set_xticklabels(mole_positions.unique(),rotation=70)\n",
    "ax.set_xlabel(\"positions of moles\")"
   ]
  },
  {
   "cell_type": "code",
   "execution_count": 110,
   "metadata": {},
   "outputs": [],
   "source": [
    "import pandas as pd"
   ]
  },
  {
   "cell_type": "code",
   "execution_count": 127,
   "metadata": {},
   "outputs": [],
   "source": [
    "benign_positions=benign['meta.clinical.anatom_site_general'].dropna()\n",
    "benign_counts=benign_positions.value_counts(normalize=True).to_frame()"
   ]
  },
  {
   "cell_type": "code",
   "execution_count": 126,
   "metadata": {},
   "outputs": [],
   "source": [
    "malignant_positions=malignant['meta.clinical.anatom_site_general'].dropna()\n",
    "malignant_counts=malignant_positions.value_counts(normalize=True).to_frame()"
   ]
  },
  {
   "cell_type": "code",
   "execution_count": 136,
   "metadata": {},
   "outputs": [
    {
     "data": {
      "text/plain": [
       "<matplotlib.legend.Legend at 0x1ef141118d0>"
      ]
     },
     "execution_count": 136,
     "metadata": {},
     "output_type": "execute_result"
    },
    {
     "data": {
      "image/png": "[encoded data removed]",
      "text/plain": [
       "<Figure size 432x288 with 1 Axes>"
      ]
     },
     "metadata": {
      "needs_background": "light"
     },
     "output_type": "display_data"
    }
   ],
   "source": [
    "ax=pd.concat({'Malignant':malignant_counts,'Benign':benign_counts}, axis=1,sort=False).plot.bar()\n",
    "ax.legend(['Benign','Malignant'])"
   ]
  },
  {
   "cell_type": "markdown",
   "metadata": {},
   "source": [
    "The mole on the head or neck are more likely to be malignant than not. This may be due to melanoma developing from exposure to UV light as head and neck is most likely to be exposed to direct sunlight.\n",
    "This may also explain why more moles on the upper part of the body is more likely to have malignant mole than the lower extremity."
   ]
  },
  {
   "cell_type": "code",
   "execution_count": 119,
   "metadata": {},
   "outputs": [
    {
     "name": "stdout",
     "output_type": "stream",
     "text": [
      "lower extremity    2321\n",
      "posterior torso    2222\n",
      "anterior torso     1625\n",
      "upper extremity    1177\n",
      "head/neck           630\n",
      "lateral torso        59\n",
      "palms/soles          22\n",
      "Name: meta.clinical.anatom_site_general, dtype: int64\n"
     ]
    }
   ],
   "source": [
    "print(benign_counts)"
   ]
  },
  {
   "cell_type": "code",
   "execution_count": 102,
   "metadata": {},
   "outputs": [
    {
     "name": "stderr",
     "output_type": "stream",
     "text": [
      "C:\\Users\\shshi\\Anaconda3\\lib\\site-packages\\pandas\\core\\series.py:842: FutureWarning: \n",
      "Passing list-likes to .loc or [] with any missing label will raise\n",
      "KeyError in the future, you can use .reindex() as an alternative.\n",
      "\n",
      "See the documentation here:\n",
      "https://pandas.pydata.org/pandas-docs/stable/indexing.html#deprecate-loc-reindex-listlike\n",
      "  return self.loc[key]\n"
     ]
    },
    {
     "data": {
      "text/plain": [
       "Text(0.5,0,'positions of malignant moles')"
      ]
     },
     "execution_count": 102,
     "metadata": {},
     "output_type": "execute_result"
    },
    {
     "data": {
      "image/png": "[encoded data removed]",
      "text/plain": [
       "<Figure size 432x288 with 1 Axes>"
      ]
     },
     "metadata": {
      "needs_background": "light"
     },
     "output_type": "display_data"
    }
   ],
   "source": [
    "ax=sns.countplot(x=mole_positions.index,data=mela_positions)\n",
    "ax.set_xticklabels(mole_positions.unique(),rotation=70)\n",
    "ax.set_xlabel(\"positions of malignant moles\")"
   ]
  },
  {
   "cell_type": "code",
   "execution_count": null,
   "metadata": {},
   "outputs": [],
   "source": [
    "def picktraining(category):\n",
    "    \"\"\"Get list of training set of the disease of my choice\"\"\"\n",
    "    random.seed(42)\n",
    "    train=random.sample(disease[category],round(len(disease[category])*0.3))\n",
    "    return train"
   ]
  },
  {
   "cell_type": "code",
   "execution_count": 76,
   "metadata": {},
   "outputs": [],
   "source": [
    "def display(a, title1='original'):\n",
    "    plt.imshow(a),plt.title(title1)\n",
    "    plt.xticks([]),plt.yticks([])\n",
    "    plt.show()\n",
    "\n",
    "def display_two(a,b, title1='original',title2='edited'):\n",
    "    plt.subplot(121),plt.imshow(a),plt.title(title1)\n",
    "    plt.xticks([]),plt.yticks([])\n",
    "    plt.subplot(122),plt.imshow(b),plt.title(title2)\n",
    "    plt.xticks([]),plt.yticks([])\n",
    "    plt.show()"
   ]
  },
  {
   "cell_type": "code",
   "execution_count": 79,
   "metadata": {},
   "outputs": [
    {
     "ename": "TypeError",
     "evalue": "Image data cannot be converted to float",
     "output_type": "error",
     "traceback": [
      "\u001b[1;31m---------------------------------------------------------------------------\u001b[0m",
      "\u001b[1;31mTypeError\u001b[0m                                 Traceback (most recent call last)",
      "\u001b[1;32m<ipython-input-79-203db5257007>\u001b[0m in \u001b[0;36m<module>\u001b[1;34m()\u001b[0m\n\u001b[1;32m----> 1\u001b[1;33m \u001b[0mdisplay\u001b[0m\u001b[1;33m(\u001b[0m\u001b[0mpath\u001b[0m\u001b[1;33m+\u001b[0m\u001b[1;34m'/'\u001b[0m\u001b[1;33m+\u001b[0m\u001b[0mpics\u001b[0m\u001b[1;33m[\u001b[0m\u001b[1;36m0\u001b[0m\u001b[1;33m]\u001b[0m\u001b[1;33m)\u001b[0m\u001b[1;33m\u001b[0m\u001b[0m\n\u001b[0m",
      "\u001b[1;32m<ipython-input-76-4e63bfad261b>\u001b[0m in \u001b[0;36mdisplay\u001b[1;34m(a, title1)\u001b[0m\n\u001b[0;32m      1\u001b[0m \u001b[1;32mdef\u001b[0m \u001b[0mdisplay\u001b[0m\u001b[1;33m(\u001b[0m\u001b[0ma\u001b[0m\u001b[1;33m,\u001b[0m \u001b[0mtitle1\u001b[0m\u001b[1;33m=\u001b[0m\u001b[1;34m'original'\u001b[0m\u001b[1;33m)\u001b[0m\u001b[1;33m:\u001b[0m\u001b[1;33m\u001b[0m\u001b[0m\n\u001b[1;32m----> 2\u001b[1;33m     \u001b[0mplt\u001b[0m\u001b[1;33m.\u001b[0m\u001b[0mimshow\u001b[0m\u001b[1;33m(\u001b[0m\u001b[0ma\u001b[0m\u001b[1;33m)\u001b[0m\u001b[1;33m,\u001b[0m\u001b[0mplt\u001b[0m\u001b[1;33m.\u001b[0m\u001b[0mtitle\u001b[0m\u001b[1;33m(\u001b[0m\u001b[0mtitle1\u001b[0m\u001b[1;33m)\u001b[0m\u001b[1;33m\u001b[0m\u001b[0m\n\u001b[0m\u001b[0;32m      3\u001b[0m     \u001b[0mplt\u001b[0m\u001b[1;33m.\u001b[0m\u001b[0mxticks\u001b[0m\u001b[1;33m(\u001b[0m\u001b[1;33m[\u001b[0m\u001b[1;33m]\u001b[0m\u001b[1;33m)\u001b[0m\u001b[1;33m,\u001b[0m\u001b[0mplt\u001b[0m\u001b[1;33m.\u001b[0m\u001b[0myticks\u001b[0m\u001b[1;33m(\u001b[0m\u001b[1;33m[\u001b[0m\u001b[1;33m]\u001b[0m\u001b[1;33m)\u001b[0m\u001b[1;33m\u001b[0m\u001b[0m\n\u001b[0;32m      4\u001b[0m     \u001b[0mplt\u001b[0m\u001b[1;33m.\u001b[0m\u001b[0mshow\u001b[0m\u001b[1;33m(\u001b[0m\u001b[1;33m)\u001b[0m\u001b[1;33m\u001b[0m\u001b[0m\n\u001b[0;32m      5\u001b[0m \u001b[1;33m\u001b[0m\u001b[0m\n",
      "\u001b[1;32m~\\Anaconda3\\lib\\site-packages\\matplotlib\\pyplot.py\u001b[0m in \u001b[0;36mimshow\u001b[1;34m(X, cmap, norm, aspect, interpolation, alpha, vmin, vmax, origin, extent, shape, filternorm, filterrad, imlim, resample, url, hold, data, **kwargs)\u001b[0m\n\u001b[0;32m   3208\u001b[0m                         \u001b[0mfilternorm\u001b[0m\u001b[1;33m=\u001b[0m\u001b[0mfilternorm\u001b[0m\u001b[1;33m,\u001b[0m \u001b[0mfilterrad\u001b[0m\u001b[1;33m=\u001b[0m\u001b[0mfilterrad\u001b[0m\u001b[1;33m,\u001b[0m\u001b[1;33m\u001b[0m\u001b[0m\n\u001b[0;32m   3209\u001b[0m                         \u001b[0mimlim\u001b[0m\u001b[1;33m=\u001b[0m\u001b[0mimlim\u001b[0m\u001b[1;33m,\u001b[0m \u001b[0mresample\u001b[0m\u001b[1;33m=\u001b[0m\u001b[0mresample\u001b[0m\u001b[1;33m,\u001b[0m \u001b[0murl\u001b[0m\u001b[1;33m=\u001b[0m\u001b[0murl\u001b[0m\u001b[1;33m,\u001b[0m \u001b[0mdata\u001b[0m\u001b[1;33m=\u001b[0m\u001b[0mdata\u001b[0m\u001b[1;33m,\u001b[0m\u001b[1;33m\u001b[0m\u001b[0m\n\u001b[1;32m-> 3210\u001b[1;33m                         **kwargs)\n\u001b[0m\u001b[0;32m   3211\u001b[0m     \u001b[1;32mfinally\u001b[0m\u001b[1;33m:\u001b[0m\u001b[1;33m\u001b[0m\u001b[0m\n\u001b[0;32m   3212\u001b[0m         \u001b[0max\u001b[0m\u001b[1;33m.\u001b[0m\u001b[0m_hold\u001b[0m \u001b[1;33m=\u001b[0m \u001b[0mwashold\u001b[0m\u001b[1;33m\u001b[0m\u001b[0m\n",
      "\u001b[1;32m~\\Anaconda3\\lib\\site-packages\\matplotlib\\__init__.py\u001b[0m in \u001b[0;36minner\u001b[1;34m(ax, *args, **kwargs)\u001b[0m\n\u001b[0;32m   1865\u001b[0m                         \u001b[1;34m\"the Matplotlib list!)\"\u001b[0m \u001b[1;33m%\u001b[0m \u001b[1;33m(\u001b[0m\u001b[0mlabel_namer\u001b[0m\u001b[1;33m,\u001b[0m \u001b[0mfunc\u001b[0m\u001b[1;33m.\u001b[0m\u001b[0m__name__\u001b[0m\u001b[1;33m)\u001b[0m\u001b[1;33m,\u001b[0m\u001b[1;33m\u001b[0m\u001b[0m\n\u001b[0;32m   1866\u001b[0m                         RuntimeWarning, stacklevel=2)\n\u001b[1;32m-> 1867\u001b[1;33m             \u001b[1;32mreturn\u001b[0m \u001b[0mfunc\u001b[0m\u001b[1;33m(\u001b[0m\u001b[0max\u001b[0m\u001b[1;33m,\u001b[0m \u001b[1;33m*\u001b[0m\u001b[0margs\u001b[0m\u001b[1;33m,\u001b[0m \u001b[1;33m**\u001b[0m\u001b[0mkwargs\u001b[0m\u001b[1;33m)\u001b[0m\u001b[1;33m\u001b[0m\u001b[0m\n\u001b[0m\u001b[0;32m   1868\u001b[0m \u001b[1;33m\u001b[0m\u001b[0m\n\u001b[0;32m   1869\u001b[0m         inner.__doc__ = _add_data_doc(inner.__doc__,\n",
      "\u001b[1;32m~\\Anaconda3\\lib\\site-packages\\matplotlib\\axes\\_axes.py\u001b[0m in \u001b[0;36mimshow\u001b[1;34m(self, X, cmap, norm, aspect, interpolation, alpha, vmin, vmax, origin, extent, shape, filternorm, filterrad, imlim, resample, url, **kwargs)\u001b[0m\n\u001b[0;32m   5499\u001b[0m                               resample=resample, **kwargs)\n\u001b[0;32m   5500\u001b[0m \u001b[1;33m\u001b[0m\u001b[0m\n\u001b[1;32m-> 5501\u001b[1;33m         \u001b[0mim\u001b[0m\u001b[1;33m.\u001b[0m\u001b[0mset_data\u001b[0m\u001b[1;33m(\u001b[0m\u001b[0mX\u001b[0m\u001b[1;33m)\u001b[0m\u001b[1;33m\u001b[0m\u001b[0m\n\u001b[0m\u001b[0;32m   5502\u001b[0m         \u001b[0mim\u001b[0m\u001b[1;33m.\u001b[0m\u001b[0mset_alpha\u001b[0m\u001b[1;33m(\u001b[0m\u001b[0malpha\u001b[0m\u001b[1;33m)\u001b[0m\u001b[1;33m\u001b[0m\u001b[0m\n\u001b[0;32m   5503\u001b[0m         \u001b[1;32mif\u001b[0m \u001b[0mim\u001b[0m\u001b[1;33m.\u001b[0m\u001b[0mget_clip_path\u001b[0m\u001b[1;33m(\u001b[0m\u001b[1;33m)\u001b[0m \u001b[1;32mis\u001b[0m \u001b[1;32mNone\u001b[0m\u001b[1;33m:\u001b[0m\u001b[1;33m\u001b[0m\u001b[0m\n",
      "\u001b[1;32m~\\Anaconda3\\lib\\site-packages\\matplotlib\\image.py\u001b[0m in \u001b[0;36mset_data\u001b[1;34m(self, A)\u001b[0m\n\u001b[0;32m    648\u001b[0m         if (self._A.dtype != np.uint8 and\n\u001b[0;32m    649\u001b[0m                 not np.can_cast(self._A.dtype, float, \"same_kind\")):\n\u001b[1;32m--> 650\u001b[1;33m             \u001b[1;32mraise\u001b[0m \u001b[0mTypeError\u001b[0m\u001b[1;33m(\u001b[0m\u001b[1;34m\"Image data cannot be converted to float\"\u001b[0m\u001b[1;33m)\u001b[0m\u001b[1;33m\u001b[0m\u001b[0m\n\u001b[0m\u001b[0;32m    651\u001b[0m \u001b[1;33m\u001b[0m\u001b[0m\n\u001b[0;32m    652\u001b[0m         if not (self._A.ndim == 2\n",
      "\u001b[1;31mTypeError\u001b[0m: Image data cannot be converted to float"
     ]
    },
    {
     "data": {
      "image/png": "[encoded data removed]",
      "text/plain": [
       "<Figure size 432x288 with 1 Axes>"
      ]
     },
     "metadata": {
      "needs_background": "light"
     },
     "output_type": "display_data"
    }
   ],
   "source": [
    "display(path+'/'+pics[0])"
   ]
  },
  {
   "cell_type": "code",
   "execution_count": null,
   "metadata": {},
   "outputs": [],
   "source": []
  }
 ],
 "metadata": {
  "kernelspec": {
   "display_name": "Python 3",
   "language": "python",
   "name": "python3"
  },
  "language_info": {
   "codemirror_mode": {
    "name": "ipython",
    "version": 3
   },
   "file_extension": ".py",
   "mimetype": "text/x-python",
   "name": "python",
   "nbconvert_exporter": "python",
   "pygments_lexer": "ipython3",
   "version": "3.7.0"
  }
 },
 "nbformat": 4,
 "nbformat_minor": 2
}
