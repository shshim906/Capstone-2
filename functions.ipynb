{
 "cells": [
  {
   "cell_type": "code",
   "execution_count": 1,
   "metadata": {},
   "outputs": [
    {
     "name": "stderr",
     "output_type": "stream",
     "text": [
      "Using TensorFlow backend.\n"
     ]
    }
   ],
   "source": [
    "from keras.preprocessing.image import ImageDataGenerator, array_to_img, img_to_array, load_img\n",
    "from skimage.io import imread, imshow, concatenate_images\n",
    "from skimage.transform import resize\n",
    "import numpy as np\n",
    "import cv2\n",
    "import matplotlib.pyplot as plt\n",
    "import os\n",
    "from numpy import array, newaxis, expand_dims"
   ]
  },
  {
   "cell_type": "code",
   "execution_count": 2,
   "metadata": {},
   "outputs": [],
   "source": [
    "def call_image(path):\n",
    "    img=cv2.imread(path, cv2.IMREAD_COLOR)[...,::-1]\n",
    "    return img"
   ]
  },
  {
   "cell_type": "code",
   "execution_count": 3,
   "metadata": {},
   "outputs": [],
   "source": [
    "def split_into_rgb_channels(image):\n",
    "    \"\"\"Split the target image into its red, green and blue channels.image - a numpy array of shape (rows, columns, 3).\n",
    "    output - three numpy arrays of shape (rows, columns) and dtype same as\n",
    "    image, containing the corresponding channels.\n",
    "    \"\"\"\n",
    "    red = image[:,:,2]\n",
    "    green = image[:,:,1]\n",
    "    blue = image[:,:,0]\n",
    "    return red, green, blue"
   ]
  },
  {
   "cell_type": "code",
   "execution_count": 4,
   "metadata": {},
   "outputs": [],
   "source": [
    "def denoise(image):\n",
    "    norm_image = cv2.normalize(image, None, alpha=0, beta=255, norm_type=cv2.NORM_MINMAX, dtype=cv2.CV_8UC1)\n",
    "    img=norm_image\n",
    "    r,g,b=split_into_rgb_channels(img)\n",
    "    gaussian = cv2.GaussianBlur(b,(3,3),0)\n",
    "    return gaussian"
   ]
  },
  {
   "cell_type": "code",
   "execution_count": 5,
   "metadata": {},
   "outputs": [],
   "source": [
    "def array_resize(img):\n",
    "    array=img_to_array(img)\n",
    "    array = resize(array, (128, 128, 1), mode = 'constant', \n",
    "                  preserve_range = True)\n",
    "    array=array/255.0\n",
    "    array=array[newaxis,:,:,:]\n",
    "    return array"
   ]
  },
  {
   "cell_type": "code",
   "execution_count": 6,
   "metadata": {},
   "outputs": [],
   "source": [
    "def prediction(model, img):\n",
    "    pred=model.predict(img)\n",
    "    preds_t=(pred>0.5).astype(np.uint8)\n",
    "    return pred, preds_t"
   ]
  },
  {
   "cell_type": "code",
   "execution_count": 7,
   "metadata": {},
   "outputs": [],
   "source": [
    "import scipy.ndimage as ndimage\n",
    "def mask_w_predicted(pred):\n",
    "    orig_mask=pred.squeeze()\n",
    "    dilated=ndimage.binary_dilation(orig_mask,structure=np.ones((5,5))).astype(orig_mask.dtype)\n",
    "    eroded= ndimage.binary_erosion(dilated).astype(orig_mask.dtype)\n",
    "    mask=eroded\n",
    "    return mask"
   ]
  },
  {
   "cell_type": "code",
   "execution_count": null,
   "metadata": {},
   "outputs": [],
   "source": [
    "def rotate_bound(image, angle,cX,cY):\n",
    "    # grab the dimensions of the image\n",
    "    (h, w) = image.shape[:2] \n",
    "    # grab the rotation matrix, then grab the sine and cosine\n",
    "    # (i.e., the rotation components of the matrix)\n",
    "    M = cv2.getRotationMatrix2D((cX, cY), angle, 1.0)\n",
    "    cos = np.abs(M[0, 0])\n",
    "    sin = np.abs(M[0, 1])\n",
    " \n",
    "    # compute the new bounding dimensions of the image\n",
    "    nW = int((h * sin) + (w * cos))\n",
    "    nH = int((h * cos) + (w * sin))\n",
    " \n",
    "    # adjust the rotation matrix to take into account translation\n",
    "    M[0, 2] += (nW / 2) - cX\n",
    "    M[1, 2] += (nH / 2) - cY\n",
    " \n",
    "    # perform the actual rotation and return the image\n",
    "    return cv2.warpAffine(image, M, (nW, nH))\n"
   ]
  },
  {
   "cell_type": "code",
   "execution_count": 1,
   "metadata": {},
   "outputs": [],
   "source": [
    "def get_mag_ang(img):\n",
    "\n",
    "    \"\"\"\n",
    "    Gets image gradient (magnitude) and orientation (angle)\n",
    "\n",
    "    Args:\n",
    "        img\n",
    "\n",
    "    Returns:\n",
    "        Gradient, orientation\n",
    "    \"\"\"\n",
    "\n",
    "    img = np.sqrt(img)\n",
    "\n",
    "    gx = cv2.Sobel(np.float32(img), cv2.CV_32F, 1, 0)\n",
    "    gy = cv2.Sobel(np.float32(img), cv2.CV_32F, 0, 1)\n",
    "\n",
    "    mag, ang = cv2.cartToPolar(gx, gy)\n",
    "\n",
    "    return mag, ang, gx, gy "
   ]
  },
  {
   "cell_type": "code",
   "execution_count": null,
   "metadata": {},
   "outputs": [],
   "source": []
  }
 ],
 "metadata": {
  "kernelspec": {
   "display_name": "Python 3",
   "language": "python",
   "name": "python3"
  },
  "language_info": {
   "codemirror_mode": {
    "name": "ipython",
    "version": 3
   },
   "file_extension": ".py",
   "mimetype": "text/x-python",
   "name": "python",
   "nbconvert_exporter": "python",
   "pygments_lexer": "ipython3",
   "version": "3.6.8"
  }
 },
 "nbformat": 4,
 "nbformat_minor": 2
}
